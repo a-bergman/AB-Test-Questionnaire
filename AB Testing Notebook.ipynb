{
  "cells": [
    {
      "cell_type": "markdown",
      "metadata": {
        "id": "XXLKjNYoKpC1"
      },
      "source": [
        "## Imports"
      ]
    },
    {
      "cell_type": "code",
      "execution_count": 1,
      "metadata": {
        "colab": {
          "base_uri": "https://localhost:8080/"
        },
        "id": "ROZD5k3jKJCd",
        "outputId": "80eeddeb-0f47-4d5e-b758-e71f97f35d8a"
      },
      "outputs": [
        {
          "name": "stdout",
          "output_type": "stream",
          "text": [
            "Mounted at /content/drive/\n"
          ]
        }
      ],
      "source": [
        "# Basic Imports\n",
        "import random\n",
        "import datetime\n",
        "import sys\n",
        "\n",
        "import pandas            as pd\n",
        "import numpy             as np\n",
        "import scipy.stats       as stats\n",
        "\n",
        "from statsmodels.stats.weightstats import ttest_ind\n",
        "from statsmodels.stats.proportion  import proportions_ztest,confint_proportions_2indep,proportions_chisquare\n",
        "\n",
        "# Data Reading\n",
        "from google.colab import drive\n",
        "drive.mount(\"/content/drive/\", force_remount=True)\n",
        "\n",
        "# Custom Modules\n",
        "sys.path.append('/content/drive/MyDrive/Data Sets/')\n",
        "import graphs\n",
        "import plotly_graphs as pg\n",
        "\n",
        "# Visuals\n",
        "from warnings        import filterwarnings\n",
        "from IPython.display import display, HTML\n",
        "\n",
        "# Set seed for np random\n",
        "SEED = 42\n",
        "np.random.seed(SEED)"
      ]
    },
    {
      "cell_type": "markdown",
      "metadata": {
        "id": "7F6X6vhyMiOg"
      },
      "source": [
        "## Notebook Customization"
      ]
    },
    {
      "cell_type": "code",
      "execution_count": 2,
      "metadata": {
        "colab": {
          "base_uri": "https://localhost:8080/",
          "height": 17
        },
        "id": "q_ZbIlgGLKwo",
        "outputId": "d2127e3a-8068-4d02-892a-2c9a54761032"
      },
      "outputs": [
        {
          "data": {
            "text/html": [
              "<style>.container { width:95% !important; }</style>"
            ],
            "text/plain": [
              "<IPython.core.display.HTML object>"
            ]
          },
          "metadata": {},
          "output_type": "display_data"
        }
      ],
      "source": [
        "# Hiding Warnings\n",
        "filterwarnings('ignore')\n",
        "\n",
        "# Set seed for np random\n",
        "np.random.seed(42)\n",
        "\n",
        "# Making the notebook wider\n",
        "display(HTML(\"<style>.container { width:95% !important; }</style>\"))\n",
        "\n",
        "%matplotlib inline"
      ]
    },
    {
      "cell_type": "markdown",
      "metadata": {
        "id": "0AlJIdB33k1U"
      },
      "source": [
        "## Table Of Contents\n",
        "\n",
        "\n",
        "\n",
        "\n",
        "\n",
        "- [Loading Data](#Loading-Data)\n",
        "- [Part 1 - Exploration](#Exploration)\n",
        "- [Part 2 - Data Cleaning](#Data-Cleaning)\n",
        "    - [Updating Data Type](#Updating-Data-Type)\n",
        "    - [Mapping Values](#Mapping-Values)\n",
        "    - [Creating A Single Target Variable](#Creating-A-Single-Target-Variable)\n",
        "- [Part 3 - Visualization](#Visualization)\n",
        "    - [Reading In Cleaned Data](#Reading-In-Cleaned-Data)\n",
        "    - [Visual - Experiment](#Experiment)\n",
        "    - [Visual - Experiment By Response](#Experiment-By-Response)\n",
        "    - [Visual - Response](#Respone)\n",
        "    - [Visual - Experiment Date](#Experiment-Date)\n",
        "    - [Visual - Experiment Hour](#Experiment-Hour)\n",
        "    - [Visual - Device Make](#Device-Make)\n",
        "    - [Visual - Operating System](#Operating-System)\n",
        "    - [Visual - Browser](#Browser)\n",
        "- [Statistical Testing](#Statistical-Testing)\n",
        "    - [Hypotheses](#Hypotheses)\n",
        "    - [Experiment Alpha](#Experiment-Alpha)\n",
        "    - [General Stats](#General-Stats)\n",
        "    - [Pretesting](#Pretesting)\n",
        "    - [χ<sup>2</sup> Test Of Independence](#χ<sup>2</sup>-Test-Of-Independence)\n",
        "    - [T-test For Means](#T-test-For-Means)\n",
        "    - [Z-test For Proportions](#Z-test-For-Proportions)\n",
        "    - [Testing Summary](#Testing-Summary)\n",
        "- [Part 5 - Conclusions](#Conclusions)"
      ]
    },
    {
      "cell_type": "markdown",
      "metadata": {
        "id": "q9YpvVaGSl09"
      },
      "source": [
        "<a id=\"1\"></a>\n",
        "\n",
        "## Loading Data"
      ]
    },
    {
      "cell_type": "code",
      "execution_count": 3,
      "metadata": {
        "id": "T_mrO6sYMYC9"
      },
      "outputs": [],
      "source": [
        "# Reading in the data set from Google Drive\n",
        "ab_df = pd.read_csv('/content/drive/MyDrive/Data Sets/AdSmartABdata.csv')"
      ]
    },
    {
      "cell_type": "markdown",
      "metadata": {
        "id": "F2z1lQsIShjB"
      },
      "source": [
        "<a id=\"2\"></a>\n",
        "## Part 1 - Exploration"
      ]
    },
    {
      "cell_type": "code",
      "execution_count": 4,
      "metadata": {
        "colab": {
          "base_uri": "https://localhost:8080/",
          "height": 206
        },
        "id": "2oXjl0XbSkxS",
        "outputId": "fcb533f1-2360-46d0-92a4-dfe0cc947a35"
      },
      "outputs": [
        {
          "data": {
            "application/vnd.google.colaboratory.intrinsic+json": {
              "summary": "{\n  \"name\": \"ab_df\",\n  \"rows\": 8077,\n  \"fields\": [\n    {\n      \"column\": \"auction_id\",\n      \"properties\": {\n        \"dtype\": \"string\",\n        \"num_unique_values\": 8077,\n        \"samples\": [\n          \"34da343c-b2cf-452a-a12d-ea3475b4b426\",\n          \"e05daa86-33b5-4607-8168-8c6f475d8cbf\",\n          \"45785b95-514a-4fa8-a094-81df687e3a7d\"\n        ],\n        \"semantic_type\": \"\",\n        \"description\": \"\"\n      }\n    },\n    {\n      \"column\": \"experiment\",\n      \"properties\": {\n        \"dtype\": \"category\",\n        \"num_unique_values\": 2,\n        \"samples\": [\n          \"control\",\n          \"exposed\"\n        ],\n        \"semantic_type\": \"\",\n        \"description\": \"\"\n      }\n    },\n    {\n      \"column\": \"date\",\n      \"properties\": {\n        \"dtype\": \"object\",\n        \"num_unique_values\": 8,\n        \"samples\": [\n          \"2020-07-07\",\n          \"2020-07-04\"\n        ],\n        \"semantic_type\": \"\",\n        \"description\": \"\"\n      }\n    },\n    {\n      \"column\": \"hour\",\n      \"properties\": {\n        \"dtype\": \"number\",\n        \"std\": 5,\n        \"min\": 0,\n        \"max\": 23,\n        \"num_unique_values\": 24,\n        \"samples\": [\n          6,\n          18\n        ],\n        \"semantic_type\": \"\",\n        \"description\": \"\"\n      }\n    },\n    {\n      \"column\": \"device_make\",\n      \"properties\": {\n        \"dtype\": \"category\",\n        \"num_unique_values\": 269,\n        \"samples\": [\n          \"Samsung SM-G975F\",\n          \"Pixel 2\"\n        ],\n        \"semantic_type\": \"\",\n        \"description\": \"\"\n      }\n    },\n    {\n      \"column\": \"platform_os\",\n      \"properties\": {\n        \"dtype\": \"number\",\n        \"std\": 0,\n        \"min\": 5,\n        \"max\": 7,\n        \"num_unique_values\": 3,\n        \"samples\": [\n          6,\n          5\n        ],\n        \"semantic_type\": \"\",\n        \"description\": \"\"\n      }\n    },\n    {\n      \"column\": \"browser\",\n      \"properties\": {\n        \"dtype\": \"category\",\n        \"num_unique_values\": 15,\n        \"samples\": [\n          \"Edge Mobile\",\n          \"Pinterest\"\n        ],\n        \"semantic_type\": \"\",\n        \"description\": \"\"\n      }\n    },\n    {\n      \"column\": \"yes\",\n      \"properties\": {\n        \"dtype\": \"number\",\n        \"std\": 0,\n        \"min\": 0,\n        \"max\": 1,\n        \"num_unique_values\": 2,\n        \"samples\": [\n          1,\n          0\n        ],\n        \"semantic_type\": \"\",\n        \"description\": \"\"\n      }\n    },\n    {\n      \"column\": \"no\",\n      \"properties\": {\n        \"dtype\": \"number\",\n        \"std\": 0,\n        \"min\": 0,\n        \"max\": 1,\n        \"num_unique_values\": 2,\n        \"samples\": [\n          1,\n          0\n        ],\n        \"semantic_type\": \"\",\n        \"description\": \"\"\n      }\n    }\n  ]\n}",
              "type": "dataframe",
              "variable_name": "ab_df"
            },
            "text/html": [
              "\n",
              "  <div id=\"df-41f00db8-d3ca-4baa-b40f-72fd94c9d222\" class=\"colab-df-container\">\n",
              "    <div>\n",
              "<style scoped>\n",
              "    .dataframe tbody tr th:only-of-type {\n",
              "        vertical-align: middle;\n",
              "    }\n",
              "\n",
              "    .dataframe tbody tr th {\n",
              "        vertical-align: top;\n",
              "    }\n",
              "\n",
              "    .dataframe thead th {\n",
              "        text-align: right;\n",
              "    }\n",
              "</style>\n",
              "<table border=\"1\" class=\"dataframe\">\n",
              "  <thead>\n",
              "    <tr style=\"text-align: right;\">\n",
              "      <th></th>\n",
              "      <th>auction_id</th>\n",
              "      <th>experiment</th>\n",
              "      <th>date</th>\n",
              "      <th>hour</th>\n",
              "      <th>device_make</th>\n",
              "      <th>platform_os</th>\n",
              "      <th>browser</th>\n",
              "      <th>yes</th>\n",
              "      <th>no</th>\n",
              "    </tr>\n",
              "  </thead>\n",
              "  <tbody>\n",
              "    <tr>\n",
              "      <th>0</th>\n",
              "      <td>0008ef63-77a7-448b-bd1e-075f42c55e39</td>\n",
              "      <td>exposed</td>\n",
              "      <td>2020-07-10</td>\n",
              "      <td>8</td>\n",
              "      <td>Generic Smartphone</td>\n",
              "      <td>6</td>\n",
              "      <td>Chrome Mobile</td>\n",
              "      <td>0</td>\n",
              "      <td>0</td>\n",
              "    </tr>\n",
              "    <tr>\n",
              "      <th>1</th>\n",
              "      <td>000eabc5-17ce-4137-8efe-44734d914446</td>\n",
              "      <td>exposed</td>\n",
              "      <td>2020-07-07</td>\n",
              "      <td>10</td>\n",
              "      <td>Generic Smartphone</td>\n",
              "      <td>6</td>\n",
              "      <td>Chrome Mobile</td>\n",
              "      <td>0</td>\n",
              "      <td>0</td>\n",
              "    </tr>\n",
              "    <tr>\n",
              "      <th>2</th>\n",
              "      <td>0016d14a-ae18-4a02-a204-6ba53b52f2ed</td>\n",
              "      <td>exposed</td>\n",
              "      <td>2020-07-05</td>\n",
              "      <td>2</td>\n",
              "      <td>E5823</td>\n",
              "      <td>6</td>\n",
              "      <td>Chrome Mobile WebView</td>\n",
              "      <td>0</td>\n",
              "      <td>1</td>\n",
              "    </tr>\n",
              "    <tr>\n",
              "      <th>3</th>\n",
              "      <td>00187412-2932-4542-a8ef-3633901c98d9</td>\n",
              "      <td>control</td>\n",
              "      <td>2020-07-03</td>\n",
              "      <td>15</td>\n",
              "      <td>Samsung SM-A705FN</td>\n",
              "      <td>6</td>\n",
              "      <td>Facebook</td>\n",
              "      <td>0</td>\n",
              "      <td>0</td>\n",
              "    </tr>\n",
              "    <tr>\n",
              "      <th>4</th>\n",
              "      <td>001a7785-d3fe-4e11-a344-c8735acacc2c</td>\n",
              "      <td>control</td>\n",
              "      <td>2020-07-03</td>\n",
              "      <td>15</td>\n",
              "      <td>Generic Smartphone</td>\n",
              "      <td>6</td>\n",
              "      <td>Chrome Mobile</td>\n",
              "      <td>0</td>\n",
              "      <td>0</td>\n",
              "    </tr>\n",
              "  </tbody>\n",
              "</table>\n",
              "</div>\n",
              "    <div class=\"colab-df-buttons\">\n",
              "\n",
              "  <div class=\"colab-df-container\">\n",
              "    <button class=\"colab-df-convert\" onclick=\"convertToInteractive('df-41f00db8-d3ca-4baa-b40f-72fd94c9d222')\"\n",
              "            title=\"Convert this dataframe to an interactive table.\"\n",
              "            style=\"display:none;\">\n",
              "\n",
              "  <svg xmlns=\"http://www.w3.org/2000/svg\" height=\"24px\" viewBox=\"0 -960 960 960\">\n",
              "    <path d=\"M120-120v-720h720v720H120Zm60-500h600v-160H180v160Zm220 220h160v-160H400v160Zm0 220h160v-160H400v160ZM180-400h160v-160H180v160Zm440 0h160v-160H620v160ZM180-180h160v-160H180v160Zm440 0h160v-160H620v160Z\"/>\n",
              "  </svg>\n",
              "    </button>\n",
              "\n",
              "  <style>\n",
              "    .colab-df-container {\n",
              "      display:flex;\n",
              "      gap: 12px;\n",
              "    }\n",
              "\n",
              "    .colab-df-convert {\n",
              "      background-color: #E8F0FE;\n",
              "      border: none;\n",
              "      border-radius: 50%;\n",
              "      cursor: pointer;\n",
              "      display: none;\n",
              "      fill: #1967D2;\n",
              "      height: 32px;\n",
              "      padding: 0 0 0 0;\n",
              "      width: 32px;\n",
              "    }\n",
              "\n",
              "    .colab-df-convert:hover {\n",
              "      background-color: #E2EBFA;\n",
              "      box-shadow: 0px 1px 2px rgba(60, 64, 67, 0.3), 0px 1px 3px 1px rgba(60, 64, 67, 0.15);\n",
              "      fill: #174EA6;\n",
              "    }\n",
              "\n",
              "    .colab-df-buttons div {\n",
              "      margin-bottom: 4px;\n",
              "    }\n",
              "\n",
              "    [theme=dark] .colab-df-convert {\n",
              "      background-color: #3B4455;\n",
              "      fill: #D2E3FC;\n",
              "    }\n",
              "\n",
              "    [theme=dark] .colab-df-convert:hover {\n",
              "      background-color: #434B5C;\n",
              "      box-shadow: 0px 1px 3px 1px rgba(0, 0, 0, 0.15);\n",
              "      filter: drop-shadow(0px 1px 2px rgba(0, 0, 0, 0.3));\n",
              "      fill: #FFFFFF;\n",
              "    }\n",
              "  </style>\n",
              "\n",
              "    <script>\n",
              "      const buttonEl =\n",
              "        document.querySelector('#df-41f00db8-d3ca-4baa-b40f-72fd94c9d222 button.colab-df-convert');\n",
              "      buttonEl.style.display =\n",
              "        google.colab.kernel.accessAllowed ? 'block' : 'none';\n",
              "\n",
              "      async function convertToInteractive(key) {\n",
              "        const element = document.querySelector('#df-41f00db8-d3ca-4baa-b40f-72fd94c9d222');\n",
              "        const dataTable =\n",
              "          await google.colab.kernel.invokeFunction('convertToInteractive',\n",
              "                                                    [key], {});\n",
              "        if (!dataTable) return;\n",
              "\n",
              "        const docLinkHtml = 'Like what you see? Visit the ' +\n",
              "          '<a target=\"_blank\" href=https://colab.research.google.com/notebooks/data_table.ipynb>data table notebook</a>'\n",
              "          + ' to learn more about interactive tables.';\n",
              "        element.innerHTML = '';\n",
              "        dataTable['output_type'] = 'display_data';\n",
              "        await google.colab.output.renderOutput(dataTable, element);\n",
              "        const docLink = document.createElement('div');\n",
              "        docLink.innerHTML = docLinkHtml;\n",
              "        element.appendChild(docLink);\n",
              "      }\n",
              "    </script>\n",
              "  </div>\n",
              "\n",
              "\n",
              "    <div id=\"df-621fbc5a-840f-4c68-ac15-e78bf290ad33\">\n",
              "      <button class=\"colab-df-quickchart\" onclick=\"quickchart('df-621fbc5a-840f-4c68-ac15-e78bf290ad33')\"\n",
              "                title=\"Suggest charts\"\n",
              "                style=\"display:none;\">\n",
              "\n",
              "<svg xmlns=\"http://www.w3.org/2000/svg\" height=\"24px\"viewBox=\"0 0 24 24\"\n",
              "     width=\"24px\">\n",
              "    <g>\n",
              "        <path d=\"M19 3H5c-1.1 0-2 .9-2 2v14c0 1.1.9 2 2 2h14c1.1 0 2-.9 2-2V5c0-1.1-.9-2-2-2zM9 17H7v-7h2v7zm4 0h-2V7h2v10zm4 0h-2v-4h2v4z\"/>\n",
              "    </g>\n",
              "</svg>\n",
              "      </button>\n",
              "\n",
              "<style>\n",
              "  .colab-df-quickchart {\n",
              "      --bg-color: #E8F0FE;\n",
              "      --fill-color: #1967D2;\n",
              "      --hover-bg-color: #E2EBFA;\n",
              "      --hover-fill-color: #174EA6;\n",
              "      --disabled-fill-color: #AAA;\n",
              "      --disabled-bg-color: #DDD;\n",
              "  }\n",
              "\n",
              "  [theme=dark] .colab-df-quickchart {\n",
              "      --bg-color: #3B4455;\n",
              "      --fill-color: #D2E3FC;\n",
              "      --hover-bg-color: #434B5C;\n",
              "      --hover-fill-color: #FFFFFF;\n",
              "      --disabled-bg-color: #3B4455;\n",
              "      --disabled-fill-color: #666;\n",
              "  }\n",
              "\n",
              "  .colab-df-quickchart {\n",
              "    background-color: var(--bg-color);\n",
              "    border: none;\n",
              "    border-radius: 50%;\n",
              "    cursor: pointer;\n",
              "    display: none;\n",
              "    fill: var(--fill-color);\n",
              "    height: 32px;\n",
              "    padding: 0;\n",
              "    width: 32px;\n",
              "  }\n",
              "\n",
              "  .colab-df-quickchart:hover {\n",
              "    background-color: var(--hover-bg-color);\n",
              "    box-shadow: 0 1px 2px rgba(60, 64, 67, 0.3), 0 1px 3px 1px rgba(60, 64, 67, 0.15);\n",
              "    fill: var(--button-hover-fill-color);\n",
              "  }\n",
              "\n",
              "  .colab-df-quickchart-complete:disabled,\n",
              "  .colab-df-quickchart-complete:disabled:hover {\n",
              "    background-color: var(--disabled-bg-color);\n",
              "    fill: var(--disabled-fill-color);\n",
              "    box-shadow: none;\n",
              "  }\n",
              "\n",
              "  .colab-df-spinner {\n",
              "    border: 2px solid var(--fill-color);\n",
              "    border-color: transparent;\n",
              "    border-bottom-color: var(--fill-color);\n",
              "    animation:\n",
              "      spin 1s steps(1) infinite;\n",
              "  }\n",
              "\n",
              "  @keyframes spin {\n",
              "    0% {\n",
              "      border-color: transparent;\n",
              "      border-bottom-color: var(--fill-color);\n",
              "      border-left-color: var(--fill-color);\n",
              "    }\n",
              "    20% {\n",
              "      border-color: transparent;\n",
              "      border-left-color: var(--fill-color);\n",
              "      border-top-color: var(--fill-color);\n",
              "    }\n",
              "    30% {\n",
              "      border-color: transparent;\n",
              "      border-left-color: var(--fill-color);\n",
              "      border-top-color: var(--fill-color);\n",
              "      border-right-color: var(--fill-color);\n",
              "    }\n",
              "    40% {\n",
              "      border-color: transparent;\n",
              "      border-right-color: var(--fill-color);\n",
              "      border-top-color: var(--fill-color);\n",
              "    }\n",
              "    60% {\n",
              "      border-color: transparent;\n",
              "      border-right-color: var(--fill-color);\n",
              "    }\n",
              "    80% {\n",
              "      border-color: transparent;\n",
              "      border-right-color: var(--fill-color);\n",
              "      border-bottom-color: var(--fill-color);\n",
              "    }\n",
              "    90% {\n",
              "      border-color: transparent;\n",
              "      border-bottom-color: var(--fill-color);\n",
              "    }\n",
              "  }\n",
              "</style>\n",
              "\n",
              "      <script>\n",
              "        async function quickchart(key) {\n",
              "          const quickchartButtonEl =\n",
              "            document.querySelector('#' + key + ' button');\n",
              "          quickchartButtonEl.disabled = true;  // To prevent multiple clicks.\n",
              "          quickchartButtonEl.classList.add('colab-df-spinner');\n",
              "          try {\n",
              "            const charts = await google.colab.kernel.invokeFunction(\n",
              "                'suggestCharts', [key], {});\n",
              "          } catch (error) {\n",
              "            console.error('Error during call to suggestCharts:', error);\n",
              "          }\n",
              "          quickchartButtonEl.classList.remove('colab-df-spinner');\n",
              "          quickchartButtonEl.classList.add('colab-df-quickchart-complete');\n",
              "        }\n",
              "        (() => {\n",
              "          let quickchartButtonEl =\n",
              "            document.querySelector('#df-621fbc5a-840f-4c68-ac15-e78bf290ad33 button');\n",
              "          quickchartButtonEl.style.display =\n",
              "            google.colab.kernel.accessAllowed ? 'block' : 'none';\n",
              "        })();\n",
              "      </script>\n",
              "    </div>\n",
              "\n",
              "    </div>\n",
              "  </div>\n"
            ],
            "text/plain": [
              "                             auction_id experiment        date  hour  \\\n",
              "0  0008ef63-77a7-448b-bd1e-075f42c55e39    exposed  2020-07-10     8   \n",
              "1  000eabc5-17ce-4137-8efe-44734d914446    exposed  2020-07-07    10   \n",
              "2  0016d14a-ae18-4a02-a204-6ba53b52f2ed    exposed  2020-07-05     2   \n",
              "3  00187412-2932-4542-a8ef-3633901c98d9    control  2020-07-03    15   \n",
              "4  001a7785-d3fe-4e11-a344-c8735acacc2c    control  2020-07-03    15   \n",
              "\n",
              "          device_make  platform_os                browser  yes  no  \n",
              "0  Generic Smartphone            6          Chrome Mobile    0   0  \n",
              "1  Generic Smartphone            6          Chrome Mobile    0   0  \n",
              "2               E5823            6  Chrome Mobile WebView    0   1  \n",
              "3   Samsung SM-A705FN            6               Facebook    0   0  \n",
              "4  Generic Smartphone            6          Chrome Mobile    0   0  "
            ]
          },
          "execution_count": 4,
          "metadata": {},
          "output_type": "execute_result"
        }
      ],
      "source": [
        "# Head 5 rows\n",
        "ab_df.head()"
      ]
    },
    {
      "cell_type": "markdown",
      "metadata": {
        "id": "KldSpYoUx8TY"
      },
      "source": [
        "Just looking at the dataframe's head, we can immediately see a problem: there are `auction_id` values that did not respond. In addition to the size of the overall dataframe, we need to know how many did not respond."
      ]
    },
    {
      "cell_type": "code",
      "execution_count": 5,
      "metadata": {
        "colab": {
          "base_uri": "https://localhost:8080/"
        },
        "id": "Qd9o6VKzSvq5",
        "outputId": "04cf52e5-5b20-47ea-a2b6-17543c371565"
      },
      "outputs": [
        {
          "name": "stdout",
          "output_type": "stream",
          "text": [
            "The shape of the set is: 8077 rows by 9 columns.\n"
          ]
        }
      ],
      "source": [
        "# Checking the shape of the data\n",
        "\n",
        "print(f'The shape of the mri set is: {ab_df.shape[0]} rows by {ab_df.shape[1]} columns.')"
      ]
    },
    {
      "cell_type": "code",
      "execution_count": 6,
      "metadata": {
        "colab": {
          "base_uri": "https://localhost:8080/"
        },
        "id": "iRKGRIKUwGMj",
        "outputId": "0518a495-2886-4b1a-c3cc-7e9362908f98"
      },
      "outputs": [
        {
          "name": "stdout",
          "output_type": "stream",
          "text": [
            "We have 1243 responses and 6834 non-responses.\n"
          ]
        }
      ],
      "source": [
        "response    = ab_df[(ab_df[\"yes\"] == 1) | (ab_df[\"no\"] == 1)]\n",
        "nonresponse = ab_df[(ab_df[\"yes\"] == 0) & (ab_df[\"no\"] == 0)]\n",
        "\n",
        "print(f\"We have {response.shape[0]} responses and {nonresponse.shape[0]} non-responses.\")"
      ]
    },
    {
      "cell_type": "markdown",
      "metadata": {
        "id": "zFEMcU8XyOXj"
      },
      "source": [
        "This isn't great: only 1,243 or ~15% of the overall data set actually responded. For the purpose of this A/B testing we will only consider rows that responded."
      ]
    },
    {
      "cell_type": "code",
      "execution_count": 7,
      "metadata": {
        "colab": {
          "base_uri": "https://localhost:8080/"
        },
        "id": "B2YGH_Aiyi-m",
        "outputId": "b999a60d-e76e-45c1-e8f7-edf0cfe6e787"
      },
      "outputs": [
        {
          "name": "stdout",
          "output_type": "stream",
          "text": [
            "The shape of the mri set is: 1243 rows by 9 columns.\n"
          ]
        }
      ],
      "source": [
        "# Taking the subset that responded\n",
        "# Adding `.copy()` avoids warnings that we're operating on a subset of the original\n",
        "ab_sub = ab_df[(ab_df[\"yes\"] == 1) | (ab_df[\"no\"] == 1)].copy()\n",
        "\n",
        "# Checking size\n",
        "print(f'The shape of the mri set is: {ab_sub.shape[0]} rows by {ab_sub.shape[1]} columns.')"
      ]
    },
    {
      "cell_type": "code",
      "execution_count": 8,
      "metadata": {
        "colab": {
          "base_uri": "https://localhost:8080/"
        },
        "id": "klPW2LO5U2WI",
        "outputId": "c6e773c2-38e0-43ae-ae28-cd124068b04b"
      },
      "outputs": [
        {
          "name": "stdout",
          "output_type": "stream",
          "text": [
            "<class 'pandas.core.frame.DataFrame'>\n",
            "Index: 1243 entries, 2 to 8071\n",
            "Data columns (total 9 columns):\n",
            " #   Column       Non-Null Count  Dtype \n",
            "---  ------       --------------  ----- \n",
            " 0   auction_id   1243 non-null   object\n",
            " 1   experiment   1243 non-null   object\n",
            " 2   date         1243 non-null   object\n",
            " 3   hour         1243 non-null   int64 \n",
            " 4   device_make  1243 non-null   object\n",
            " 5   platform_os  1243 non-null   int64 \n",
            " 6   browser      1243 non-null   object\n",
            " 7   yes          1243 non-null   int64 \n",
            " 8   no           1243 non-null   int64 \n",
            "dtypes: int64(4), object(5)\n",
            "memory usage: 97.1+ KB\n"
          ]
        }
      ],
      "source": [
        "# Getting the data types\n",
        "\n",
        "ab_sub.info()"
      ]
    },
    {
      "cell_type": "code",
      "execution_count": 9,
      "metadata": {
        "colab": {
          "base_uri": "https://localhost:8080/",
          "height": 147
        },
        "id": "t3rdPkhnVQa4",
        "outputId": "df036111-9e24-45a1-9a4d-df6428c09507"
      },
      "outputs": [
        {
          "data": {
            "text/html": [
              "<div>\n",
              "<style scoped>\n",
              "    .dataframe tbody tr th:only-of-type {\n",
              "        vertical-align: middle;\n",
              "    }\n",
              "\n",
              "    .dataframe tbody tr th {\n",
              "        vertical-align: top;\n",
              "    }\n",
              "\n",
              "    .dataframe thead th {\n",
              "        text-align: right;\n",
              "    }\n",
              "</style>\n",
              "<table border=\"1\" class=\"dataframe\">\n",
              "  <thead>\n",
              "    <tr style=\"text-align: right;\">\n",
              "      <th></th>\n",
              "      <th>count</th>\n",
              "    </tr>\n",
              "  </thead>\n",
              "  <tbody>\n",
              "    <tr>\n",
              "      <th>object</th>\n",
              "      <td>5</td>\n",
              "    </tr>\n",
              "    <tr>\n",
              "      <th>int64</th>\n",
              "      <td>4</td>\n",
              "    </tr>\n",
              "  </tbody>\n",
              "</table>\n",
              "</div><br><label><b>dtype:</b> int64</label>"
            ],
            "text/plain": [
              "object    5\n",
              "int64     4\n",
              "Name: count, dtype: int64"
            ]
          },
          "execution_count": 9,
          "metadata": {},
          "output_type": "execute_result"
        }
      ],
      "source": [
        "# Summary of the data types\n",
        "\n",
        "ab_sub.dtypes.value_counts()"
      ]
    },
    {
      "cell_type": "code",
      "execution_count": 10,
      "metadata": {
        "colab": {
          "base_uri": "https://localhost:8080/",
          "height": 366
        },
        "id": "XsUV5jlMVT-s",
        "outputId": "27325d3d-f625-4385-a564-e1324a5bc205"
      },
      "outputs": [
        {
          "data": {
            "text/html": [
              "<div>\n",
              "<style scoped>\n",
              "    .dataframe tbody tr th:only-of-type {\n",
              "        vertical-align: middle;\n",
              "    }\n",
              "\n",
              "    .dataframe tbody tr th {\n",
              "        vertical-align: top;\n",
              "    }\n",
              "\n",
              "    .dataframe thead th {\n",
              "        text-align: right;\n",
              "    }\n",
              "</style>\n",
              "<table border=\"1\" class=\"dataframe\">\n",
              "  <thead>\n",
              "    <tr style=\"text-align: right;\">\n",
              "      <th></th>\n",
              "      <th>0</th>\n",
              "    </tr>\n",
              "  </thead>\n",
              "  <tbody>\n",
              "    <tr>\n",
              "      <th>auction_id</th>\n",
              "      <td>0</td>\n",
              "    </tr>\n",
              "    <tr>\n",
              "      <th>experiment</th>\n",
              "      <td>0</td>\n",
              "    </tr>\n",
              "    <tr>\n",
              "      <th>date</th>\n",
              "      <td>0</td>\n",
              "    </tr>\n",
              "    <tr>\n",
              "      <th>hour</th>\n",
              "      <td>0</td>\n",
              "    </tr>\n",
              "    <tr>\n",
              "      <th>device_make</th>\n",
              "      <td>0</td>\n",
              "    </tr>\n",
              "    <tr>\n",
              "      <th>platform_os</th>\n",
              "      <td>0</td>\n",
              "    </tr>\n",
              "    <tr>\n",
              "      <th>browser</th>\n",
              "      <td>0</td>\n",
              "    </tr>\n",
              "    <tr>\n",
              "      <th>yes</th>\n",
              "      <td>0</td>\n",
              "    </tr>\n",
              "    <tr>\n",
              "      <th>no</th>\n",
              "      <td>0</td>\n",
              "    </tr>\n",
              "  </tbody>\n",
              "</table>\n",
              "</div><br><label><b>dtype:</b> int64</label>"
            ],
            "text/plain": [
              "auction_id     0\n",
              "experiment     0\n",
              "date           0\n",
              "hour           0\n",
              "device_make    0\n",
              "platform_os    0\n",
              "browser        0\n",
              "yes            0\n",
              "no             0\n",
              "dtype: int64"
            ]
          },
          "execution_count": 10,
          "metadata": {},
          "output_type": "execute_result"
        }
      ],
      "source": [
        "# Checking for null/missing values\n",
        "\n",
        "ab_sub.isnull().sum()"
      ]
    },
    {
      "cell_type": "code",
      "execution_count": 11,
      "metadata": {
        "colab": {
          "base_uri": "https://localhost:8080/"
        },
        "id": "rw81Z4nKu4za",
        "outputId": "10965600-0744-4090-cfdd-186488257ffd"
      },
      "outputs": [
        {
          "data": {
            "text/plain": [
              "1243"
            ]
          },
          "execution_count": 11,
          "metadata": {},
          "output_type": "execute_result"
        }
      ],
      "source": [
        "# Looking At `experiment` value counts\n",
        "ab_sub[\"auction_id\"].nunique()"
      ]
    },
    {
      "cell_type": "code",
      "execution_count": 12,
      "metadata": {
        "colab": {
          "base_uri": "https://localhost:8080/",
          "height": 178
        },
        "id": "cL84_czuWi6f",
        "outputId": "5817f62a-a3d5-4a77-ff52-df67fbe28592"
      },
      "outputs": [
        {
          "data": {
            "text/html": [
              "<div>\n",
              "<style scoped>\n",
              "    .dataframe tbody tr th:only-of-type {\n",
              "        vertical-align: middle;\n",
              "    }\n",
              "\n",
              "    .dataframe tbody tr th {\n",
              "        vertical-align: top;\n",
              "    }\n",
              "\n",
              "    .dataframe thead th {\n",
              "        text-align: right;\n",
              "    }\n",
              "</style>\n",
              "<table border=\"1\" class=\"dataframe\">\n",
              "  <thead>\n",
              "    <tr style=\"text-align: right;\">\n",
              "      <th></th>\n",
              "      <th>count</th>\n",
              "    </tr>\n",
              "    <tr>\n",
              "      <th>experiment</th>\n",
              "      <th></th>\n",
              "    </tr>\n",
              "  </thead>\n",
              "  <tbody>\n",
              "    <tr>\n",
              "      <th>exposed</th>\n",
              "      <td>657</td>\n",
              "    </tr>\n",
              "    <tr>\n",
              "      <th>control</th>\n",
              "      <td>586</td>\n",
              "    </tr>\n",
              "  </tbody>\n",
              "</table>\n",
              "</div><br><label><b>dtype:</b> int64</label>"
            ],
            "text/plain": [
              "experiment\n",
              "exposed    657\n",
              "control    586\n",
              "Name: count, dtype: int64"
            ]
          },
          "execution_count": 12,
          "metadata": {},
          "output_type": "execute_result"
        }
      ],
      "source": [
        "# Looking At `experiment` value counts\n",
        "ab_sub[\"experiment\"].value_counts()"
      ]
    },
    {
      "cell_type": "markdown",
      "metadata": {
        "id": "bIHJzDVky9Mv"
      },
      "source": [
        "This works out to ~53% exposed, ~47% control which is close enough to a 50:50 split."
      ]
    },
    {
      "cell_type": "code",
      "execution_count": 13,
      "metadata": {
        "colab": {
          "base_uri": "https://localhost:8080/",
          "height": 366
        },
        "id": "Otuh8ek0WszB",
        "outputId": "8410723d-853b-4d15-8707-6b96b4eaa76d"
      },
      "outputs": [
        {
          "data": {
            "text/html": [
              "<div>\n",
              "<style scoped>\n",
              "    .dataframe tbody tr th:only-of-type {\n",
              "        vertical-align: middle;\n",
              "    }\n",
              "\n",
              "    .dataframe tbody tr th {\n",
              "        vertical-align: top;\n",
              "    }\n",
              "\n",
              "    .dataframe thead th {\n",
              "        text-align: right;\n",
              "    }\n",
              "</style>\n",
              "<table border=\"1\" class=\"dataframe\">\n",
              "  <thead>\n",
              "    <tr style=\"text-align: right;\">\n",
              "      <th></th>\n",
              "      <th>count</th>\n",
              "    </tr>\n",
              "    <tr>\n",
              "      <th>date</th>\n",
              "      <th></th>\n",
              "    </tr>\n",
              "  </thead>\n",
              "  <tbody>\n",
              "    <tr>\n",
              "      <th>2020-07-03</th>\n",
              "      <td>325</td>\n",
              "    </tr>\n",
              "    <tr>\n",
              "      <th>2020-07-09</th>\n",
              "      <td>184</td>\n",
              "    </tr>\n",
              "    <tr>\n",
              "      <th>2020-07-08</th>\n",
              "      <td>177</td>\n",
              "    </tr>\n",
              "    <tr>\n",
              "      <th>2020-07-04</th>\n",
              "      <td>159</td>\n",
              "    </tr>\n",
              "    <tr>\n",
              "      <th>2020-07-10</th>\n",
              "      <td>124</td>\n",
              "    </tr>\n",
              "    <tr>\n",
              "      <th>2020-07-05</th>\n",
              "      <td>117</td>\n",
              "    </tr>\n",
              "    <tr>\n",
              "      <th>2020-07-07</th>\n",
              "      <td>83</td>\n",
              "    </tr>\n",
              "    <tr>\n",
              "      <th>2020-07-06</th>\n",
              "      <td>74</td>\n",
              "    </tr>\n",
              "  </tbody>\n",
              "</table>\n",
              "</div><br><label><b>dtype:</b> int64</label>"
            ],
            "text/plain": [
              "date\n",
              "2020-07-03    325\n",
              "2020-07-09    184\n",
              "2020-07-08    177\n",
              "2020-07-04    159\n",
              "2020-07-10    124\n",
              "2020-07-05    117\n",
              "2020-07-07     83\n",
              "2020-07-06     74\n",
              "Name: count, dtype: int64"
            ]
          },
          "execution_count": 13,
          "metadata": {},
          "output_type": "execute_result"
        }
      ],
      "source": [
        "# Looking At `date` value counts\n",
        "ab_sub[\"date\"].value_counts()"
      ]
    },
    {
      "cell_type": "markdown",
      "metadata": {
        "id": "Q6YKQt_oYEDG"
      },
      "source": [
        "The experiment ran for a total of 8 days. Ideally, we would have 14 days of  but we can't o anything about that."
      ]
    },
    {
      "cell_type": "code",
      "execution_count": 14,
      "metadata": {
        "colab": {
          "base_uri": "https://localhost:8080/",
          "height": 868
        },
        "id": "6ijOoTUOWwQH",
        "outputId": "f75bc24f-eb47-4ffd-8abb-991863991ed6"
      },
      "outputs": [
        {
          "data": {
            "text/html": [
              "<div>\n",
              "<style scoped>\n",
              "    .dataframe tbody tr th:only-of-type {\n",
              "        vertical-align: middle;\n",
              "    }\n",
              "\n",
              "    .dataframe tbody tr th {\n",
              "        vertical-align: top;\n",
              "    }\n",
              "\n",
              "    .dataframe thead th {\n",
              "        text-align: right;\n",
              "    }\n",
              "</style>\n",
              "<table border=\"1\" class=\"dataframe\">\n",
              "  <thead>\n",
              "    <tr style=\"text-align: right;\">\n",
              "      <th></th>\n",
              "      <th>count</th>\n",
              "    </tr>\n",
              "    <tr>\n",
              "      <th>hour</th>\n",
              "      <th></th>\n",
              "    </tr>\n",
              "  </thead>\n",
              "  <tbody>\n",
              "    <tr>\n",
              "      <th>15</th>\n",
              "      <td>281</td>\n",
              "    </tr>\n",
              "    <tr>\n",
              "      <th>8</th>\n",
              "      <td>67</td>\n",
              "    </tr>\n",
              "    <tr>\n",
              "      <th>7</th>\n",
              "      <td>59</td>\n",
              "    </tr>\n",
              "    <tr>\n",
              "      <th>10</th>\n",
              "      <td>57</td>\n",
              "    </tr>\n",
              "    <tr>\n",
              "      <th>9</th>\n",
              "      <td>57</td>\n",
              "    </tr>\n",
              "    <tr>\n",
              "      <th>14</th>\n",
              "      <td>51</td>\n",
              "    </tr>\n",
              "    <tr>\n",
              "      <th>6</th>\n",
              "      <td>50</td>\n",
              "    </tr>\n",
              "    <tr>\n",
              "      <th>5</th>\n",
              "      <td>49</td>\n",
              "    </tr>\n",
              "    <tr>\n",
              "      <th>4</th>\n",
              "      <td>46</td>\n",
              "    </tr>\n",
              "    <tr>\n",
              "      <th>20</th>\n",
              "      <td>45</td>\n",
              "    </tr>\n",
              "    <tr>\n",
              "      <th>16</th>\n",
              "      <td>44</td>\n",
              "    </tr>\n",
              "    <tr>\n",
              "      <th>3</th>\n",
              "      <td>44</td>\n",
              "    </tr>\n",
              "    <tr>\n",
              "      <th>11</th>\n",
              "      <td>44</td>\n",
              "    </tr>\n",
              "    <tr>\n",
              "      <th>12</th>\n",
              "      <td>42</td>\n",
              "    </tr>\n",
              "    <tr>\n",
              "      <th>13</th>\n",
              "      <td>41</td>\n",
              "    </tr>\n",
              "    <tr>\n",
              "      <th>19</th>\n",
              "      <td>38</td>\n",
              "    </tr>\n",
              "    <tr>\n",
              "      <th>18</th>\n",
              "      <td>38</td>\n",
              "    </tr>\n",
              "    <tr>\n",
              "      <th>17</th>\n",
              "      <td>34</td>\n",
              "    </tr>\n",
              "    <tr>\n",
              "      <th>21</th>\n",
              "      <td>34</td>\n",
              "    </tr>\n",
              "    <tr>\n",
              "      <th>2</th>\n",
              "      <td>33</td>\n",
              "    </tr>\n",
              "    <tr>\n",
              "      <th>1</th>\n",
              "      <td>32</td>\n",
              "    </tr>\n",
              "    <tr>\n",
              "      <th>0</th>\n",
              "      <td>31</td>\n",
              "    </tr>\n",
              "    <tr>\n",
              "      <th>22</th>\n",
              "      <td>21</td>\n",
              "    </tr>\n",
              "    <tr>\n",
              "      <th>23</th>\n",
              "      <td>5</td>\n",
              "    </tr>\n",
              "  </tbody>\n",
              "</table>\n",
              "</div><br><label><b>dtype:</b> int64</label>"
            ],
            "text/plain": [
              "hour\n",
              "15    281\n",
              "8      67\n",
              "7      59\n",
              "10     57\n",
              "9      57\n",
              "14     51\n",
              "6      50\n",
              "5      49\n",
              "4      46\n",
              "20     45\n",
              "16     44\n",
              "3      44\n",
              "11     44\n",
              "12     42\n",
              "13     41\n",
              "19     38\n",
              "18     38\n",
              "17     34\n",
              "21     34\n",
              "2      33\n",
              "1      32\n",
              "0      31\n",
              "22     21\n",
              "23      5\n",
              "Name: count, dtype: int64"
            ]
          },
          "execution_count": 14,
          "metadata": {},
          "output_type": "execute_result"
        }
      ],
      "source": [
        "# Looking At `hour` value counts\n",
        "ab_sub[\"hour\"].value_counts()"
      ]
    },
    {
      "cell_type": "code",
      "execution_count": 15,
      "metadata": {
        "colab": {
          "base_uri": "https://localhost:8080/",
          "height": 490
        },
        "id": "jtmYTF_ZW2pQ",
        "outputId": "4ba375d6-bbb8-4ef6-aa43-e1396013e987"
      },
      "outputs": [
        {
          "data": {
            "text/html": [
              "<div>\n",
              "<style scoped>\n",
              "    .dataframe tbody tr th:only-of-type {\n",
              "        vertical-align: middle;\n",
              "    }\n",
              "\n",
              "    .dataframe tbody tr th {\n",
              "        vertical-align: top;\n",
              "    }\n",
              "\n",
              "    .dataframe thead th {\n",
              "        text-align: right;\n",
              "    }\n",
              "</style>\n",
              "<table border=\"1\" class=\"dataframe\">\n",
              "  <thead>\n",
              "    <tr style=\"text-align: right;\">\n",
              "      <th></th>\n",
              "      <th>count</th>\n",
              "    </tr>\n",
              "    <tr>\n",
              "      <th>device_make</th>\n",
              "      <th></th>\n",
              "    </tr>\n",
              "  </thead>\n",
              "  <tbody>\n",
              "    <tr>\n",
              "      <th>Generic Smartphone</th>\n",
              "      <td>719</td>\n",
              "    </tr>\n",
              "    <tr>\n",
              "      <th>Samsung SM-G960F</th>\n",
              "      <td>45</td>\n",
              "    </tr>\n",
              "    <tr>\n",
              "      <th>Samsung SM-G950F</th>\n",
              "      <td>35</td>\n",
              "    </tr>\n",
              "    <tr>\n",
              "      <th>Samsung SM-G973F</th>\n",
              "      <td>22</td>\n",
              "    </tr>\n",
              "    <tr>\n",
              "      <th>Samsung SM-A202F</th>\n",
              "      <td>18</td>\n",
              "    </tr>\n",
              "    <tr>\n",
              "      <th>...</th>\n",
              "      <td>...</td>\n",
              "    </tr>\n",
              "    <tr>\n",
              "      <th>VFD 720</th>\n",
              "      <td>1</td>\n",
              "    </tr>\n",
              "    <tr>\n",
              "      <th>Samsung SM-J610G</th>\n",
              "      <td>1</td>\n",
              "    </tr>\n",
              "    <tr>\n",
              "      <th>VCE-L22</th>\n",
              "      <td>1</td>\n",
              "    </tr>\n",
              "    <tr>\n",
              "      <th>Samsung SM-N975F</th>\n",
              "      <td>1</td>\n",
              "    </tr>\n",
              "    <tr>\n",
              "      <th>XiaoMi Redmi S2</th>\n",
              "      <td>1</td>\n",
              "    </tr>\n",
              "  </tbody>\n",
              "</table>\n",
              "<p>115 rows × 1 columns</p>\n",
              "</div><br><label><b>dtype:</b> int64</label>"
            ],
            "text/plain": [
              "device_make\n",
              "Generic Smartphone    719\n",
              "Samsung SM-G960F       45\n",
              "Samsung SM-G950F       35\n",
              "Samsung SM-G973F       22\n",
              "Samsung SM-A202F       18\n",
              "                     ... \n",
              "VFD 720                 1\n",
              "Samsung SM-J610G        1\n",
              "VCE-L22                 1\n",
              "Samsung SM-N975F        1\n",
              "XiaoMi Redmi S2         1\n",
              "Name: count, Length: 115, dtype: int64"
            ]
          },
          "execution_count": 15,
          "metadata": {},
          "output_type": "execute_result"
        }
      ],
      "source": [
        "# Looking At `device_make` value counts\n",
        "ab_sub[\"device_make\"].value_counts()"
      ]
    },
    {
      "cell_type": "markdown",
      "metadata": {
        "id": "rECGO_w5Yqv6"
      },
      "source": [
        "There's a long tail of devices, which we'll clean up."
      ]
    },
    {
      "cell_type": "code",
      "execution_count": 16,
      "metadata": {
        "colab": {
          "base_uri": "https://localhost:8080/",
          "height": 178
        },
        "id": "4XIHGMfXXA-8",
        "outputId": "df74a01f-65df-452a-eb02-b22871f7d1f1"
      },
      "outputs": [
        {
          "data": {
            "text/html": [
              "<div>\n",
              "<style scoped>\n",
              "    .dataframe tbody tr th:only-of-type {\n",
              "        vertical-align: middle;\n",
              "    }\n",
              "\n",
              "    .dataframe tbody tr th {\n",
              "        vertical-align: top;\n",
              "    }\n",
              "\n",
              "    .dataframe thead th {\n",
              "        text-align: right;\n",
              "    }\n",
              "</style>\n",
              "<table border=\"1\" class=\"dataframe\">\n",
              "  <thead>\n",
              "    <tr style=\"text-align: right;\">\n",
              "      <th></th>\n",
              "      <th>count</th>\n",
              "    </tr>\n",
              "    <tr>\n",
              "      <th>platform_os</th>\n",
              "      <th></th>\n",
              "    </tr>\n",
              "  </thead>\n",
              "  <tbody>\n",
              "    <tr>\n",
              "      <th>6</th>\n",
              "      <td>1226</td>\n",
              "    </tr>\n",
              "    <tr>\n",
              "      <th>5</th>\n",
              "      <td>17</td>\n",
              "    </tr>\n",
              "  </tbody>\n",
              "</table>\n",
              "</div><br><label><b>dtype:</b> int64</label>"
            ],
            "text/plain": [
              "platform_os\n",
              "6    1226\n",
              "5      17\n",
              "Name: count, dtype: int64"
            ]
          },
          "execution_count": 16,
          "metadata": {},
          "output_type": "execute_result"
        }
      ],
      "source": [
        "# Looking At `platform_os` value counts\n",
        "ab_sub[\"platform_os\"].value_counts()"
      ]
    },
    {
      "cell_type": "markdown",
      "metadata": {
        "id": "AI5F3EZ6Y7SN"
      },
      "source": [
        "The authors did not provide what OS's `5`, `6`, `7` correspond to.\n",
        "\n",
        "These values appear to be categories, so we won't change them."
      ]
    },
    {
      "cell_type": "code",
      "execution_count": 17,
      "metadata": {
        "colab": {
          "base_uri": "https://localhost:8080/",
          "height": 366
        },
        "id": "ydq6A-eCcYM2",
        "outputId": "b39d6c1d-d41d-4f25-9d07-67bd928bbd4f"
      },
      "outputs": [
        {
          "data": {
            "text/html": [
              "<div>\n",
              "<style scoped>\n",
              "    .dataframe tbody tr th:only-of-type {\n",
              "        vertical-align: middle;\n",
              "    }\n",
              "\n",
              "    .dataframe tbody tr th {\n",
              "        vertical-align: top;\n",
              "    }\n",
              "\n",
              "    .dataframe thead th {\n",
              "        text-align: right;\n",
              "    }\n",
              "</style>\n",
              "<table border=\"1\" class=\"dataframe\">\n",
              "  <thead>\n",
              "    <tr style=\"text-align: right;\">\n",
              "      <th></th>\n",
              "      <th>0</th>\n",
              "    </tr>\n",
              "  </thead>\n",
              "  <tbody>\n",
              "    <tr>\n",
              "      <th>auction_id</th>\n",
              "      <td>0</td>\n",
              "    </tr>\n",
              "    <tr>\n",
              "      <th>experiment</th>\n",
              "      <td>0</td>\n",
              "    </tr>\n",
              "    <tr>\n",
              "      <th>date</th>\n",
              "      <td>0</td>\n",
              "    </tr>\n",
              "    <tr>\n",
              "      <th>hour</th>\n",
              "      <td>0</td>\n",
              "    </tr>\n",
              "    <tr>\n",
              "      <th>device_make</th>\n",
              "      <td>0</td>\n",
              "    </tr>\n",
              "    <tr>\n",
              "      <th>platform_os</th>\n",
              "      <td>0</td>\n",
              "    </tr>\n",
              "    <tr>\n",
              "      <th>browser</th>\n",
              "      <td>0</td>\n",
              "    </tr>\n",
              "    <tr>\n",
              "      <th>yes</th>\n",
              "      <td>0</td>\n",
              "    </tr>\n",
              "    <tr>\n",
              "      <th>no</th>\n",
              "      <td>0</td>\n",
              "    </tr>\n",
              "  </tbody>\n",
              "</table>\n",
              "</div><br><label><b>dtype:</b> int64</label>"
            ],
            "text/plain": [
              "auction_id     0\n",
              "experiment     0\n",
              "date           0\n",
              "hour           0\n",
              "device_make    0\n",
              "platform_os    0\n",
              "browser        0\n",
              "yes            0\n",
              "no             0\n",
              "dtype: int64"
            ]
          },
          "execution_count": 17,
          "metadata": {},
          "output_type": "execute_result"
        }
      ],
      "source": [
        "ab_sub.isnull().sum()"
      ]
    },
    {
      "cell_type": "markdown",
      "metadata": {
        "id": "BWJmA7VdZE7Z"
      },
      "source": [
        "We can condense these values down. to large groups as there are duplicates. We decided to group the single digit browsers into one category called `Others`."
      ]
    },
    {
      "cell_type": "markdown",
      "metadata": {
        "id": "c439xenH_pv2"
      },
      "source": [
        "[Section Top](#Exploration)\n",
        "\n",
        "[Top](#Table-Of-Contents)"
      ]
    },
    {
      "cell_type": "markdown",
      "metadata": {
        "id": "Le1KEYwxV4Ns"
      },
      "source": [
        "<a id=\"3\"></a>\n",
        "## Data Cleaning"
      ]
    },
    {
      "cell_type": "markdown",
      "metadata": {
        "id": "5SmCzPqBp4sr"
      },
      "source": [
        "<a id=\"3a\"></a>\n",
        "### Updating Data Type"
      ]
    },
    {
      "cell_type": "code",
      "execution_count": 18,
      "metadata": {
        "id": "kAp8R9cnqaZa"
      },
      "outputs": [],
      "source": [
        "# Converting the `date` column to a datetime type\n",
        "ab_sub[\"date\"] = pd.to_datetime(ab_sub[\"date\"])"
      ]
    },
    {
      "cell_type": "markdown",
      "metadata": {
        "id": "ZnrVDfGsmL7M"
      },
      "source": [
        "<a id=\"3b\"></a>\n",
        "### Mapping Values"
      ]
    },
    {
      "cell_type": "code",
      "execution_count": 19,
      "metadata": {
        "id": "HhYrBrEoVtBR"
      },
      "outputs": [],
      "source": [
        "# Defining our dictionaries for mapping\n",
        "\n",
        "# Dictionaries For Data Mapping\n",
        "browser_dict = {\"Chrome Mobile WebView\":\"Chrome\",\"Chrome Mobile\":\"Chrome\",\"Facebook\":\"Facebook\",\"Samsung Internet\":\"Samsung Internet\",\n",
        "                \"Mobile Safari\":\"Safari\",\"Chrome\":\"Chrome\",\"Mobile Safari UI/WKWebView\":\"Safari\",\"Chrome Mobile iOS\":\"Chrome\"}\n",
        "\n",
        "# Mapping device type to manufacturer\n",
        "# We'll rework this later\n",
        "device_dict  = {\"X4_Soul_Infinity_Z\":\"Other\",\"Pixel 3\":\"Google\",\"Pixel 4\":\"Google\",\"Pixel 2\":\"Google\",\"Pixel 3a\":\"Google\",\"STF-L09\":\"Other\",\n",
        "                \"DLI-L22\":\"Other\",\"PCT-L29\":\"Other\",\"HTC 10\":\"Other\",\"HTC U12+\":\"Other\",\"HTC Desire $2\":\"Other\",\"HTC One $2\":\"Other\",\n",
        "                \"MRD-LX1\":\"Huawei\",\"ELE-L09\":\"Huawei\",\"VOG-L09\":\"Huawei\",\"ANE-LX1\":\"Huawei\",\"POT-LX1\":\"Huawei\",\"VOG-L29\":\"Huawei\",\n",
        "                \"ELE-L29\":\"Huawei\",\"Huawei Browser\":\"Huawei\",\"LYA-L09\":\"Huawei\",\"MAR-LX1A\":\"Huawei\",\"CLT-L09\":\"Huawei\",\"YAL-L21\":\"Huawei\",\n",
        "                \"SNE-LX1\":\"Huawei\",\"VTR-L09\":\"Huawei\",\"PRA-LX1\":\"Huawei\",\"EVR-N29\":\"Huawei\",\"EML-L09\":\"Huawei\",\"FIG-LX1\":\"Huawei\",\n",
        "                \"EVA-L09\":\"Huawei\",\"VCE-L22\":\"Huawei\",\"IMO $2\":\"Other\",\"iPhone\":\"iPhone\",\"LG-$2\":\"LG\",\"Moto $2\":\"Other\",\n",
        "                \"Nokia undefined$2$3\":\"Nokia\",\"Nokia$2$3\":\"Nokia\",\"TA-1033\":\"Nokia\",\"Generic Smartphone\":\"Not Specified\",\n",
        "                \"OnePlus ONEPLUS A5000\":\"Other\",\"A0001\":\"Other\",\"OnePlus ONEPLUS A5010\":\"Other\",\"OnePlus ONEPLUS A6013\":\"Other\",\n",
        "                \"OnePlus ONEPLUS A3000\":\"Other\",\"Samsung SM-A202F\":\"Samsung\",\"Samsung SM-G935F\":\"Samsung\",\"Samsung SM-J600FN\":\"Samsung\",\n",
        "                \"Samsung SM-A105FN\":\"Samsung\",\"Samsung SM-G930F\":\"Samsung\",\"Samsung SM-G981B\":\"Samsung\",\"Samsung SM-G973F\":\"Samsung\",\n",
        "                \"Samsung SM-G950F\":\"Samsung\",\"Samsung SM-G960F\":\"Samsung\",\"Samsung SM-N960F\":\"Samsung\",\"Samsung SM-A705FN\":\"Samsung\",\n",
        "                \"Samsung SM-A405FN\":\"Samsung\",\"Samsung SM-A320FL\":\"Samsung\",\"Samsung SM-A505FN\":\"Samsung\",\"Samsung SM-A300FU\":\"Samsung\",\n",
        "                \"Samsung SM-A520F\":\"Samsung\",\"Samsung SM-A750FN\":\"Samsung\",\"Samsung SM-J330FN\":\"Samsung\",\"Samsung SM-J610FN\":\"Samsung\",\n",
        "                \"Samsung SM-G900F\":\"Samsung\",\"Samsung SM-G955F\":\"Samsung\",\"Samsung SM-A920F\":\"Samsung\",\"Samsung SM-J530F\":\"Samsung\",\n",
        "                \"Samsung SM-G975F\":\"Samsung\",\"Samsung SM-G965F\":\"Samsung\",\"Samsung SM-G920F\":\"Samsung\",\"Samsung SM-J415FN\":\"Samsung\",\n",
        "                \"Samsung $2\":\"Samsung\",\"Samsung SM-G970F\":\"Samsung\",\"Samsung SM-G986B\":\"Samsung\",\"Samsung SM-J730F\":\"Samsung\",\n",
        "                \"Samsung SM-G770F\":\"Samsung\",\"Samsung SM-J330G\":\"Samsung\",\"Samsung SM-A715F\":\"Samsung\",\"Samsung SM-J320FN\":\"Samsung\",\n",
        "                \"Samsung SM-J510FN\":\"Samsung\",\"Samsung SM-N976B\":\"Samsung\",\"Samsung SM-G980F\":\"Samsung\",\"Samsung SM-G988B\":\"Samsung\",\n",
        "                \"Samsung SM-G965U1\":\"Samsung\",\"Samsung SM-A600FN\":\"Samsung\",\"Samsung SM-N950F\":\"Samsung\",\"Samsung SM-A310F\":\"Samsung\",\n",
        "                \"Samsung SM-N920I\":\"Samsung\",\"Samsung SM-G977B\":\"Samsung\",\"Samsung SM-N970F\":\"Samsung\",\"Samsung SM-A507FN\":\"Samsung\",\n",
        "                \"Samsung SM-A515F\":\"Samsung\",\"Samsung SM-G610F\":\"Samsung\",\"Samsung SM-A530F\":\"Samsung\",\"Samsung SM-J810F\":\"Samsung\",\n",
        "                \"Samsung SM-G925F\":\"Samsung\",\"Samsung SM-J500FN\":\"Samsung\",\"Samsung SM-J330F\":\"Samsung\",\"Samsung SM-A750GN\":\"Samsung\",\n",
        "                \"Samsung SM-J610G\":\"Samsung\",\"Samsung SM-N975F\":\"Samsung\",\"E5823\":\"Sony\",\"I3312\":\"Sony\",\"G3311\":\"Sony\",\"F3311\":\"Sony\",\n",
        "                \"VFD 700\":\"Other\",\"VFD 820\":\"Other\",\"VFD 720\":\"Other\",\"XiaoMi Redmi Note 7\":\"Other\",\"XiaoMi Redmi 6A\":\"Other\",\n",
        "                \"XiaoMi MI 8 Pro\":\"Other\",\"XiaoMi MI MAX 3\":\"Other\",\"XiaoMi MI 6\":\"Other\",\"XiaoMi Redmi S2\":\"Other\"}"
      ]
    },
    {
      "cell_type": "code",
      "execution_count": 20,
      "metadata": {
        "id": "wT4XSSvbbnjp"
      },
      "outputs": [],
      "source": [
        "# Mapping values for the `experiment`, `browser`, `device_make`\n",
        "\n",
        "ab_sub[\"browser\"]     = ab_sub[\"browser\"].map(browser_dict, na_action=\"ignore\")\n",
        "ab_sub[\"device_make\"] = ab_sub[\"device_make\"].map(device_dict, na_action=\"ignore\")"
      ]
    },
    {
      "cell_type": "code",
      "execution_count": 21,
      "metadata": {
        "colab": {
          "base_uri": "https://localhost:8080/",
          "height": 206
        },
        "id": "Cs53elPc0Uo8",
        "outputId": "69235f59-57c4-43af-aad9-a4aaa9c27eee"
      },
      "outputs": [
        {
          "data": {
            "application/vnd.google.colaboratory.intrinsic+json": {
              "summary": "{\n  \"name\": \"ab_sub\",\n  \"rows\": 1243,\n  \"fields\": [\n    {\n      \"column\": \"auction_id\",\n      \"properties\": {\n        \"dtype\": \"string\",\n        \"num_unique_values\": 1243,\n        \"samples\": [\n          \"bc2e2abf-50d9-4c83-898c-405f60c2924c\",\n          \"d34ebe25-fdb8-4b59-8fbd-ab0809ec22d0\",\n          \"91d5ddab-b08e-49a1-88ad-c3904f07eeee\"\n        ],\n        \"semantic_type\": \"\",\n        \"description\": \"\"\n      }\n    },\n    {\n      \"column\": \"experiment\",\n      \"properties\": {\n        \"dtype\": \"category\",\n        \"num_unique_values\": 2,\n        \"samples\": [\n          \"control\",\n          \"exposed\"\n        ],\n        \"semantic_type\": \"\",\n        \"description\": \"\"\n      }\n    },\n    {\n      \"column\": \"date\",\n      \"properties\": {\n        \"dtype\": \"date\",\n        \"min\": \"2020-07-03 00:00:00\",\n        \"max\": \"2020-07-10 00:00:00\",\n        \"num_unique_values\": 8,\n        \"samples\": [\n          \"2020-07-04 00:00:00\",\n          \"2020-07-10 00:00:00\"\n        ],\n        \"semantic_type\": \"\",\n        \"description\": \"\"\n      }\n    },\n    {\n      \"column\": \"hour\",\n      \"properties\": {\n        \"dtype\": \"number\",\n        \"std\": 5,\n        \"min\": 0,\n        \"max\": 23,\n        \"num_unique_values\": 24,\n        \"samples\": [\n          20,\n          3\n        ],\n        \"semantic_type\": \"\",\n        \"description\": \"\"\n      }\n    },\n    {\n      \"column\": \"device_make\",\n      \"properties\": {\n        \"dtype\": \"category\",\n        \"num_unique_values\": 9,\n        \"samples\": [\n          \"Nokia\",\n          \"Not Specified\"\n        ],\n        \"semantic_type\": \"\",\n        \"description\": \"\"\n      }\n    },\n    {\n      \"column\": \"platform_os\",\n      \"properties\": {\n        \"dtype\": \"number\",\n        \"std\": 0,\n        \"min\": 5,\n        \"max\": 6,\n        \"num_unique_values\": 2,\n        \"samples\": [\n          5,\n          6\n        ],\n        \"semantic_type\": \"\",\n        \"description\": \"\"\n      }\n    },\n    {\n      \"column\": \"browser\",\n      \"properties\": {\n        \"dtype\": \"category\",\n        \"num_unique_values\": 4,\n        \"samples\": [\n          \"Facebook\",\n          \"Safari\"\n        ],\n        \"semantic_type\": \"\",\n        \"description\": \"\"\n      }\n    },\n    {\n      \"column\": \"yes\",\n      \"properties\": {\n        \"dtype\": \"number\",\n        \"std\": 0,\n        \"min\": 0,\n        \"max\": 1,\n        \"num_unique_values\": 2,\n        \"samples\": [\n          1,\n          0\n        ],\n        \"semantic_type\": \"\",\n        \"description\": \"\"\n      }\n    },\n    {\n      \"column\": \"no\",\n      \"properties\": {\n        \"dtype\": \"number\",\n        \"std\": 0,\n        \"min\": 0,\n        \"max\": 1,\n        \"num_unique_values\": 2,\n        \"samples\": [\n          0,\n          1\n        ],\n        \"semantic_type\": \"\",\n        \"description\": \"\"\n      }\n    }\n  ]\n}",
              "type": "dataframe",
              "variable_name": "ab_sub"
            },
            "text/html": [
              "\n",
              "  <div id=\"df-f9b33fa6-e40c-420f-a30b-5bd5949bd233\" class=\"colab-df-container\">\n",
              "    <div>\n",
              "<style scoped>\n",
              "    .dataframe tbody tr th:only-of-type {\n",
              "        vertical-align: middle;\n",
              "    }\n",
              "\n",
              "    .dataframe tbody tr th {\n",
              "        vertical-align: top;\n",
              "    }\n",
              "\n",
              "    .dataframe thead th {\n",
              "        text-align: right;\n",
              "    }\n",
              "</style>\n",
              "<table border=\"1\" class=\"dataframe\">\n",
              "  <thead>\n",
              "    <tr style=\"text-align: right;\">\n",
              "      <th></th>\n",
              "      <th>auction_id</th>\n",
              "      <th>experiment</th>\n",
              "      <th>date</th>\n",
              "      <th>hour</th>\n",
              "      <th>device_make</th>\n",
              "      <th>platform_os</th>\n",
              "      <th>browser</th>\n",
              "      <th>yes</th>\n",
              "      <th>no</th>\n",
              "    </tr>\n",
              "  </thead>\n",
              "  <tbody>\n",
              "    <tr>\n",
              "      <th>2</th>\n",
              "      <td>0016d14a-ae18-4a02-a204-6ba53b52f2ed</td>\n",
              "      <td>exposed</td>\n",
              "      <td>2020-07-05</td>\n",
              "      <td>2</td>\n",
              "      <td>Sony</td>\n",
              "      <td>6</td>\n",
              "      <td>Chrome</td>\n",
              "      <td>0</td>\n",
              "      <td>1</td>\n",
              "    </tr>\n",
              "    <tr>\n",
              "      <th>16</th>\n",
              "      <td>008aafdf-deef-4482-8fec-d98e3da054da</td>\n",
              "      <td>exposed</td>\n",
              "      <td>2020-07-04</td>\n",
              "      <td>16</td>\n",
              "      <td>Not Specified</td>\n",
              "      <td>6</td>\n",
              "      <td>Chrome</td>\n",
              "      <td>1</td>\n",
              "      <td>0</td>\n",
              "    </tr>\n",
              "    <tr>\n",
              "      <th>20</th>\n",
              "      <td>00a1384a-5118-4d1b-925b-6cdada50318d</td>\n",
              "      <td>exposed</td>\n",
              "      <td>2020-07-06</td>\n",
              "      <td>8</td>\n",
              "      <td>Not Specified</td>\n",
              "      <td>6</td>\n",
              "      <td>Chrome</td>\n",
              "      <td>0</td>\n",
              "      <td>1</td>\n",
              "    </tr>\n",
              "    <tr>\n",
              "      <th>23</th>\n",
              "      <td>00b6fadb-10bd-49e3-a778-290da82f7a8d</td>\n",
              "      <td>control</td>\n",
              "      <td>2020-07-08</td>\n",
              "      <td>4</td>\n",
              "      <td>Samsung</td>\n",
              "      <td>6</td>\n",
              "      <td>Facebook</td>\n",
              "      <td>1</td>\n",
              "      <td>0</td>\n",
              "    </tr>\n",
              "    <tr>\n",
              "      <th>27</th>\n",
              "      <td>00ebf4a8-060f-4b99-93ac-c62724399483</td>\n",
              "      <td>control</td>\n",
              "      <td>2020-07-03</td>\n",
              "      <td>15</td>\n",
              "      <td>Not Specified</td>\n",
              "      <td>6</td>\n",
              "      <td>Chrome</td>\n",
              "      <td>0</td>\n",
              "      <td>1</td>\n",
              "    </tr>\n",
              "  </tbody>\n",
              "</table>\n",
              "</div>\n",
              "    <div class=\"colab-df-buttons\">\n",
              "\n",
              "  <div class=\"colab-df-container\">\n",
              "    <button class=\"colab-df-convert\" onclick=\"convertToInteractive('df-f9b33fa6-e40c-420f-a30b-5bd5949bd233')\"\n",
              "            title=\"Convert this dataframe to an interactive table.\"\n",
              "            style=\"display:none;\">\n",
              "\n",
              "  <svg xmlns=\"http://www.w3.org/2000/svg\" height=\"24px\" viewBox=\"0 -960 960 960\">\n",
              "    <path d=\"M120-120v-720h720v720H120Zm60-500h600v-160H180v160Zm220 220h160v-160H400v160Zm0 220h160v-160H400v160ZM180-400h160v-160H180v160Zm440 0h160v-160H620v160ZM180-180h160v-160H180v160Zm440 0h160v-160H620v160Z\"/>\n",
              "  </svg>\n",
              "    </button>\n",
              "\n",
              "  <style>\n",
              "    .colab-df-container {\n",
              "      display:flex;\n",
              "      gap: 12px;\n",
              "    }\n",
              "\n",
              "    .colab-df-convert {\n",
              "      background-color: #E8F0FE;\n",
              "      border: none;\n",
              "      border-radius: 50%;\n",
              "      cursor: pointer;\n",
              "      display: none;\n",
              "      fill: #1967D2;\n",
              "      height: 32px;\n",
              "      padding: 0 0 0 0;\n",
              "      width: 32px;\n",
              "    }\n",
              "\n",
              "    .colab-df-convert:hover {\n",
              "      background-color: #E2EBFA;\n",
              "      box-shadow: 0px 1px 2px rgba(60, 64, 67, 0.3), 0px 1px 3px 1px rgba(60, 64, 67, 0.15);\n",
              "      fill: #174EA6;\n",
              "    }\n",
              "\n",
              "    .colab-df-buttons div {\n",
              "      margin-bottom: 4px;\n",
              "    }\n",
              "\n",
              "    [theme=dark] .colab-df-convert {\n",
              "      background-color: #3B4455;\n",
              "      fill: #D2E3FC;\n",
              "    }\n",
              "\n",
              "    [theme=dark] .colab-df-convert:hover {\n",
              "      background-color: #434B5C;\n",
              "      box-shadow: 0px 1px 3px 1px rgba(0, 0, 0, 0.15);\n",
              "      filter: drop-shadow(0px 1px 2px rgba(0, 0, 0, 0.3));\n",
              "      fill: #FFFFFF;\n",
              "    }\n",
              "  </style>\n",
              "\n",
              "    <script>\n",
              "      const buttonEl =\n",
              "        document.querySelector('#df-f9b33fa6-e40c-420f-a30b-5bd5949bd233 button.colab-df-convert');\n",
              "      buttonEl.style.display =\n",
              "        google.colab.kernel.accessAllowed ? 'block' : 'none';\n",
              "\n",
              "      async function convertToInteractive(key) {\n",
              "        const element = document.querySelector('#df-f9b33fa6-e40c-420f-a30b-5bd5949bd233');\n",
              "        const dataTable =\n",
              "          await google.colab.kernel.invokeFunction('convertToInteractive',\n",
              "                                                    [key], {});\n",
              "        if (!dataTable) return;\n",
              "\n",
              "        const docLinkHtml = 'Like what you see? Visit the ' +\n",
              "          '<a target=\"_blank\" href=https://colab.research.google.com/notebooks/data_table.ipynb>data table notebook</a>'\n",
              "          + ' to learn more about interactive tables.';\n",
              "        element.innerHTML = '';\n",
              "        dataTable['output_type'] = 'display_data';\n",
              "        await google.colab.output.renderOutput(dataTable, element);\n",
              "        const docLink = document.createElement('div');\n",
              "        docLink.innerHTML = docLinkHtml;\n",
              "        element.appendChild(docLink);\n",
              "      }\n",
              "    </script>\n",
              "  </div>\n",
              "\n",
              "\n",
              "    <div id=\"df-0410c6c3-bd0a-45e3-8ed0-4194bbff48e8\">\n",
              "      <button class=\"colab-df-quickchart\" onclick=\"quickchart('df-0410c6c3-bd0a-45e3-8ed0-4194bbff48e8')\"\n",
              "                title=\"Suggest charts\"\n",
              "                style=\"display:none;\">\n",
              "\n",
              "<svg xmlns=\"http://www.w3.org/2000/svg\" height=\"24px\"viewBox=\"0 0 24 24\"\n",
              "     width=\"24px\">\n",
              "    <g>\n",
              "        <path d=\"M19 3H5c-1.1 0-2 .9-2 2v14c0 1.1.9 2 2 2h14c1.1 0 2-.9 2-2V5c0-1.1-.9-2-2-2zM9 17H7v-7h2v7zm4 0h-2V7h2v10zm4 0h-2v-4h2v4z\"/>\n",
              "    </g>\n",
              "</svg>\n",
              "      </button>\n",
              "\n",
              "<style>\n",
              "  .colab-df-quickchart {\n",
              "      --bg-color: #E8F0FE;\n",
              "      --fill-color: #1967D2;\n",
              "      --hover-bg-color: #E2EBFA;\n",
              "      --hover-fill-color: #174EA6;\n",
              "      --disabled-fill-color: #AAA;\n",
              "      --disabled-bg-color: #DDD;\n",
              "  }\n",
              "\n",
              "  [theme=dark] .colab-df-quickchart {\n",
              "      --bg-color: #3B4455;\n",
              "      --fill-color: #D2E3FC;\n",
              "      --hover-bg-color: #434B5C;\n",
              "      --hover-fill-color: #FFFFFF;\n",
              "      --disabled-bg-color: #3B4455;\n",
              "      --disabled-fill-color: #666;\n",
              "  }\n",
              "\n",
              "  .colab-df-quickchart {\n",
              "    background-color: var(--bg-color);\n",
              "    border: none;\n",
              "    border-radius: 50%;\n",
              "    cursor: pointer;\n",
              "    display: none;\n",
              "    fill: var(--fill-color);\n",
              "    height: 32px;\n",
              "    padding: 0;\n",
              "    width: 32px;\n",
              "  }\n",
              "\n",
              "  .colab-df-quickchart:hover {\n",
              "    background-color: var(--hover-bg-color);\n",
              "    box-shadow: 0 1px 2px rgba(60, 64, 67, 0.3), 0 1px 3px 1px rgba(60, 64, 67, 0.15);\n",
              "    fill: var(--button-hover-fill-color);\n",
              "  }\n",
              "\n",
              "  .colab-df-quickchart-complete:disabled,\n",
              "  .colab-df-quickchart-complete:disabled:hover {\n",
              "    background-color: var(--disabled-bg-color);\n",
              "    fill: var(--disabled-fill-color);\n",
              "    box-shadow: none;\n",
              "  }\n",
              "\n",
              "  .colab-df-spinner {\n",
              "    border: 2px solid var(--fill-color);\n",
              "    border-color: transparent;\n",
              "    border-bottom-color: var(--fill-color);\n",
              "    animation:\n",
              "      spin 1s steps(1) infinite;\n",
              "  }\n",
              "\n",
              "  @keyframes spin {\n",
              "    0% {\n",
              "      border-color: transparent;\n",
              "      border-bottom-color: var(--fill-color);\n",
              "      border-left-color: var(--fill-color);\n",
              "    }\n",
              "    20% {\n",
              "      border-color: transparent;\n",
              "      border-left-color: var(--fill-color);\n",
              "      border-top-color: var(--fill-color);\n",
              "    }\n",
              "    30% {\n",
              "      border-color: transparent;\n",
              "      border-left-color: var(--fill-color);\n",
              "      border-top-color: var(--fill-color);\n",
              "      border-right-color: var(--fill-color);\n",
              "    }\n",
              "    40% {\n",
              "      border-color: transparent;\n",
              "      border-right-color: var(--fill-color);\n",
              "      border-top-color: var(--fill-color);\n",
              "    }\n",
              "    60% {\n",
              "      border-color: transparent;\n",
              "      border-right-color: var(--fill-color);\n",
              "    }\n",
              "    80% {\n",
              "      border-color: transparent;\n",
              "      border-right-color: var(--fill-color);\n",
              "      border-bottom-color: var(--fill-color);\n",
              "    }\n",
              "    90% {\n",
              "      border-color: transparent;\n",
              "      border-bottom-color: var(--fill-color);\n",
              "    }\n",
              "  }\n",
              "</style>\n",
              "\n",
              "      <script>\n",
              "        async function quickchart(key) {\n",
              "          const quickchartButtonEl =\n",
              "            document.querySelector('#' + key + ' button');\n",
              "          quickchartButtonEl.disabled = true;  // To prevent multiple clicks.\n",
              "          quickchartButtonEl.classList.add('colab-df-spinner');\n",
              "          try {\n",
              "            const charts = await google.colab.kernel.invokeFunction(\n",
              "                'suggestCharts', [key], {});\n",
              "          } catch (error) {\n",
              "            console.error('Error during call to suggestCharts:', error);\n",
              "          }\n",
              "          quickchartButtonEl.classList.remove('colab-df-spinner');\n",
              "          quickchartButtonEl.classList.add('colab-df-quickchart-complete');\n",
              "        }\n",
              "        (() => {\n",
              "          let quickchartButtonEl =\n",
              "            document.querySelector('#df-0410c6c3-bd0a-45e3-8ed0-4194bbff48e8 button');\n",
              "          quickchartButtonEl.style.display =\n",
              "            google.colab.kernel.accessAllowed ? 'block' : 'none';\n",
              "        })();\n",
              "      </script>\n",
              "    </div>\n",
              "\n",
              "    </div>\n",
              "  </div>\n"
            ],
            "text/plain": [
              "                              auction_id experiment       date  hour  \\\n",
              "2   0016d14a-ae18-4a02-a204-6ba53b52f2ed    exposed 2020-07-05     2   \n",
              "16  008aafdf-deef-4482-8fec-d98e3da054da    exposed 2020-07-04    16   \n",
              "20  00a1384a-5118-4d1b-925b-6cdada50318d    exposed 2020-07-06     8   \n",
              "23  00b6fadb-10bd-49e3-a778-290da82f7a8d    control 2020-07-08     4   \n",
              "27  00ebf4a8-060f-4b99-93ac-c62724399483    control 2020-07-03    15   \n",
              "\n",
              "      device_make  platform_os   browser  yes  no  \n",
              "2            Sony            6    Chrome    0   1  \n",
              "16  Not Specified            6    Chrome    1   0  \n",
              "20  Not Specified            6    Chrome    0   1  \n",
              "23        Samsung            6  Facebook    1   0  \n",
              "27  Not Specified            6    Chrome    0   1  "
            ]
          },
          "execution_count": 21,
          "metadata": {},
          "output_type": "execute_result"
        }
      ],
      "source": [
        "ab_sub.head()"
      ]
    },
    {
      "cell_type": "markdown",
      "metadata": {
        "id": "c1319K3BtWNm"
      },
      "source": [
        "<a id=\"3c\"></a>\n",
        "### Creating A Single Target Variable"
      ]
    },
    {
      "cell_type": "code",
      "execution_count": 22,
      "metadata": {
        "colab": {
          "base_uri": "https://localhost:8080/",
          "height": 53
        },
        "id": "cTzNLoJJ3OeT",
        "outputId": "23471c7a-69d2-43de-d2c4-7b089d091640"
      },
      "outputs": [
        {
          "data": {
            "application/vnd.google.colaboratory.intrinsic+json": {
              "repr_error": "Out of range float values are not JSON compliant: nan",
              "type": "dataframe"
            },
            "text/html": [
              "\n",
              "  <div id=\"df-2a896c4b-2042-41ac-93d8-43213acdc247\" class=\"colab-df-container\">\n",
              "    <div>\n",
              "<style scoped>\n",
              "    .dataframe tbody tr th:only-of-type {\n",
              "        vertical-align: middle;\n",
              "    }\n",
              "\n",
              "    .dataframe tbody tr th {\n",
              "        vertical-align: top;\n",
              "    }\n",
              "\n",
              "    .dataframe thead th {\n",
              "        text-align: right;\n",
              "    }\n",
              "</style>\n",
              "<table border=\"1\" class=\"dataframe\">\n",
              "  <thead>\n",
              "    <tr style=\"text-align: right;\">\n",
              "      <th></th>\n",
              "      <th>auction_id</th>\n",
              "      <th>experiment</th>\n",
              "      <th>date</th>\n",
              "      <th>hour</th>\n",
              "      <th>device_make</th>\n",
              "      <th>platform_os</th>\n",
              "      <th>browser</th>\n",
              "      <th>yes</th>\n",
              "      <th>no</th>\n",
              "    </tr>\n",
              "  </thead>\n",
              "  <tbody>\n",
              "  </tbody>\n",
              "</table>\n",
              "</div>\n",
              "    <div class=\"colab-df-buttons\">\n",
              "\n",
              "  <div class=\"colab-df-container\">\n",
              "    <button class=\"colab-df-convert\" onclick=\"convertToInteractive('df-2a896c4b-2042-41ac-93d8-43213acdc247')\"\n",
              "            title=\"Convert this dataframe to an interactive table.\"\n",
              "            style=\"display:none;\">\n",
              "\n",
              "  <svg xmlns=\"http://www.w3.org/2000/svg\" height=\"24px\" viewBox=\"0 -960 960 960\">\n",
              "    <path d=\"M120-120v-720h720v720H120Zm60-500h600v-160H180v160Zm220 220h160v-160H400v160Zm0 220h160v-160H400v160ZM180-400h160v-160H180v160Zm440 0h160v-160H620v160ZM180-180h160v-160H180v160Zm440 0h160v-160H620v160Z\"/>\n",
              "  </svg>\n",
              "    </button>\n",
              "\n",
              "  <style>\n",
              "    .colab-df-container {\n",
              "      display:flex;\n",
              "      gap: 12px;\n",
              "    }\n",
              "\n",
              "    .colab-df-convert {\n",
              "      background-color: #E8F0FE;\n",
              "      border: none;\n",
              "      border-radius: 50%;\n",
              "      cursor: pointer;\n",
              "      display: none;\n",
              "      fill: #1967D2;\n",
              "      height: 32px;\n",
              "      padding: 0 0 0 0;\n",
              "      width: 32px;\n",
              "    }\n",
              "\n",
              "    .colab-df-convert:hover {\n",
              "      background-color: #E2EBFA;\n",
              "      box-shadow: 0px 1px 2px rgba(60, 64, 67, 0.3), 0px 1px 3px 1px rgba(60, 64, 67, 0.15);\n",
              "      fill: #174EA6;\n",
              "    }\n",
              "\n",
              "    .colab-df-buttons div {\n",
              "      margin-bottom: 4px;\n",
              "    }\n",
              "\n",
              "    [theme=dark] .colab-df-convert {\n",
              "      background-color: #3B4455;\n",
              "      fill: #D2E3FC;\n",
              "    }\n",
              "\n",
              "    [theme=dark] .colab-df-convert:hover {\n",
              "      background-color: #434B5C;\n",
              "      box-shadow: 0px 1px 3px 1px rgba(0, 0, 0, 0.15);\n",
              "      filter: drop-shadow(0px 1px 2px rgba(0, 0, 0, 0.3));\n",
              "      fill: #FFFFFF;\n",
              "    }\n",
              "  </style>\n",
              "\n",
              "    <script>\n",
              "      const buttonEl =\n",
              "        document.querySelector('#df-2a896c4b-2042-41ac-93d8-43213acdc247 button.colab-df-convert');\n",
              "      buttonEl.style.display =\n",
              "        google.colab.kernel.accessAllowed ? 'block' : 'none';\n",
              "\n",
              "      async function convertToInteractive(key) {\n",
              "        const element = document.querySelector('#df-2a896c4b-2042-41ac-93d8-43213acdc247');\n",
              "        const dataTable =\n",
              "          await google.colab.kernel.invokeFunction('convertToInteractive',\n",
              "                                                    [key], {});\n",
              "        if (!dataTable) return;\n",
              "\n",
              "        const docLinkHtml = 'Like what you see? Visit the ' +\n",
              "          '<a target=\"_blank\" href=https://colab.research.google.com/notebooks/data_table.ipynb>data table notebook</a>'\n",
              "          + ' to learn more about interactive tables.';\n",
              "        element.innerHTML = '';\n",
              "        dataTable['output_type'] = 'display_data';\n",
              "        await google.colab.output.renderOutput(dataTable, element);\n",
              "        const docLink = document.createElement('div');\n",
              "        docLink.innerHTML = docLinkHtml;\n",
              "        element.appendChild(docLink);\n",
              "      }\n",
              "    </script>\n",
              "  </div>\n",
              "\n",
              "\n",
              "    </div>\n",
              "  </div>\n"
            ],
            "text/plain": [
              "Empty DataFrame\n",
              "Columns: [auction_id, experiment, date, hour, device_make, platform_os, browser, yes, no]\n",
              "Index: []"
            ]
          },
          "execution_count": 22,
          "metadata": {},
          "output_type": "execute_result"
        }
      ],
      "source": [
        "ab_sub[(ab_sub[\"yes\"] == 1) & (ab_sub[\"no\"] == 1)]"
      ]
    },
    {
      "cell_type": "markdown",
      "metadata": {
        "id": "j3t3_FHI4xtU"
      },
      "source": [
        "We can see that there aren't any erroneous rows that have `1` for both `yes` and `no`. Because of that, we feel comfortable just doing a simple `lambda` to define a response value."
      ]
    },
    {
      "cell_type": "code",
      "execution_count": 23,
      "metadata": {
        "id": "5Mgx-kwxtbm5"
      },
      "outputs": [],
      "source": [
        "ab_sub[\"response\"] = ab_sub[\"yes\"].apply(lambda x: \"Yes\" if x == 1 else \"No\")"
      ]
    },
    {
      "cell_type": "code",
      "execution_count": 24,
      "metadata": {
        "colab": {
          "base_uri": "https://localhost:8080/",
          "height": 178
        },
        "id": "J3Mp4MZr2AW6",
        "outputId": "034a0ae5-4cb5-44d9-e4c9-60f287757b2a"
      },
      "outputs": [
        {
          "data": {
            "text/html": [
              "<div>\n",
              "<style scoped>\n",
              "    .dataframe tbody tr th:only-of-type {\n",
              "        vertical-align: middle;\n",
              "    }\n",
              "\n",
              "    .dataframe tbody tr th {\n",
              "        vertical-align: top;\n",
              "    }\n",
              "\n",
              "    .dataframe thead th {\n",
              "        text-align: right;\n",
              "    }\n",
              "</style>\n",
              "<table border=\"1\" class=\"dataframe\">\n",
              "  <thead>\n",
              "    <tr style=\"text-align: right;\">\n",
              "      <th></th>\n",
              "      <th>count</th>\n",
              "    </tr>\n",
              "    <tr>\n",
              "      <th>response</th>\n",
              "      <th></th>\n",
              "    </tr>\n",
              "  </thead>\n",
              "  <tbody>\n",
              "    <tr>\n",
              "      <th>No</th>\n",
              "      <td>671</td>\n",
              "    </tr>\n",
              "    <tr>\n",
              "      <th>Yes</th>\n",
              "      <td>572</td>\n",
              "    </tr>\n",
              "  </tbody>\n",
              "</table>\n",
              "</div><br><label><b>dtype:</b> int64</label>"
            ],
            "text/plain": [
              "response\n",
              "No     671\n",
              "Yes    572\n",
              "Name: count, dtype: int64"
            ]
          },
          "execution_count": 24,
          "metadata": {},
          "output_type": "execute_result"
        }
      ],
      "source": [
        "# Checking our results\n",
        "ab_sub[\"response\"].value_counts()"
      ]
    },
    {
      "cell_type": "code",
      "execution_count": 25,
      "metadata": {
        "colab": {
          "base_uri": "https://localhost:8080/",
          "height": 178
        },
        "id": "bY_IrZfK5LhM",
        "outputId": "cbb76738-49c1-4981-8cc1-b22b0cc5e218"
      },
      "outputs": [
        {
          "data": {
            "text/html": [
              "<div>\n",
              "<style scoped>\n",
              "    .dataframe tbody tr th:only-of-type {\n",
              "        vertical-align: middle;\n",
              "    }\n",
              "\n",
              "    .dataframe tbody tr th {\n",
              "        vertical-align: top;\n",
              "    }\n",
              "\n",
              "    .dataframe thead th {\n",
              "        text-align: right;\n",
              "    }\n",
              "</style>\n",
              "<table border=\"1\" class=\"dataframe\">\n",
              "  <thead>\n",
              "    <tr style=\"text-align: right;\">\n",
              "      <th></th>\n",
              "      <th>count</th>\n",
              "    </tr>\n",
              "    <tr>\n",
              "      <th>yes</th>\n",
              "      <th></th>\n",
              "    </tr>\n",
              "  </thead>\n",
              "  <tbody>\n",
              "    <tr>\n",
              "      <th>0</th>\n",
              "      <td>671</td>\n",
              "    </tr>\n",
              "    <tr>\n",
              "      <th>1</th>\n",
              "      <td>572</td>\n",
              "    </tr>\n",
              "  </tbody>\n",
              "</table>\n",
              "</div><br><label><b>dtype:</b> int64</label>"
            ],
            "text/plain": [
              "yes\n",
              "0    671\n",
              "1    572\n",
              "Name: count, dtype: int64"
            ]
          },
          "execution_count": 25,
          "metadata": {},
          "output_type": "execute_result"
        }
      ],
      "source": [
        "ab_sub[\"yes\"].value_counts()"
      ]
    },
    {
      "cell_type": "markdown",
      "metadata": {
        "id": "M_YGFs2-5kiL"
      },
      "source": [
        "We can see that the `response` counts mirror the `yes` counts, so our change worked. Next we will drop `yes` and `no` and save our results to a new dataframe and .csv file."
      ]
    },
    {
      "cell_type": "code",
      "execution_count": 26,
      "metadata": {
        "id": "DYcdpZE25h1N"
      },
      "outputs": [],
      "source": [
        "# Saving to a new .csv and resetting the index\n",
        "ab_sub.to_csv(\"/content/drive/MyDrive/Data Sets/ab_response_data.csv\",index=False)"
      ]
    },
    {
      "cell_type": "markdown",
      "metadata": {
        "id": "0XU_alXP_24-"
      },
      "source": [
        "[Section Top](#Exploration)\n",
        "\n",
        "[Top](#Table-Of-Contents)"
      ]
    },
    {
      "cell_type": "markdown",
      "metadata": {
        "id": "-vNfWtba6p2Z"
      },
      "source": [
        "<a id=\"4\"></a>\n",
        "## Visualization"
      ]
    },
    {
      "cell_type": "markdown",
      "metadata": {
        "id": "pC9n6sLn61VH"
      },
      "source": [
        "<a id=\"4a\"></a>\n",
        "### Reading In Cleaned Data"
      ]
    },
    {
      "cell_type": "code",
      "execution_count": 27,
      "metadata": {
        "id": "UZEFSApQ62ty"
      },
      "outputs": [],
      "source": [
        "ab = pd.read_csv(\"/content/drive/MyDrive/Data Sets/ab_response_data.csv\")"
      ]
    },
    {
      "cell_type": "code",
      "execution_count": 28,
      "metadata": {
        "colab": {
          "base_uri": "https://localhost:8080/",
          "height": 206
        },
        "id": "YOUB1FlJ8p5S",
        "outputId": "49a2dc7c-6ec4-460b-e47a-1940f6deea01"
      },
      "outputs": [
        {
          "data": {
            "application/vnd.google.colaboratory.intrinsic+json": {
              "summary": "{\n  \"name\": \"ab\",\n  \"rows\": 1243,\n  \"fields\": [\n    {\n      \"column\": \"auction_id\",\n      \"properties\": {\n        \"dtype\": \"string\",\n        \"num_unique_values\": 1243,\n        \"samples\": [\n          \"bc2e2abf-50d9-4c83-898c-405f60c2924c\",\n          \"d34ebe25-fdb8-4b59-8fbd-ab0809ec22d0\",\n          \"91d5ddab-b08e-49a1-88ad-c3904f07eeee\"\n        ],\n        \"semantic_type\": \"\",\n        \"description\": \"\"\n      }\n    },\n    {\n      \"column\": \"experiment\",\n      \"properties\": {\n        \"dtype\": \"category\",\n        \"num_unique_values\": 2,\n        \"samples\": [\n          \"control\",\n          \"exposed\"\n        ],\n        \"semantic_type\": \"\",\n        \"description\": \"\"\n      }\n    },\n    {\n      \"column\": \"date\",\n      \"properties\": {\n        \"dtype\": \"object\",\n        \"num_unique_values\": 8,\n        \"samples\": [\n          \"2020-07-04\",\n          \"2020-07-10\"\n        ],\n        \"semantic_type\": \"\",\n        \"description\": \"\"\n      }\n    },\n    {\n      \"column\": \"hour\",\n      \"properties\": {\n        \"dtype\": \"number\",\n        \"std\": 5,\n        \"min\": 0,\n        \"max\": 23,\n        \"num_unique_values\": 24,\n        \"samples\": [\n          20,\n          3\n        ],\n        \"semantic_type\": \"\",\n        \"description\": \"\"\n      }\n    },\n    {\n      \"column\": \"device_make\",\n      \"properties\": {\n        \"dtype\": \"category\",\n        \"num_unique_values\": 9,\n        \"samples\": [\n          \"Nokia\",\n          \"Not Specified\"\n        ],\n        \"semantic_type\": \"\",\n        \"description\": \"\"\n      }\n    },\n    {\n      \"column\": \"platform_os\",\n      \"properties\": {\n        \"dtype\": \"number\",\n        \"std\": 0,\n        \"min\": 5,\n        \"max\": 6,\n        \"num_unique_values\": 2,\n        \"samples\": [\n          5,\n          6\n        ],\n        \"semantic_type\": \"\",\n        \"description\": \"\"\n      }\n    },\n    {\n      \"column\": \"browser\",\n      \"properties\": {\n        \"dtype\": \"category\",\n        \"num_unique_values\": 4,\n        \"samples\": [\n          \"Facebook\",\n          \"Safari\"\n        ],\n        \"semantic_type\": \"\",\n        \"description\": \"\"\n      }\n    },\n    {\n      \"column\": \"yes\",\n      \"properties\": {\n        \"dtype\": \"number\",\n        \"std\": 0,\n        \"min\": 0,\n        \"max\": 1,\n        \"num_unique_values\": 2,\n        \"samples\": [\n          1,\n          0\n        ],\n        \"semantic_type\": \"\",\n        \"description\": \"\"\n      }\n    },\n    {\n      \"column\": \"no\",\n      \"properties\": {\n        \"dtype\": \"number\",\n        \"std\": 0,\n        \"min\": 0,\n        \"max\": 1,\n        \"num_unique_values\": 2,\n        \"samples\": [\n          0,\n          1\n        ],\n        \"semantic_type\": \"\",\n        \"description\": \"\"\n      }\n    },\n    {\n      \"column\": \"response\",\n      \"properties\": {\n        \"dtype\": \"category\",\n        \"num_unique_values\": 2,\n        \"samples\": [\n          \"Yes\",\n          \"No\"\n        ],\n        \"semantic_type\": \"\",\n        \"description\": \"\"\n      }\n    }\n  ]\n}",
              "type": "dataframe",
              "variable_name": "ab"
            },
            "text/html": [
              "\n",
              "  <div id=\"df-7471b9d7-d159-4308-b2b8-44ff2246db02\" class=\"colab-df-container\">\n",
              "    <div>\n",
              "<style scoped>\n",
              "    .dataframe tbody tr th:only-of-type {\n",
              "        vertical-align: middle;\n",
              "    }\n",
              "\n",
              "    .dataframe tbody tr th {\n",
              "        vertical-align: top;\n",
              "    }\n",
              "\n",
              "    .dataframe thead th {\n",
              "        text-align: right;\n",
              "    }\n",
              "</style>\n",
              "<table border=\"1\" class=\"dataframe\">\n",
              "  <thead>\n",
              "    <tr style=\"text-align: right;\">\n",
              "      <th></th>\n",
              "      <th>auction_id</th>\n",
              "      <th>experiment</th>\n",
              "      <th>date</th>\n",
              "      <th>hour</th>\n",
              "      <th>device_make</th>\n",
              "      <th>platform_os</th>\n",
              "      <th>browser</th>\n",
              "      <th>yes</th>\n",
              "      <th>no</th>\n",
              "      <th>response</th>\n",
              "    </tr>\n",
              "  </thead>\n",
              "  <tbody>\n",
              "    <tr>\n",
              "      <th>0</th>\n",
              "      <td>0016d14a-ae18-4a02-a204-6ba53b52f2ed</td>\n",
              "      <td>exposed</td>\n",
              "      <td>2020-07-05</td>\n",
              "      <td>2</td>\n",
              "      <td>Sony</td>\n",
              "      <td>6</td>\n",
              "      <td>Chrome</td>\n",
              "      <td>0</td>\n",
              "      <td>1</td>\n",
              "      <td>No</td>\n",
              "    </tr>\n",
              "    <tr>\n",
              "      <th>1</th>\n",
              "      <td>008aafdf-deef-4482-8fec-d98e3da054da</td>\n",
              "      <td>exposed</td>\n",
              "      <td>2020-07-04</td>\n",
              "      <td>16</td>\n",
              "      <td>Not Specified</td>\n",
              "      <td>6</td>\n",
              "      <td>Chrome</td>\n",
              "      <td>1</td>\n",
              "      <td>0</td>\n",
              "      <td>Yes</td>\n",
              "    </tr>\n",
              "    <tr>\n",
              "      <th>2</th>\n",
              "      <td>00a1384a-5118-4d1b-925b-6cdada50318d</td>\n",
              "      <td>exposed</td>\n",
              "      <td>2020-07-06</td>\n",
              "      <td>8</td>\n",
              "      <td>Not Specified</td>\n",
              "      <td>6</td>\n",
              "      <td>Chrome</td>\n",
              "      <td>0</td>\n",
              "      <td>1</td>\n",
              "      <td>No</td>\n",
              "    </tr>\n",
              "    <tr>\n",
              "      <th>3</th>\n",
              "      <td>00b6fadb-10bd-49e3-a778-290da82f7a8d</td>\n",
              "      <td>control</td>\n",
              "      <td>2020-07-08</td>\n",
              "      <td>4</td>\n",
              "      <td>Samsung</td>\n",
              "      <td>6</td>\n",
              "      <td>Facebook</td>\n",
              "      <td>1</td>\n",
              "      <td>0</td>\n",
              "      <td>Yes</td>\n",
              "    </tr>\n",
              "    <tr>\n",
              "      <th>4</th>\n",
              "      <td>00ebf4a8-060f-4b99-93ac-c62724399483</td>\n",
              "      <td>control</td>\n",
              "      <td>2020-07-03</td>\n",
              "      <td>15</td>\n",
              "      <td>Not Specified</td>\n",
              "      <td>6</td>\n",
              "      <td>Chrome</td>\n",
              "      <td>0</td>\n",
              "      <td>1</td>\n",
              "      <td>No</td>\n",
              "    </tr>\n",
              "  </tbody>\n",
              "</table>\n",
              "</div>\n",
              "    <div class=\"colab-df-buttons\">\n",
              "\n",
              "  <div class=\"colab-df-container\">\n",
              "    <button class=\"colab-df-convert\" onclick=\"convertToInteractive('df-7471b9d7-d159-4308-b2b8-44ff2246db02')\"\n",
              "            title=\"Convert this dataframe to an interactive table.\"\n",
              "            style=\"display:none;\">\n",
              "\n",
              "  <svg xmlns=\"http://www.w3.org/2000/svg\" height=\"24px\" viewBox=\"0 -960 960 960\">\n",
              "    <path d=\"M120-120v-720h720v720H120Zm60-500h600v-160H180v160Zm220 220h160v-160H400v160Zm0 220h160v-160H400v160ZM180-400h160v-160H180v160Zm440 0h160v-160H620v160ZM180-180h160v-160H180v160Zm440 0h160v-160H620v160Z\"/>\n",
              "  </svg>\n",
              "    </button>\n",
              "\n",
              "  <style>\n",
              "    .colab-df-container {\n",
              "      display:flex;\n",
              "      gap: 12px;\n",
              "    }\n",
              "\n",
              "    .colab-df-convert {\n",
              "      background-color: #E8F0FE;\n",
              "      border: none;\n",
              "      border-radius: 50%;\n",
              "      cursor: pointer;\n",
              "      display: none;\n",
              "      fill: #1967D2;\n",
              "      height: 32px;\n",
              "      padding: 0 0 0 0;\n",
              "      width: 32px;\n",
              "    }\n",
              "\n",
              "    .colab-df-convert:hover {\n",
              "      background-color: #E2EBFA;\n",
              "      box-shadow: 0px 1px 2px rgba(60, 64, 67, 0.3), 0px 1px 3px 1px rgba(60, 64, 67, 0.15);\n",
              "      fill: #174EA6;\n",
              "    }\n",
              "\n",
              "    .colab-df-buttons div {\n",
              "      margin-bottom: 4px;\n",
              "    }\n",
              "\n",
              "    [theme=dark] .colab-df-convert {\n",
              "      background-color: #3B4455;\n",
              "      fill: #D2E3FC;\n",
              "    }\n",
              "\n",
              "    [theme=dark] .colab-df-convert:hover {\n",
              "      background-color: #434B5C;\n",
              "      box-shadow: 0px 1px 3px 1px rgba(0, 0, 0, 0.15);\n",
              "      filter: drop-shadow(0px 1px 2px rgba(0, 0, 0, 0.3));\n",
              "      fill: #FFFFFF;\n",
              "    }\n",
              "  </style>\n",
              "\n",
              "    <script>\n",
              "      const buttonEl =\n",
              "        document.querySelector('#df-7471b9d7-d159-4308-b2b8-44ff2246db02 button.colab-df-convert');\n",
              "      buttonEl.style.display =\n",
              "        google.colab.kernel.accessAllowed ? 'block' : 'none';\n",
              "\n",
              "      async function convertToInteractive(key) {\n",
              "        const element = document.querySelector('#df-7471b9d7-d159-4308-b2b8-44ff2246db02');\n",
              "        const dataTable =\n",
              "          await google.colab.kernel.invokeFunction('convertToInteractive',\n",
              "                                                    [key], {});\n",
              "        if (!dataTable) return;\n",
              "\n",
              "        const docLinkHtml = 'Like what you see? Visit the ' +\n",
              "          '<a target=\"_blank\" href=https://colab.research.google.com/notebooks/data_table.ipynb>data table notebook</a>'\n",
              "          + ' to learn more about interactive tables.';\n",
              "        element.innerHTML = '';\n",
              "        dataTable['output_type'] = 'display_data';\n",
              "        await google.colab.output.renderOutput(dataTable, element);\n",
              "        const docLink = document.createElement('div');\n",
              "        docLink.innerHTML = docLinkHtml;\n",
              "        element.appendChild(docLink);\n",
              "      }\n",
              "    </script>\n",
              "  </div>\n",
              "\n",
              "\n",
              "    <div id=\"df-68385537-a618-4cea-9691-53cdb972f47b\">\n",
              "      <button class=\"colab-df-quickchart\" onclick=\"quickchart('df-68385537-a618-4cea-9691-53cdb972f47b')\"\n",
              "                title=\"Suggest charts\"\n",
              "                style=\"display:none;\">\n",
              "\n",
              "<svg xmlns=\"http://www.w3.org/2000/svg\" height=\"24px\"viewBox=\"0 0 24 24\"\n",
              "     width=\"24px\">\n",
              "    <g>\n",
              "        <path d=\"M19 3H5c-1.1 0-2 .9-2 2v14c0 1.1.9 2 2 2h14c1.1 0 2-.9 2-2V5c0-1.1-.9-2-2-2zM9 17H7v-7h2v7zm4 0h-2V7h2v10zm4 0h-2v-4h2v4z\"/>\n",
              "    </g>\n",
              "</svg>\n",
              "      </button>\n",
              "\n",
              "<style>\n",
              "  .colab-df-quickchart {\n",
              "      --bg-color: #E8F0FE;\n",
              "      --fill-color: #1967D2;\n",
              "      --hover-bg-color: #E2EBFA;\n",
              "      --hover-fill-color: #174EA6;\n",
              "      --disabled-fill-color: #AAA;\n",
              "      --disabled-bg-color: #DDD;\n",
              "  }\n",
              "\n",
              "  [theme=dark] .colab-df-quickchart {\n",
              "      --bg-color: #3B4455;\n",
              "      --fill-color: #D2E3FC;\n",
              "      --hover-bg-color: #434B5C;\n",
              "      --hover-fill-color: #FFFFFF;\n",
              "      --disabled-bg-color: #3B4455;\n",
              "      --disabled-fill-color: #666;\n",
              "  }\n",
              "\n",
              "  .colab-df-quickchart {\n",
              "    background-color: var(--bg-color);\n",
              "    border: none;\n",
              "    border-radius: 50%;\n",
              "    cursor: pointer;\n",
              "    display: none;\n",
              "    fill: var(--fill-color);\n",
              "    height: 32px;\n",
              "    padding: 0;\n",
              "    width: 32px;\n",
              "  }\n",
              "\n",
              "  .colab-df-quickchart:hover {\n",
              "    background-color: var(--hover-bg-color);\n",
              "    box-shadow: 0 1px 2px rgba(60, 64, 67, 0.3), 0 1px 3px 1px rgba(60, 64, 67, 0.15);\n",
              "    fill: var(--button-hover-fill-color);\n",
              "  }\n",
              "\n",
              "  .colab-df-quickchart-complete:disabled,\n",
              "  .colab-df-quickchart-complete:disabled:hover {\n",
              "    background-color: var(--disabled-bg-color);\n",
              "    fill: var(--disabled-fill-color);\n",
              "    box-shadow: none;\n",
              "  }\n",
              "\n",
              "  .colab-df-spinner {\n",
              "    border: 2px solid var(--fill-color);\n",
              "    border-color: transparent;\n",
              "    border-bottom-color: var(--fill-color);\n",
              "    animation:\n",
              "      spin 1s steps(1) infinite;\n",
              "  }\n",
              "\n",
              "  @keyframes spin {\n",
              "    0% {\n",
              "      border-color: transparent;\n",
              "      border-bottom-color: var(--fill-color);\n",
              "      border-left-color: var(--fill-color);\n",
              "    }\n",
              "    20% {\n",
              "      border-color: transparent;\n",
              "      border-left-color: var(--fill-color);\n",
              "      border-top-color: var(--fill-color);\n",
              "    }\n",
              "    30% {\n",
              "      border-color: transparent;\n",
              "      border-left-color: var(--fill-color);\n",
              "      border-top-color: var(--fill-color);\n",
              "      border-right-color: var(--fill-color);\n",
              "    }\n",
              "    40% {\n",
              "      border-color: transparent;\n",
              "      border-right-color: var(--fill-color);\n",
              "      border-top-color: var(--fill-color);\n",
              "    }\n",
              "    60% {\n",
              "      border-color: transparent;\n",
              "      border-right-color: var(--fill-color);\n",
              "    }\n",
              "    80% {\n",
              "      border-color: transparent;\n",
              "      border-right-color: var(--fill-color);\n",
              "      border-bottom-color: var(--fill-color);\n",
              "    }\n",
              "    90% {\n",
              "      border-color: transparent;\n",
              "      border-bottom-color: var(--fill-color);\n",
              "    }\n",
              "  }\n",
              "</style>\n",
              "\n",
              "      <script>\n",
              "        async function quickchart(key) {\n",
              "          const quickchartButtonEl =\n",
              "            document.querySelector('#' + key + ' button');\n",
              "          quickchartButtonEl.disabled = true;  // To prevent multiple clicks.\n",
              "          quickchartButtonEl.classList.add('colab-df-spinner');\n",
              "          try {\n",
              "            const charts = await google.colab.kernel.invokeFunction(\n",
              "                'suggestCharts', [key], {});\n",
              "          } catch (error) {\n",
              "            console.error('Error during call to suggestCharts:', error);\n",
              "          }\n",
              "          quickchartButtonEl.classList.remove('colab-df-spinner');\n",
              "          quickchartButtonEl.classList.add('colab-df-quickchart-complete');\n",
              "        }\n",
              "        (() => {\n",
              "          let quickchartButtonEl =\n",
              "            document.querySelector('#df-68385537-a618-4cea-9691-53cdb972f47b button');\n",
              "          quickchartButtonEl.style.display =\n",
              "            google.colab.kernel.accessAllowed ? 'block' : 'none';\n",
              "        })();\n",
              "      </script>\n",
              "    </div>\n",
              "\n",
              "    </div>\n",
              "  </div>\n"
            ],
            "text/plain": [
              "                             auction_id experiment        date  hour  \\\n",
              "0  0016d14a-ae18-4a02-a204-6ba53b52f2ed    exposed  2020-07-05     2   \n",
              "1  008aafdf-deef-4482-8fec-d98e3da054da    exposed  2020-07-04    16   \n",
              "2  00a1384a-5118-4d1b-925b-6cdada50318d    exposed  2020-07-06     8   \n",
              "3  00b6fadb-10bd-49e3-a778-290da82f7a8d    control  2020-07-08     4   \n",
              "4  00ebf4a8-060f-4b99-93ac-c62724399483    control  2020-07-03    15   \n",
              "\n",
              "     device_make  platform_os   browser  yes  no response  \n",
              "0           Sony            6    Chrome    0   1       No  \n",
              "1  Not Specified            6    Chrome    1   0      Yes  \n",
              "2  Not Specified            6    Chrome    0   1       No  \n",
              "3        Samsung            6  Facebook    1   0      Yes  \n",
              "4  Not Specified            6    Chrome    0   1       No  "
            ]
          },
          "execution_count": 28,
          "metadata": {},
          "output_type": "execute_result"
        }
      ],
      "source": [
        "# Checking the layout\n",
        "ab.head()"
      ]
    },
    {
      "cell_type": "code",
      "execution_count": 29,
      "metadata": {
        "colab": {
          "base_uri": "https://localhost:8080/"
        },
        "id": "onH5neFW_Rtt",
        "outputId": "db2e2cda-579a-4e26-df86-7c285a9e2095"
      },
      "outputs": [
        {
          "name": "stdout",
          "output_type": "stream",
          "text": [
            "<class 'pandas.core.frame.DataFrame'>\n",
            "RangeIndex: 1243 entries, 0 to 1242\n",
            "Data columns (total 10 columns):\n",
            " #   Column       Non-Null Count  Dtype \n",
            "---  ------       --------------  ----- \n",
            " 0   auction_id   1243 non-null   object\n",
            " 1   experiment   1243 non-null   object\n",
            " 2   date         1243 non-null   object\n",
            " 3   hour         1243 non-null   int64 \n",
            " 4   device_make  1243 non-null   object\n",
            " 5   platform_os  1243 non-null   int64 \n",
            " 6   browser      1243 non-null   object\n",
            " 7   yes          1243 non-null   int64 \n",
            " 8   no           1243 non-null   int64 \n",
            " 9   response     1243 non-null   object\n",
            "dtypes: int64(4), object(6)\n",
            "memory usage: 97.2+ KB\n"
          ]
        }
      ],
      "source": [
        "ab.info()"
      ]
    },
    {
      "cell_type": "code",
      "execution_count": 30,
      "metadata": {
        "id": "Zig3Fwh0_fTf"
      },
      "outputs": [],
      "source": [
        "# The date column reverted to an object, so we'll force to datetime again\n",
        "ab[\"date\"] = pd.to_datetime(ab[\"date\"])"
      ]
    },
    {
      "cell_type": "markdown",
      "metadata": {
        "id": "JGbmFfeW82XI"
      },
      "source": [
        "<a id=\"4b\"></a>\n",
        "### Experiment"
      ]
    },
    {
      "cell_type": "code",
      "execution_count": 31,
      "metadata": {
        "colab": {
          "base_uri": "https://localhost:8080/",
          "height": 526
        },
        "id": "3qfn1cjZ84vw",
        "outputId": "b8fa9175-9004-4c1d-ae10-11db6e009858"
      },
      "outputs": [
        {
          "data": {
            "image/png": "[encoded data removed]",
            "text/plain": [
              "<Figure size 1500x600 with 1 Axes>"
            ]
          },
          "metadata": {},
          "output_type": "display_data"
        }
      ],
      "source": [
        "graphs.countplots(df      = ab,\n",
        "                  columns = [\"experiment\"],\n",
        "                  titles  = [\"Experiment Distribution\"],\n",
        "                  labels  = [\"Group\"],\n",
        "                  ylabel  = \"Count\",\n",
        "                  dim     = (15,6),\n",
        "                  palette = [\"#0060FA\",\"#FA9A00\"],\n",
        "                  row     = 1,\n",
        "                  col     = 1)"
      ]
    },
    {
      "cell_type": "markdown",
      "metadata": {
        "id": "JImJat5592Vm"
      },
      "source": [
        "Our groups aren't exactly equal, but it's close enough. The difference in sizing is likely due to the effect of subsetting the dataframe earlier."
      ]
    },
    {
      "cell_type": "markdown",
      "metadata": {
        "id": "1pVGgB1YkSgd"
      },
      "source": [
        "<a id=\"4c\"></a>\n",
        "### Experiment By Response"
      ]
    },
    {
      "cell_type": "code",
      "execution_count": 32,
      "metadata": {
        "colab": {
          "base_uri": "https://localhost:8080/",
          "height": 526
        },
        "id": "dC6Oc4o2hjge",
        "outputId": "2f623e39-4ecd-40c3-ea8d-46046efc7558"
      },
      "outputs": [
        {
          "data": {
            "image/png": "[encoded data removed]",
            "text/plain": [
              "<Figure size 1500x600 with 1 Axes>"
            ]
          },
          "metadata": {},
          "output_type": "display_data"
        }
      ],
      "source": [
        "graphs.countplots(df      = ab,\n",
        "                  columns = [\"experiment\"],\n",
        "                  titles  = [\"Experiment Distribution\"],\n",
        "                  labels  = [\"Group\"],\n",
        "                  ylabel  = \"Count\",\n",
        "                  dim     = (15,6),\n",
        "                  hue     = \"response\",\n",
        "                  palette = [\"#0060FA\",\"#FA9A00\"],\n",
        "                  row     = 1,\n",
        "                  col     = 1)"
      ]
    },
    {
      "cell_type": "markdown",
      "metadata": {
        "id": "jG2-wNIMoPVc"
      },
      "source": [
        "The ratio response/no response ratio between the two groups seems similar at a cursory glance."
      ]
    },
    {
      "cell_type": "markdown",
      "metadata": {
        "id": "5qUznv2GAAvu"
      },
      "source": [
        "[Section Top](#Visualization)\n",
        "\n",
        "[Top](#Table-Of-Contents)"
      ]
    },
    {
      "cell_type": "markdown",
      "metadata": {
        "id": "8TSU9-2Wklqt"
      },
      "source": [
        "<a id=\"4d\"></a>\n",
        "### Response"
      ]
    },
    {
      "cell_type": "code",
      "execution_count": 33,
      "metadata": {
        "colab": {
          "base_uri": "https://localhost:8080/",
          "height": 526
        },
        "id": "o-OfPlh-kpXd",
        "outputId": "cfe6e264-3f48-4e5f-f139-5abcffffb839"
      },
      "outputs": [
        {
          "data": {
            "image/png": "[encoded data removed]",
            "text/plain": [
              "<Figure size 1500x600 with 1 Axes>"
            ]
          },
          "metadata": {},
          "output_type": "display_data"
        }
      ],
      "source": [
        "graphs.countplots(df      = ab,\n",
        "                  columns = [\"response\"],\n",
        "                  titles  = [\"Participant Response\"],\n",
        "                  labels  = [\"Response\"],\n",
        "                  ylabel  = \"Count\",\n",
        "                  palette = [\"#0060FA\",\"#FA9A00\"],\n",
        "                  dim     = (15,6),\n",
        "                  row     = 1,\n",
        "                  col     = 1)"
      ]
    },
    {
      "cell_type": "markdown",
      "metadata": {
        "id": "2_feifXekuK_"
      },
      "source": [
        "<a id=\"4e\"></a>\n",
        "### Experiment Date"
      ]
    },
    {
      "cell_type": "code",
      "execution_count": 34,
      "metadata": {
        "colab": {
          "base_uri": "https://localhost:8080/",
          "height": 440
        },
        "collapsed": true,
        "id": "r_EdB02m9lmR",
        "outputId": "97923345-42ec-4c1c-cc21-86dde1c48bf4"
      },
      "outputs": [
        {
          "data": {
            "image/png": "[encoded data removed]",
            "text/plain": [
              "<Figure size 1800x600 with 1 Axes>"
            ]
          },
          "metadata": {},
          "output_type": "display_data"
        }
      ],
      "source": [
        "graphs.countplots_dt(df      = ab,\n",
        "                     columns = [\"date\"],\n",
        "                     titles  = [\"Experiment Date\"],\n",
        "                     labels  = [\"Date\"],\n",
        "                     ylabel  = \"Count\",\n",
        "                     palette = \"Dark2\",\n",
        "                     dim     = (18,6),\n",
        "                     row     = 1,\n",
        "                     col     = 1)"
      ]
    },
    {
      "cell_type": "markdown",
      "metadata": {
        "id": "NT4K02_4odqn"
      },
      "source": [
        "We check a calendar for July 2020:\n",
        "\n",
        "| Month | Day | Day Of Week |\n",
        "|:-----:|:---:|:------------|\n",
        "| July  | 3   | Friday      |\n",
        "| July  | 4   | Saturday    |\n",
        "| July  | 5   | Sunday      |\n",
        "| July  | 6   | Monday      |\n",
        "| July  | 7   | Tuesday     |\n",
        "| July  | 8   | Wednesday   |\n",
        "| July  | 9   | Thursday    |\n",
        "| July  | 10  | Friday      |\n",
        "\n",
        "One of the problems with having an experiment that ran for <2 weeks is that we cannot be sure if we can take into account changes in traffic caused by weekend vs weekday browsing. Additionally, we are working on a subset of the overall data set which could be introducing other biases."
      ]
    },
    {
      "cell_type": "markdown",
      "metadata": {
        "id": "dGu-n-aIAM0p"
      },
      "source": [
        "[Section Top](#Visualization)\n",
        "\n",
        "[Top](#Table-Of-Contents)"
      ]
    },
    {
      "cell_type": "markdown",
      "metadata": {
        "id": "n_F_vvBNkx8c"
      },
      "source": [
        "<a id=\"4f\"></a>\n",
        "### Experiment Hour"
      ]
    },
    {
      "cell_type": "code",
      "execution_count": 35,
      "metadata": {
        "colab": {
          "base_uri": "https://localhost:8080/",
          "height": 440
        },
        "id": "89c5RgJl_Abc",
        "outputId": "d4eadb75-0b25-4e33-daac-abfcebd191d8"
      },
      "outputs": [
        {
          "data": {
            "image/png": "[encoded data removed]",
            "text/plain": [
              "<Figure size 1800x600 with 1 Axes>"
            ]
          },
          "metadata": {},
          "output_type": "display_data"
        }
      ],
      "source": [
        "graphs.countplots(df      = ab,\n",
        "                  columns = [\"hour\"],\n",
        "                  titles  = [\"Experiment Hour\"],\n",
        "                  labels  = [\"Hour Of The Day\"],\n",
        "                  ylabel  = \"Count\",\n",
        "                  palette = \"Dark2\",\n",
        "                  dim     = (18,6),\n",
        "                  row     = 1,\n",
        "                  col     = 1)"
      ]
    },
    {
      "cell_type": "markdown",
      "metadata": {
        "id": "t5DCvUlopl_x"
      },
      "source": [
        "We don't have the full picture of the data, but the spike in IDs during 15:00 is interesting to us: we expected to see a peak in the afternoon, but that may be due to not having the full data set."
      ]
    },
    {
      "cell_type": "code",
      "execution_count": 36,
      "metadata": {
        "colab": {
          "base_uri": "https://localhost:8080/",
          "height": 440
        },
        "id": "4RXnUleDvt6l",
        "outputId": "abf9fcc7-df2c-4fe4-e450-8999cf1ecf16"
      },
      "outputs": [
        {
          "data": {
            "image/png": "[encoded data removed]",
            "text/plain": [
              "<Figure size 1800x600 with 1 Axes>"
            ]
          },
          "metadata": {},
          "output_type": "display_data"
        }
      ],
      "source": [
        "graphs.countplots(df      = ab,\n",
        "                  columns = [\"hour\"],\n",
        "                  titles  = [\"Experiment Hour\"],\n",
        "                  labels  = [\"Hour Of The Day\"],\n",
        "                  ylabel  = \"Count\",\n",
        "                  palette = [\"#0060FA\",\"#FA9A00\"],\n",
        "                  hue     = \"experiment\",\n",
        "                  dim     = (18,6),\n",
        "                  row     = 1,\n",
        "                  col     = 1)"
      ]
    },
    {
      "cell_type": "markdown",
      "metadata": {
        "id": "d8c7bI28v5-v"
      },
      "source": [
        "Drilling down further, we can see that the anomaly at 15:00 is only in the control group."
      ]
    },
    {
      "cell_type": "markdown",
      "metadata": {
        "id": "GSlBeegoAOtN"
      },
      "source": [
        "[Section Top](#Visualization)"
      ]
    },
    {
      "cell_type": "markdown",
      "metadata": {
        "id": "ZrkdmfxPk2yl"
      },
      "source": [
        "<a id=\"4g\"></a>\n",
        "### Device Make"
      ]
    },
    {
      "cell_type": "code",
      "execution_count": 37,
      "metadata": {
        "colab": {
          "base_uri": "https://localhost:8080/",
          "height": 440
        },
        "id": "DT-g1BwHCII0",
        "outputId": "b84cef9c-6ac5-4b36-8a05-d17a54819d16"
      },
      "outputs": [
        {
          "data": {
            "image/png": "[encoded data removed]",
            "text/plain": [
              "<Figure size 1800x600 with 1 Axes>"
            ]
          },
          "metadata": {},
          "output_type": "display_data"
        }
      ],
      "source": [
        "graphs.countplots_order(df      = ab,\n",
        "                        columns = [\"device_make\"],\n",
        "                        titles  = [\"Device Maker\"],\n",
        "                        labels  = [\"Manufacturer\"],\n",
        "                        ylabel  = \"Count\",\n",
        "                        palette = \"Dark2\",\n",
        "                        dim     = (18,6),\n",
        "                        row     = 1,\n",
        "                        col     = 1)"
      ]
    },
    {
      "cell_type": "markdown",
      "metadata": {
        "id": "MLNTQQ4HqCuE"
      },
      "source": [
        "This isn't the most helpful column as the majority of the maker is non-specified. If we were modeling rather than A/B testing, we would consider dropping the column."
      ]
    },
    {
      "cell_type": "markdown",
      "metadata": {
        "id": "rF_ShuKmk5SO"
      },
      "source": [
        "<a id=\"4h\"></a>\n",
        "### Operating System"
      ]
    },
    {
      "cell_type": "code",
      "execution_count": 38,
      "metadata": {
        "colab": {
          "base_uri": "https://localhost:8080/",
          "height": 526
        },
        "id": "HDJGLVP_CUID",
        "outputId": "4e98af83-3774-4b90-8aec-c96efc6816ae"
      },
      "outputs": [
        {
          "data": {
            "image/png": "[encoded data removed]",
            "text/plain": [
              "<Figure size 1500x600 with 1 Axes>"
            ]
          },
          "metadata": {},
          "output_type": "display_data"
        }
      ],
      "source": [
        "graphs.countplots(df      = ab,\n",
        "                  columns = [\"platform_os\"],\n",
        "                  titles  = [\"Operating System\"],\n",
        "                  labels  = [\"System\"],\n",
        "                  ylabel  = \"Count\",\n",
        "                  palette = [\"#0060FA\",\"#FA9A00\"],\n",
        "                  dim     = (15,6),\n",
        "                  row     = 1,\n",
        "                  col     = 1)"
      ]
    },
    {
      "cell_type": "markdown",
      "metadata": {
        "id": "SIEs06_fqQvd"
      },
      "source": [
        "The author does not provide information what operating systems are encoded by `5` and `6`, though if we had to guess we would say that `6` might be Android."
      ]
    },
    {
      "cell_type": "markdown",
      "metadata": {
        "id": "Jy-nM_Ihk8fr"
      },
      "source": [
        "<a id=\"4i\"></a>\n",
        "### Browser"
      ]
    },
    {
      "cell_type": "code",
      "execution_count": 39,
      "metadata": {
        "colab": {
          "base_uri": "https://localhost:8080/",
          "height": 526
        },
        "id": "Mx63extvCjEh",
        "outputId": "a829739c-251a-4244-f231-1ec9d8c844bf"
      },
      "outputs": [
        {
          "data": {
            "image/png": "[encoded data removed]",
            "text/plain": [
              "<Figure size 1500x600 with 1 Axes>"
            ]
          },
          "metadata": {},
          "output_type": "display_data"
        }
      ],
      "source": [
        "# Address nulls\n",
        "graphs.countplots(df      = ab,\n",
        "                  columns = [\"browser\"],\n",
        "                  titles  = [\"Internet Browser\"],\n",
        "                  labels  = [\"Browswer\"],\n",
        "                  ylabel  = \"Count\",\n",
        "                  palette = [\"#FA9A00\",\"#00FA1D\",\"#0060FA\",\"#FA00DD\"],\n",
        "                  dim     = (15,6),\n",
        "                  row     = 1,\n",
        "                  col     = 1)"
      ]
    },
    {
      "cell_type": "markdown",
      "metadata": {
        "id": "2o9g-8v6qggB"
      },
      "source": [
        " No surprises here, Chrome is the most popular mobile browser worldwide; though we were expecting to see more Safari. Again, this is a susbet of the data so overall trends may be different."
      ]
    },
    {
      "cell_type": "markdown",
      "metadata": {
        "id": "SHTUyno0ARmF"
      },
      "source": [
        "[Section Top](#Visualization)\n",
        "\n",
        "[Top](#Table-Of-Contents)"
      ]
    },
    {
      "cell_type": "markdown",
      "metadata": {
        "id": "IHFEZcJrq1Ti"
      },
      "source": [
        "<a id=\"5\"></a>\n",
        "## Statistical Testing"
      ]
    },
    {
      "cell_type": "markdown",
      "metadata": {
        "id": "f2OLpWs0VsrO"
      },
      "source": [
        "<a id=\"5a\"></a>\n",
        "### Hypotheses"
      ]
    },
    {
      "cell_type": "markdown",
      "metadata": {
        "id": "47hnJTdVVu91"
      },
      "source": [
        "\n",
        "Our hypotheses are the following:\n",
        "\n",
        "- H<sub>0</sub>: the experiment did not produce an increase in questionnaire response\n",
        "\n",
        "- H<sub>A</sub>: the experiment did produced an increase in questionnaire response\n",
        "\n",
        "\n",
        "\n",
        "---\n",
        "\n",
        "\n",
        "\n",
        "ur testing will consist of two portions:\n",
        "\n",
        "1. A/A Testing: this will let us know if our data is valid for the purpose of testing.\n",
        "\n",
        "2. A/B Testing: this will let us know if our experimentation worked and is composed of 3 tests:\n",
        "\n",
        "    - χ<sup>2</sup> test for independence: to test if the data comes from the same distribution, i.e. if the data is independent.\n",
        "\n",
        "    - T-test for means: to test if the two groups have different means.\n",
        "\n",
        "    - Z-test for proportions: to test if the two groups came from different populations of proportion.\n",
        "\n",
        "3. Conclusions: at the end we will evaluate all results and determine if the experiment worked or not."
      ]
    },
    {
      "cell_type": "markdown",
      "metadata": {
        "id": "QLk_ubIbsadx"
      },
      "source": [
        "<a id=\"5b\"></a>\n",
        "### Experiment Alpha\n",
        "\n",
        "For this experiment we will be using a p_value of 0.05, which is standard."
      ]
    },
    {
      "cell_type": "code",
      "execution_count": 40,
      "metadata": {
        "id": "nVIsHidgXEpv"
      },
      "outputs": [],
      "source": [
        "# Experiment parameters\n",
        "alpha = 0.05"
      ]
    },
    {
      "cell_type": "markdown",
      "metadata": {
        "id": "aqMOGGV5NZXl"
      },
      "source": [
        "<a id=\"5c\"></a>\n",
        "### General Stats"
      ]
    },
    {
      "cell_type": "code",
      "execution_count": 41,
      "metadata": {
        "colab": {
          "base_uri": "https://localhost:8080/"
        },
        "id": "LrHHfY3tLXfE",
        "outputId": "9601db3b-9f77-4c31-a367-987b220a33a1"
      },
      "outputs": [
        {
          "name": "stdout",
          "output_type": "stream",
          "text": [
            "Control Sign Up : 264\n",
            "Exposed Sign Up : 308\n",
            "Control Size    : 586\n",
            "Exposed Size    : 657\n"
          ]
        }
      ],
      "source": [
        "# Get the subset tables of control and treatment results\n",
        "control_pop = ab[ab[\"experiment\"] == \"control\"]\n",
        "exposed_pop = ab[ab[\"experiment\"] == \"exposed\"]\n",
        "\n",
        "# Get general stats\n",
        "# Control and treatment counts and rates\n",
        "# Control and treatment samples\n",
        "control_count = control_pop[\"yes\"].sum()          # Control Sign-Up Count\n",
        "exposed_count = exposed_pop[\"yes\"].sum()      # Treatment Sign-Up Count\n",
        "control_size  = control_pop[\"auction_id\"].count()       # Control Sample Size\n",
        "exposed_size  = exposed_pop[\"auction_id\"].count()   # Treatment Sample Size\n",
        "\n",
        "print(f\"Control Sign Up : {control_count}\")\n",
        "print(f\"Exposed Sign Up : {exposed_count}\")\n",
        "print(f\"Control Size    : {control_size}\")\n",
        "print(f\"Exposed Size    : {exposed_size}\")\n"
      ]
    },
    {
      "cell_type": "code",
      "execution_count": 42,
      "metadata": {
        "id": "GvUCCO6RNbwc"
      },
      "outputs": [],
      "source": [
        "# Computing our CI for the T- and Z-tests we will run\n",
        "# Also getting our lower and upper bounds\n",
        "ci = confint_proportions_2indep(exposed_count,\n",
        "                                exposed_size,\n",
        "                                control_count,\n",
        "                                control_size,\n",
        "                                method     = None,\n",
        "                                compare    = 'diff',\n",
        "                                alpha      = alpha,\n",
        "                                correction = True)\n",
        "lower_bound = ci[0]\n",
        "upper_bound = ci[1]"
      ]
    },
    {
      "cell_type": "markdown",
      "metadata": {
        "id": "F5qnsI_PPjZ8"
      },
      "source": [
        "<a id=\"5d\"></a>\n",
        "### Pre-Testing"
      ]
    },
    {
      "cell_type": "markdown",
      "metadata": {
        "id": "TJrT9cBStKiL"
      },
      "source": [
        "Before proceeding with the A/B testing, we opted to perform an A/A test: an A/A test is run to ensure that our two groups are *not* the same. Typically organizations will run A/A testing to ensure that their infrastructure is set up correctly and that the data collection is working as expecting. Since we are not working with any infrastructure for this project, we will A/A test to ensure that our data is in fact not the same.\n",
        "\n",
        "As with A/B testing, we have two hypotheses:\n",
        "\n",
        "- H<sub>0</sub>: The two groups are the same\n",
        "- H<sub>A</sub>: The two groups are not the same"
      ]
    },
    {
      "cell_type": "code",
      "execution_count": 43,
      "metadata": {
        "colab": {
          "base_uri": "https://localhost:8080/"
        },
        "id": "8GUzJ4ivQhlH",
        "outputId": "cf162734-abca-46fc-d235-65f99b87ba61"
      },
      "outputs": [
        {
          "name": "stdout",
          "output_type": "stream",
          "text": [
            "---------- A/A Testing Before A/B Testing ----------\n",
            "The A/A chi2 value : 0.41690289642162887\n",
            "The A/A p_value    : 0.518486498219898\n",
            "Conclusion: \n",
            "\n",
            "Fail to reject the Null hypothesis: proceed with the AB test.\n"
          ]
        }
      ],
      "source": [
        "pre_chi, pre_p, tab = proportions_chisquare([control_count, exposed_count], nobs=[control_size, exposed_size])\n",
        "\n",
        "print(f'---------- A/A Testing Before A/B Testing ----------')\n",
        "print(f'The A/A chi2 value : {pre_chi}')\n",
        "print(f'The A/A p_value    : {pre_p}')\n",
        "\n",
        "  # Printing our conclusion\n",
        "print(\"Conclusion: \\n\")\n",
        "if pre_p < alpha:\n",
        "  print('Reject the Null: conclude that there is statistical significance in the difference between the two groups.')\n",
        "else:\n",
        "  print('Fail to reject the Null hypothesis: proceed with the AB test.')"
      ]
    },
    {
      "cell_type": "markdown",
      "metadata": {
        "id": "rIuSc_szA5Sc"
      },
      "source": [
        "[Section Top](#Statistical-Testing)\n",
        "\n",
        "[Top](#Table-Of-Contents)"
      ]
    },
    {
      "cell_type": "markdown",
      "metadata": {
        "id": "ppQlNjnw_f9S"
      },
      "source": [
        "<a id=\"5e\"></a>\n",
        "###χ<sup>2</sup> Test Of Independence"
      ]
    },
    {
      "cell_type": "markdown",
      "metadata": {
        "id": "34anQfJyzfQ_"
      },
      "source": [
        "Our hypotheses:\n",
        "\n",
        "\n",
        "*   H<sub>0</sub>: The two groups are independent\n",
        "*   H<sub>A</sub>: The two groups are not independent\n",
        "\n",
        "\n",
        "\n",
        "\n",
        "\n",
        "\n"
      ]
    },
    {
      "cell_type": "code",
      "execution_count": 44,
      "metadata": {
        "colab": {
          "base_uri": "https://localhost:8080/"
        },
        "id": "84k1xiVl1OBo",
        "outputId": "d6f7d989-2cdb-4cd6-92f3-5dd5bc524b25"
      },
      "outputs": [
        {
          "name": "stdout",
          "output_type": "stream",
          "text": [
            "Positive Control Responses: 264\n",
            "Negative Control Responses: 322\n",
            "Positive Exposed Responses: 308\n",
            "Negative Exposed Responses: 349\n"
          ]
        }
      ],
      "source": [
        "# Defining sets for our contingency table\n",
        "test_c_yes = ab[(ab[\"experiment\"] == \"control\") & (ab[\"response\"] == \"Yes\")]\n",
        "test_c_no  = ab[(ab[\"experiment\"] == \"control\") & (ab[\"response\"] == \"No\")]\n",
        "test_e_yes = ab[(ab[\"experiment\"] == \"exposed\") & (ab[\"response\"] == \"Yes\")]\n",
        "test_e_no  = ab[(ab[\"experiment\"] == \"exposed\") & (ab[\"response\"] == \"No\")]\n",
        "\n",
        "print(f\"Positive Control Responses: {test_c_yes.shape[0]}\")\n",
        "print(f\"Negative Control Responses: {test_c_no.shape[0]}\")\n",
        "print(f\"Positive Exposed Responses: {test_e_yes.shape[0]}\")\n",
        "print(f\"Negative Exposed Responses: {test_e_no.shape[0]}\")"
      ]
    },
    {
      "cell_type": "code",
      "execution_count": 45,
      "metadata": {
        "colab": {
          "base_uri": "https://localhost:8080/"
        },
        "id": "4B4SfI102aEM",
        "outputId": "55ee641d-584a-451f-c7b4-1764c964eb65"
      },
      "outputs": [
        {
          "name": "stdout",
          "output_type": "stream",
          "text": [
            "The chi2 value is: 0.3465426444731172.\n",
            "There is/are 1 degree(s) of freedom\n",
            "The p-value is 0.5560768104229136 \n",
            "\n",
            "Conclusion: \n",
            "\n",
            "Fail to reject the Null.\n"
          ]
        }
      ],
      "source": [
        "# Grouping our dataset to get counts of `yes` and `no`\n",
        "ab_group = ab.groupby(\"experiment\")[[\"yes\",\"no\"]].sum()\n",
        "\n",
        "# Calculating the chi2 of independence\n",
        "chi2, p_value, dof, expected = stats.chi2_contingency(ab_group)\n",
        "\n",
        "# Saving our chi2 p_value\n",
        "chi_p = p_value\n",
        "\n",
        "# Printing our chi2, the degrees of freedom, and the p_value\n",
        "print(f\"The chi2 value is: {chi2}.\")\n",
        "print(f\"There is/are {dof} degree(s) of freedom\")\n",
        "print(f\"The p-value is {p_value} \\n\")\n",
        "\n",
        "# Printing our conclusion\n",
        "print(\"Conclusion: \\n\")\n",
        "if p_value < alpha:\n",
        "  print('Reject the Null and conclude that there is statistical significance in the difference of response rates.')\n",
        "else:\n",
        "  print('Fail to reject the Null.')"
      ]
    },
    {
      "cell_type": "markdown",
      "metadata": {
        "id": "NypKCLBaAAp9"
      },
      "source": [
        "<a id=\"5f\"></a>\n",
        "### T-test For Means"
      ]
    },
    {
      "cell_type": "markdown",
      "metadata": {
        "id": "QJvKRcWb1H7b"
      },
      "source": [
        "Our hypotheses:\n",
        "\n",
        "\n",
        "*   H<sub>0</sub>: The mean of the two groups is exactly 0\n",
        "*   H<sub>A</sub>: The mean of the two groups is not 0"
      ]
    },
    {
      "cell_type": "code",
      "execution_count": 46,
      "metadata": {
        "colab": {
          "base_uri": "https://localhost:8080/"
        },
        "id": "XV6icAhW7TqX",
        "outputId": "37f600a7-1814-4c31-df74-2ea1db992cde"
      },
      "outputs": [
        {
          "name": "stdout",
          "output_type": "stream",
          "text": [
            "The T-stat value is: 0.6452687398426953.\n",
            "The p-value is 0.5188723218522058\n",
            "Conclusion: \n",
            "\n",
            "Fail to reject the Null.\n"
          ]
        }
      ],
      "source": [
        "# Defining our control and exposed yes responses\n",
        "c_yes = ab[ab[\"experiment\"] == \"control\"][\"yes\"]\n",
        "e_yes = ab[ab[\"experiment\"] == \"exposed\"][\"yes\"]\n",
        "\n",
        "# Conducting the T-test\n",
        "tstat, p_value, ab_df = ttest_ind(e_yes, c_yes)\n",
        "\n",
        "# Saving our T-test p_value\n",
        "ttest_p = p_value\n",
        "\n",
        "# Printing our T-stat and the p_value\n",
        "print(f\"The T-stat value is: {tstat}.\")\n",
        "print(f\"The p-value is {p_value}\")\n",
        "\n",
        "# Printing our conclusion\n",
        "print(\"Conclusion: \\n\")\n",
        "if p_value < alpha:\n",
        "  print('Reject the Null and conclude that there is statistical significance in the difference of response rates.')\n",
        "else:\n",
        "  print('Fail to reject the Null.')"
      ]
    },
    {
      "cell_type": "markdown",
      "metadata": {
        "id": "Dt0_xgHrDlM4"
      },
      "source": [
        "<a id=\"5g\"></a>\n",
        "### Z-test For Proportions"
      ]
    },
    {
      "cell_type": "markdown",
      "metadata": {
        "id": "vWRQr0E210iG"
      },
      "source": [
        "Our hypotheses:\n",
        "\n",
        "\n",
        "*   H<sub>0</sub>: The mean of the two groups is exactly 0\n",
        "*   H<sub>A</sub>: The mean of the two groups is not 0"
      ]
    },
    {
      "cell_type": "code",
      "execution_count": 47,
      "metadata": {
        "colab": {
          "base_uri": "https://localhost:8080/"
        },
        "id": "fJjGbeKXBPiI",
        "outputId": "758a1bb5-1cd6-45cd-fb48-e162e152927c"
      },
      "outputs": [
        {
          "name": "stdout",
          "output_type": "stream",
          "text": [
            "The T-stat value is: -0.645680181221037.\n",
            "The p-value is 0.5184864982198968\n",
            "Conclusion: \n",
            "\n",
            "Fail to reject The Null.\n"
          ]
        }
      ],
      "source": [
        "# Subsetting our dataset into control/exposed\n",
        "c_ab = ab[ab[\"experiment\"] == \"control\"]\n",
        "e_ab = ab[ab['experiment'] == \"exposed\"]\n",
        "\n",
        "# Counting responses for each\n",
        "c_yes   = c_ab[\"yes\"].sum()\n",
        "e_yes   = e_ab[\"yes\"].sum()\n",
        "\n",
        "# Counting total rows for each\n",
        "c_total = c_ab.shape[0]\n",
        "e_total = e_ab.shape[0]\n",
        "\n",
        "# Running the Z test\n",
        "zstat, p_value = proportions_ztest([c_yes, e_yes], [c_total, e_total])\n",
        "\n",
        "# Saving our T-test p_value\n",
        "ztest_p = p_value\n",
        "\n",
        "# Printing our Z-stat and the p_value\n",
        "print(f\"The T-stat value is: {zstat}.\")\n",
        "print(f\"The p-value is {p_value}\")\n",
        "\n",
        "# Printing our conclusion\n",
        "print(\"Conclusion: \\n\")\n",
        "if p_value < alpha:\n",
        "  print('Reject the Null and conclude that there is statistical significance in the difference of response rates.')\n",
        "else:\n",
        "  print('Fail to reject The Null.')"
      ]
    },
    {
      "cell_type": "markdown",
      "metadata": {
        "id": "brgoqEucIKFw"
      },
      "source": [
        "<a id=\"5h\"></a>\n",
        "### Testing Summary"
      ]
    },
    {
      "cell_type": "code",
      "execution_count": 48,
      "metadata": {
        "colab": {
          "base_uri": "https://localhost:8080/"
        },
        "id": "r2mTKuqGFE8W",
        "outputId": "c271ae01-c29d-4030-a197-8b75e0a66753"
      },
      "outputs": [
        {
          "name": "stdout",
          "output_type": "stream",
          "text": [
            "-----------Sample Sizes-------------------\n",
            "Control        : 586\n",
            "Treatment      : 657 \n",
            "\n",
            "-----------Experiment Alpha----------------\n",
            "Alpha          : 0.05 \n",
            "\n",
            "-----------Chi Squared Stats --------------\n",
            "Test Statistic : 0.346543\n",
            "P-Value        : 0.55608 \n",
            "\n",
            "-----------T-Test Stats ------------------\n",
            "Test Statistic : 0.645269\n",
            "P-Value:       : 0.51887 \n",
            "\n",
            "-----------Z-Test Stats ------------------\n",
            "Test Statistic : -0.645680\n",
            "P-Value        : 0.51849 \n",
            "\n",
            "-----------Confidence Intervals ----------\n",
            "Absolute Difference CI: -0.037 to 0.073\n"
          ]
        }
      ],
      "source": [
        "print('-----------Sample Sizes-------------------')\n",
        "print(f'Control        : {control_size}')\n",
        "print(f'Treatment      : {exposed_size} \\n')\n",
        "\n",
        "print('-----------Experiment Alpha----------------')\n",
        "print(f'Alpha          : {alpha} \\n')\n",
        "\n",
        "print('-----------Chi Squared Stats --------------')\n",
        "print(f'Test Statistic : {chi2:3f}')\n",
        "print(f'P-Value        : {chi_p:.5f} \\n')\n",
        "\n",
        "print('-----------T-Test Stats ------------------')\n",
        "print(f'Test Statistic : {tstat:3f}')\n",
        "print(f'P-Value:       : {ttest_p:.5f} \\n')\n",
        "\n",
        "print('-----------Z-Test Stats ------------------')\n",
        "print(f'Test Statistic : {zstat:3f}')\n",
        "print(f'P-Value        : {ztest_p:.5f} \\n')\n",
        "\n",
        "print('-----------Confidence Intervals ----------')\n",
        "print(f'Absolute Difference CI: {lower_bound:.3f} to {upper_bound:.3f}')"
      ]
    },
    {
      "cell_type": "markdown",
      "metadata": {
        "id": "5Ln7WnhhA_gn"
      },
      "source": [
        "[Section Top](#Visualization)\n",
        "\n",
        "[Top](#Table-Of-Contents)"
      ]
    },
    {
      "cell_type": "markdown",
      "metadata": {
        "id": "Ej3QP5VP2DhN"
      },
      "source": [
        "<a id=\"6\"></a>\n",
        "## Conclusions"
      ]
    },
    {
      "cell_type": "markdown",
      "metadata": {
        "id": "l-G9hXzE2ILp"
      },
      "source": [
        "We have failed to reject our null hypothesis:\n",
        "\n",
        "- Our measured p-values are greater than our agreed upon alpha.\n",
        "\n",
        "- Our confidence interval contains 0, which means our p value is greater than alpha."
      ]
    },
    {
      "cell_type": "markdown",
      "metadata": {
        "id": "6RhHcjlUBA20"
      },
      "source": [
        "[Top](#Table-Of-Contents)"
      ]
    }
  ],
  "metadata": {
    "colab": {
      "provenance": []
    },
    "kernelspec": {
      "display_name": "Python 3",
      "name": "python3"
    },
    "language_info": {
      "name": "python"
    }
  },
  "nbformat": 4,
  "nbformat_minor": 0
}
