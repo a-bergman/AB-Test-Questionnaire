{
  "nbformat": 4,
  "nbformat_minor": 0,
  "metadata": {
    "colab": {
      "provenance": []
    },
    "kernelspec": {
      "name": "python3",
      "display_name": "Python 3"
    },
    "language_info": {
      "name": "python"
    }
  },
  "cells": [
    {
      "cell_type": "markdown",
      "source": [
        "## Imports"
      ],
      "metadata": {
        "id": "XXLKjNYoKpC1"
      }
    },
    {
      "cell_type": "code",
      "execution_count": 1,
      "metadata": {
        "id": "ROZD5k3jKJCd",
        "colab": {
          "base_uri": "https://localhost:8080/"
        },
        "outputId": "69c05904-238b-4cd2-aad9-5bd3cb9fdd58"
      },
      "outputs": [
        {
          "output_type": "stream",
          "name": "stdout",
          "text": [
            "Mounted at /content/drive/\n"
          ]
        }
      ],
      "source": [
        "# Basic Imports\n",
        "import random\n",
        "import datetime\n",
        "import sys\n",
        "\n",
        "import pandas            as pd\n",
        "import numpy             as np\n",
        "\n",
        "# Data Reading\n",
        "from google.colab import drive\n",
        "drive.mount(\"/content/drive/\", force_remount=True)\n",
        "\n",
        "# Custom Modules\n",
        "sys.path.append('/content/drive/MyDrive/Data Sets/')\n",
        "import graphs\n",
        "import plotly_graphs as pg\n",
        "\n",
        "# Visuals\n",
        "from warnings        import filterwarnings\n",
        "from IPython.display import display, HTML\n",
        "\n",
        "# Set seed for np random\n",
        "SEED = 42\n",
        "np.random.seed(SEED)"
      ]
    },
    {
      "cell_type": "markdown",
      "source": [
        "## Notebook Customization"
      ],
      "metadata": {
        "id": "7F6X6vhyMiOg"
      }
    },
    {
      "cell_type": "code",
      "source": [
        "# Hiding Warnings\n",
        "filterwarnings('ignore')\n",
        "\n",
        "# Set seed for np random\n",
        "np.random.seed(42)\n",
        "\n",
        "# Making the notebook wider\n",
        "display(HTML(\"<style>.container { width:95% !important; }</style>\"))\n",
        "\n",
        "%matplotlib inline"
      ],
      "metadata": {
        "id": "q_ZbIlgGLKwo",
        "colab": {
          "base_uri": "https://localhost:8080/",
          "height": 17
        },
        "outputId": "cafaabbc-98a1-4830-8d4d-2fea25dc85c0"
      },
      "execution_count": 2,
      "outputs": [
        {
          "output_type": "display_data",
          "data": {
            "text/plain": [
              "<IPython.core.display.HTML object>"
            ],
            "text/html": [
              "<style>.container { width:95% !important; }</style>"
            ]
          },
          "metadata": {}
        }
      ]
    },
    {
      "cell_type": "markdown",
      "source": [
        "## Table Of Contents\n",
        "\n",
        "\n",
        "- [Loading Data](#Loading-Data)\n",
        "- [Part 1 - Exploration](#Exploration)\n",
        "- [Part 2 - Data Cleaning](#Data-Cleaning)\n",
        "    - [Updating Data Type](#Updating-Data-Type)\n",
        "    - [Mapping Values](#Mapping-Values)\n",
        "    - [Creating A Single Target Variable](#Creating-A-Single-Target-Variable)\n",
        "- [Part 3 - Visualization](#Visualization)\n",
        "    - [Reading In Cleaned Data](#Reading-In-Cleaned-Data)\n",
        "    - [Visual - Experiment](#Experiment)\n",
        "    - [Visual - Experiment By Response](#Experiment-By-Response)\n",
        "    - [Visual - Response](#Respone)\n",
        "    - [Visual - Experiment Date](#Experiment-Date)\n",
        "    - [Visual - Experiment Hour](#Experiment-Hour)\n",
        "    - [Visual - Device Make](#Device-Make)\n",
        "    - [Visual - Operating System](#Operating-System)\n",
        "    - [Visual - Browser](#Browser)\n"
      ],
      "metadata": {
        "id": "0AlJIdB33k1U"
      }
    },
    {
      "cell_type": "markdown",
      "source": [
        "<a id=\"1\"></a>\n",
        "\n",
        "## Loading Data"
      ],
      "metadata": {
        "id": "q9YpvVaGSl09"
      }
    },
    {
      "cell_type": "code",
      "source": [
        "# Reading in the data set from Google Drive\n",
        "ab_df = pd.read_csv('/content/drive/MyDrive/Data Sets/AdSmartABdata.csv')"
      ],
      "metadata": {
        "id": "T_mrO6sYMYC9"
      },
      "execution_count": 3,
      "outputs": []
    },
    {
      "cell_type": "markdown",
      "source": [
        "<a id=\"2\"></a>\n",
        "## Part 1 - Exploration"
      ],
      "metadata": {
        "id": "F2z1lQsIShjB"
      }
    },
    {
      "cell_type": "code",
      "source": [
        "# Head 5 rows\n",
        "ab_df.head()"
      ],
      "metadata": {
        "id": "2oXjl0XbSkxS",
        "colab": {
          "base_uri": "https://localhost:8080/",
          "height": 206
        },
        "outputId": "ea67117b-b55c-4310-fdd3-115a377e17aa"
      },
      "execution_count": 4,
      "outputs": [
        {
          "output_type": "execute_result",
          "data": {
            "text/plain": [
              "                             auction_id experiment        date  hour  \\\n",
              "0  0008ef63-77a7-448b-bd1e-075f42c55e39    exposed  2020-07-10     8   \n",
              "1  000eabc5-17ce-4137-8efe-44734d914446    exposed  2020-07-07    10   \n",
              "2  0016d14a-ae18-4a02-a204-6ba53b52f2ed    exposed  2020-07-05     2   \n",
              "3  00187412-2932-4542-a8ef-3633901c98d9    control  2020-07-03    15   \n",
              "4  001a7785-d3fe-4e11-a344-c8735acacc2c    control  2020-07-03    15   \n",
              "\n",
              "          device_make  platform_os                browser  yes  no  \n",
              "0  Generic Smartphone            6          Chrome Mobile    0   0  \n",
              "1  Generic Smartphone            6          Chrome Mobile    0   0  \n",
              "2               E5823            6  Chrome Mobile WebView    0   1  \n",
              "3   Samsung SM-A705FN            6               Facebook    0   0  \n",
              "4  Generic Smartphone            6          Chrome Mobile    0   0  "
            ],
            "text/html": [
              "\n",
              "  <div id=\"df-f60877d6-0723-4827-8115-a1860bb8f5fd\" class=\"colab-df-container\">\n",
              "    <div>\n",
              "<style scoped>\n",
              "    .dataframe tbody tr th:only-of-type {\n",
              "        vertical-align: middle;\n",
              "    }\n",
              "\n",
              "    .dataframe tbody tr th {\n",
              "        vertical-align: top;\n",
              "    }\n",
              "\n",
              "    .dataframe thead th {\n",
              "        text-align: right;\n",
              "    }\n",
              "</style>\n",
              "<table border=\"1\" class=\"dataframe\">\n",
              "  <thead>\n",
              "    <tr style=\"text-align: right;\">\n",
              "      <th></th>\n",
              "      <th>auction_id</th>\n",
              "      <th>experiment</th>\n",
              "      <th>date</th>\n",
              "      <th>hour</th>\n",
              "      <th>device_make</th>\n",
              "      <th>platform_os</th>\n",
              "      <th>browser</th>\n",
              "      <th>yes</th>\n",
              "      <th>no</th>\n",
              "    </tr>\n",
              "  </thead>\n",
              "  <tbody>\n",
              "    <tr>\n",
              "      <th>0</th>\n",
              "      <td>0008ef63-77a7-448b-bd1e-075f42c55e39</td>\n",
              "      <td>exposed</td>\n",
              "      <td>2020-07-10</td>\n",
              "      <td>8</td>\n",
              "      <td>Generic Smartphone</td>\n",
              "      <td>6</td>\n",
              "      <td>Chrome Mobile</td>\n",
              "      <td>0</td>\n",
              "      <td>0</td>\n",
              "    </tr>\n",
              "    <tr>\n",
              "      <th>1</th>\n",
              "      <td>000eabc5-17ce-4137-8efe-44734d914446</td>\n",
              "      <td>exposed</td>\n",
              "      <td>2020-07-07</td>\n",
              "      <td>10</td>\n",
              "      <td>Generic Smartphone</td>\n",
              "      <td>6</td>\n",
              "      <td>Chrome Mobile</td>\n",
              "      <td>0</td>\n",
              "      <td>0</td>\n",
              "    </tr>\n",
              "    <tr>\n",
              "      <th>2</th>\n",
              "      <td>0016d14a-ae18-4a02-a204-6ba53b52f2ed</td>\n",
              "      <td>exposed</td>\n",
              "      <td>2020-07-05</td>\n",
              "      <td>2</td>\n",
              "      <td>E5823</td>\n",
              "      <td>6</td>\n",
              "      <td>Chrome Mobile WebView</td>\n",
              "      <td>0</td>\n",
              "      <td>1</td>\n",
              "    </tr>\n",
              "    <tr>\n",
              "      <th>3</th>\n",
              "      <td>00187412-2932-4542-a8ef-3633901c98d9</td>\n",
              "      <td>control</td>\n",
              "      <td>2020-07-03</td>\n",
              "      <td>15</td>\n",
              "      <td>Samsung SM-A705FN</td>\n",
              "      <td>6</td>\n",
              "      <td>Facebook</td>\n",
              "      <td>0</td>\n",
              "      <td>0</td>\n",
              "    </tr>\n",
              "    <tr>\n",
              "      <th>4</th>\n",
              "      <td>001a7785-d3fe-4e11-a344-c8735acacc2c</td>\n",
              "      <td>control</td>\n",
              "      <td>2020-07-03</td>\n",
              "      <td>15</td>\n",
              "      <td>Generic Smartphone</td>\n",
              "      <td>6</td>\n",
              "      <td>Chrome Mobile</td>\n",
              "      <td>0</td>\n",
              "      <td>0</td>\n",
              "    </tr>\n",
              "  </tbody>\n",
              "</table>\n",
              "</div>\n",
              "    <div class=\"colab-df-buttons\">\n",
              "\n",
              "  <div class=\"colab-df-container\">\n",
              "    <button class=\"colab-df-convert\" onclick=\"convertToInteractive('df-f60877d6-0723-4827-8115-a1860bb8f5fd')\"\n",
              "            title=\"Convert this dataframe to an interactive table.\"\n",
              "            style=\"display:none;\">\n",
              "\n",
              "  <svg xmlns=\"http://www.w3.org/2000/svg\" height=\"24px\" viewBox=\"0 -960 960 960\">\n",
              "    <path d=\"M120-120v-720h720v720H120Zm60-500h600v-160H180v160Zm220 220h160v-160H400v160Zm0 220h160v-160H400v160ZM180-400h160v-160H180v160Zm440 0h160v-160H620v160ZM180-180h160v-160H180v160Zm440 0h160v-160H620v160Z\"/>\n",
              "  </svg>\n",
              "    </button>\n",
              "\n",
              "  <style>\n",
              "    .colab-df-container {\n",
              "      display:flex;\n",
              "      gap: 12px;\n",
              "    }\n",
              "\n",
              "    .colab-df-convert {\n",
              "      background-color: #E8F0FE;\n",
              "      border: none;\n",
              "      border-radius: 50%;\n",
              "      cursor: pointer;\n",
              "      display: none;\n",
              "      fill: #1967D2;\n",
              "      height: 32px;\n",
              "      padding: 0 0 0 0;\n",
              "      width: 32px;\n",
              "    }\n",
              "\n",
              "    .colab-df-convert:hover {\n",
              "      background-color: #E2EBFA;\n",
              "      box-shadow: 0px 1px 2px rgba(60, 64, 67, 0.3), 0px 1px 3px 1px rgba(60, 64, 67, 0.15);\n",
              "      fill: #174EA6;\n",
              "    }\n",
              "\n",
              "    .colab-df-buttons div {\n",
              "      margin-bottom: 4px;\n",
              "    }\n",
              "\n",
              "    [theme=dark] .colab-df-convert {\n",
              "      background-color: #3B4455;\n",
              "      fill: #D2E3FC;\n",
              "    }\n",
              "\n",
              "    [theme=dark] .colab-df-convert:hover {\n",
              "      background-color: #434B5C;\n",
              "      box-shadow: 0px 1px 3px 1px rgba(0, 0, 0, 0.15);\n",
              "      filter: drop-shadow(0px 1px 2px rgba(0, 0, 0, 0.3));\n",
              "      fill: #FFFFFF;\n",
              "    }\n",
              "  </style>\n",
              "\n",
              "    <script>\n",
              "      const buttonEl =\n",
              "        document.querySelector('#df-f60877d6-0723-4827-8115-a1860bb8f5fd button.colab-df-convert');\n",
              "      buttonEl.style.display =\n",
              "        google.colab.kernel.accessAllowed ? 'block' : 'none';\n",
              "\n",
              "      async function convertToInteractive(key) {\n",
              "        const element = document.querySelector('#df-f60877d6-0723-4827-8115-a1860bb8f5fd');\n",
              "        const dataTable =\n",
              "          await google.colab.kernel.invokeFunction('convertToInteractive',\n",
              "                                                    [key], {});\n",
              "        if (!dataTable) return;\n",
              "\n",
              "        const docLinkHtml = 'Like what you see? Visit the ' +\n",
              "          '<a target=\"_blank\" href=https://colab.research.google.com/notebooks/data_table.ipynb>data table notebook</a>'\n",
              "          + ' to learn more about interactive tables.';\n",
              "        element.innerHTML = '';\n",
              "        dataTable['output_type'] = 'display_data';\n",
              "        await google.colab.output.renderOutput(dataTable, element);\n",
              "        const docLink = document.createElement('div');\n",
              "        docLink.innerHTML = docLinkHtml;\n",
              "        element.appendChild(docLink);\n",
              "      }\n",
              "    </script>\n",
              "  </div>\n",
              "\n",
              "\n",
              "    <div id=\"df-be42d64d-f31c-40db-a1a1-108fd2a6be18\">\n",
              "      <button class=\"colab-df-quickchart\" onclick=\"quickchart('df-be42d64d-f31c-40db-a1a1-108fd2a6be18')\"\n",
              "                title=\"Suggest charts\"\n",
              "                style=\"display:none;\">\n",
              "\n",
              "<svg xmlns=\"http://www.w3.org/2000/svg\" height=\"24px\"viewBox=\"0 0 24 24\"\n",
              "     width=\"24px\">\n",
              "    <g>\n",
              "        <path d=\"M19 3H5c-1.1 0-2 .9-2 2v14c0 1.1.9 2 2 2h14c1.1 0 2-.9 2-2V5c0-1.1-.9-2-2-2zM9 17H7v-7h2v7zm4 0h-2V7h2v10zm4 0h-2v-4h2v4z\"/>\n",
              "    </g>\n",
              "</svg>\n",
              "      </button>\n",
              "\n",
              "<style>\n",
              "  .colab-df-quickchart {\n",
              "      --bg-color: #E8F0FE;\n",
              "      --fill-color: #1967D2;\n",
              "      --hover-bg-color: #E2EBFA;\n",
              "      --hover-fill-color: #174EA6;\n",
              "      --disabled-fill-color: #AAA;\n",
              "      --disabled-bg-color: #DDD;\n",
              "  }\n",
              "\n",
              "  [theme=dark] .colab-df-quickchart {\n",
              "      --bg-color: #3B4455;\n",
              "      --fill-color: #D2E3FC;\n",
              "      --hover-bg-color: #434B5C;\n",
              "      --hover-fill-color: #FFFFFF;\n",
              "      --disabled-bg-color: #3B4455;\n",
              "      --disabled-fill-color: #666;\n",
              "  }\n",
              "\n",
              "  .colab-df-quickchart {\n",
              "    background-color: var(--bg-color);\n",
              "    border: none;\n",
              "    border-radius: 50%;\n",
              "    cursor: pointer;\n",
              "    display: none;\n",
              "    fill: var(--fill-color);\n",
              "    height: 32px;\n",
              "    padding: 0;\n",
              "    width: 32px;\n",
              "  }\n",
              "\n",
              "  .colab-df-quickchart:hover {\n",
              "    background-color: var(--hover-bg-color);\n",
              "    box-shadow: 0 1px 2px rgba(60, 64, 67, 0.3), 0 1px 3px 1px rgba(60, 64, 67, 0.15);\n",
              "    fill: var(--button-hover-fill-color);\n",
              "  }\n",
              "\n",
              "  .colab-df-quickchart-complete:disabled,\n",
              "  .colab-df-quickchart-complete:disabled:hover {\n",
              "    background-color: var(--disabled-bg-color);\n",
              "    fill: var(--disabled-fill-color);\n",
              "    box-shadow: none;\n",
              "  }\n",
              "\n",
              "  .colab-df-spinner {\n",
              "    border: 2px solid var(--fill-color);\n",
              "    border-color: transparent;\n",
              "    border-bottom-color: var(--fill-color);\n",
              "    animation:\n",
              "      spin 1s steps(1) infinite;\n",
              "  }\n",
              "\n",
              "  @keyframes spin {\n",
              "    0% {\n",
              "      border-color: transparent;\n",
              "      border-bottom-color: var(--fill-color);\n",
              "      border-left-color: var(--fill-color);\n",
              "    }\n",
              "    20% {\n",
              "      border-color: transparent;\n",
              "      border-left-color: var(--fill-color);\n",
              "      border-top-color: var(--fill-color);\n",
              "    }\n",
              "    30% {\n",
              "      border-color: transparent;\n",
              "      border-left-color: var(--fill-color);\n",
              "      border-top-color: var(--fill-color);\n",
              "      border-right-color: var(--fill-color);\n",
              "    }\n",
              "    40% {\n",
              "      border-color: transparent;\n",
              "      border-right-color: var(--fill-color);\n",
              "      border-top-color: var(--fill-color);\n",
              "    }\n",
              "    60% {\n",
              "      border-color: transparent;\n",
              "      border-right-color: var(--fill-color);\n",
              "    }\n",
              "    80% {\n",
              "      border-color: transparent;\n",
              "      border-right-color: var(--fill-color);\n",
              "      border-bottom-color: var(--fill-color);\n",
              "    }\n",
              "    90% {\n",
              "      border-color: transparent;\n",
              "      border-bottom-color: var(--fill-color);\n",
              "    }\n",
              "  }\n",
              "</style>\n",
              "\n",
              "      <script>\n",
              "        async function quickchart(key) {\n",
              "          const quickchartButtonEl =\n",
              "            document.querySelector('#' + key + ' button');\n",
              "          quickchartButtonEl.disabled = true;  // To prevent multiple clicks.\n",
              "          quickchartButtonEl.classList.add('colab-df-spinner');\n",
              "          try {\n",
              "            const charts = await google.colab.kernel.invokeFunction(\n",
              "                'suggestCharts', [key], {});\n",
              "          } catch (error) {\n",
              "            console.error('Error during call to suggestCharts:', error);\n",
              "          }\n",
              "          quickchartButtonEl.classList.remove('colab-df-spinner');\n",
              "          quickchartButtonEl.classList.add('colab-df-quickchart-complete');\n",
              "        }\n",
              "        (() => {\n",
              "          let quickchartButtonEl =\n",
              "            document.querySelector('#df-be42d64d-f31c-40db-a1a1-108fd2a6be18 button');\n",
              "          quickchartButtonEl.style.display =\n",
              "            google.colab.kernel.accessAllowed ? 'block' : 'none';\n",
              "        })();\n",
              "      </script>\n",
              "    </div>\n",
              "\n",
              "    </div>\n",
              "  </div>\n"
            ],
            "application/vnd.google.colaboratory.intrinsic+json": {
              "type": "dataframe",
              "variable_name": "ab_df",
              "summary": "{\n  \"name\": \"ab_df\",\n  \"rows\": 8077,\n  \"fields\": [\n    {\n      \"column\": \"auction_id\",\n      \"properties\": {\n        \"dtype\": \"string\",\n        \"num_unique_values\": 8077,\n        \"samples\": [\n          \"34da343c-b2cf-452a-a12d-ea3475b4b426\",\n          \"e05daa86-33b5-4607-8168-8c6f475d8cbf\",\n          \"45785b95-514a-4fa8-a094-81df687e3a7d\"\n        ],\n        \"semantic_type\": \"\",\n        \"description\": \"\"\n      }\n    },\n    {\n      \"column\": \"experiment\",\n      \"properties\": {\n        \"dtype\": \"category\",\n        \"num_unique_values\": 2,\n        \"samples\": [\n          \"control\",\n          \"exposed\"\n        ],\n        \"semantic_type\": \"\",\n        \"description\": \"\"\n      }\n    },\n    {\n      \"column\": \"date\",\n      \"properties\": {\n        \"dtype\": \"object\",\n        \"num_unique_values\": 8,\n        \"samples\": [\n          \"2020-07-07\",\n          \"2020-07-04\"\n        ],\n        \"semantic_type\": \"\",\n        \"description\": \"\"\n      }\n    },\n    {\n      \"column\": \"hour\",\n      \"properties\": {\n        \"dtype\": \"number\",\n        \"std\": 5,\n        \"min\": 0,\n        \"max\": 23,\n        \"num_unique_values\": 24,\n        \"samples\": [\n          6,\n          18\n        ],\n        \"semantic_type\": \"\",\n        \"description\": \"\"\n      }\n    },\n    {\n      \"column\": \"device_make\",\n      \"properties\": {\n        \"dtype\": \"category\",\n        \"num_unique_values\": 269,\n        \"samples\": [\n          \"Samsung SM-G975F\",\n          \"Pixel 2\"\n        ],\n        \"semantic_type\": \"\",\n        \"description\": \"\"\n      }\n    },\n    {\n      \"column\": \"platform_os\",\n      \"properties\": {\n        \"dtype\": \"number\",\n        \"std\": 0,\n        \"min\": 5,\n        \"max\": 7,\n        \"num_unique_values\": 3,\n        \"samples\": [\n          6,\n          5\n        ],\n        \"semantic_type\": \"\",\n        \"description\": \"\"\n      }\n    },\n    {\n      \"column\": \"browser\",\n      \"properties\": {\n        \"dtype\": \"category\",\n        \"num_unique_values\": 15,\n        \"samples\": [\n          \"Edge Mobile\",\n          \"Pinterest\"\n        ],\n        \"semantic_type\": \"\",\n        \"description\": \"\"\n      }\n    },\n    {\n      \"column\": \"yes\",\n      \"properties\": {\n        \"dtype\": \"number\",\n        \"std\": 0,\n        \"min\": 0,\n        \"max\": 1,\n        \"num_unique_values\": 2,\n        \"samples\": [\n          1,\n          0\n        ],\n        \"semantic_type\": \"\",\n        \"description\": \"\"\n      }\n    },\n    {\n      \"column\": \"no\",\n      \"properties\": {\n        \"dtype\": \"number\",\n        \"std\": 0,\n        \"min\": 0,\n        \"max\": 1,\n        \"num_unique_values\": 2,\n        \"samples\": [\n          1,\n          0\n        ],\n        \"semantic_type\": \"\",\n        \"description\": \"\"\n      }\n    }\n  ]\n}"
            }
          },
          "metadata": {},
          "execution_count": 4
        }
      ]
    },
    {
      "cell_type": "markdown",
      "source": [
        "Just looking at the dataframe's head, we can immediately see a problem: there are `auction_id` values that did not respond. In addition to the size of the overall dataframe, we need to know how many did not respond."
      ],
      "metadata": {
        "id": "KldSpYoUx8TY"
      }
    },
    {
      "cell_type": "code",
      "source": [
        "# Checking the shape of the data\n",
        "\n",
        "print(f'The shape of the mri set is: {ab_df.shape[0]} rows by {ab_df.shape[1]} columns.')"
      ],
      "metadata": {
        "id": "Qd9o6VKzSvq5",
        "colab": {
          "base_uri": "https://localhost:8080/"
        },
        "outputId": "d572cbbc-29b9-4469-bdb4-f8ef2ff0fa11"
      },
      "execution_count": 5,
      "outputs": [
        {
          "output_type": "stream",
          "name": "stdout",
          "text": [
            "The shape of the mri set is: 8077 rows by 9 columns.\n"
          ]
        }
      ]
    },
    {
      "cell_type": "code",
      "source": [
        "response    = ab_df[(ab_df[\"yes\"] == 1) | (ab_df[\"no\"] == 1)]\n",
        "nonresponse = ab_df[(ab_df[\"yes\"] == 0) & (ab_df[\"no\"] == 0)]\n",
        "\n",
        "print(f\"We have {response.shape[0]} responses and {nonresponse.shape[0]} non-responses.\")"
      ],
      "metadata": {
        "id": "iRKGRIKUwGMj",
        "colab": {
          "base_uri": "https://localhost:8080/"
        },
        "outputId": "78f5b1e2-e8e0-41de-922c-6afb6ab6143b"
      },
      "execution_count": 6,
      "outputs": [
        {
          "output_type": "stream",
          "name": "stdout",
          "text": [
            "We have 1243 responses and 6834 non-responses.\n"
          ]
        }
      ]
    },
    {
      "cell_type": "markdown",
      "source": [
        "This isn't great: only 1,243 or ~15% of the overall data set actually responded. For the purpose of these additional visualizations, we will label the non-respondents as such."
      ],
      "metadata": {
        "id": "zFEMcU8XyOXj"
      }
    },
    {
      "cell_type": "code",
      "source": [
        "# Getting the data types\n",
        "\n",
        "ab_df.info()"
      ],
      "metadata": {
        "id": "klPW2LO5U2WI",
        "colab": {
          "base_uri": "https://localhost:8080/"
        },
        "outputId": "3a193fc6-552f-4d09-d591-f3645c1f6ec3"
      },
      "execution_count": 7,
      "outputs": [
        {
          "output_type": "stream",
          "name": "stdout",
          "text": [
            "<class 'pandas.core.frame.DataFrame'>\n",
            "RangeIndex: 8077 entries, 0 to 8076\n",
            "Data columns (total 9 columns):\n",
            " #   Column       Non-Null Count  Dtype \n",
            "---  ------       --------------  ----- \n",
            " 0   auction_id   8077 non-null   object\n",
            " 1   experiment   8077 non-null   object\n",
            " 2   date         8077 non-null   object\n",
            " 3   hour         8077 non-null   int64 \n",
            " 4   device_make  8077 non-null   object\n",
            " 5   platform_os  8077 non-null   int64 \n",
            " 6   browser      8077 non-null   object\n",
            " 7   yes          8077 non-null   int64 \n",
            " 8   no           8077 non-null   int64 \n",
            "dtypes: int64(4), object(5)\n",
            "memory usage: 568.0+ KB\n"
          ]
        }
      ]
    },
    {
      "cell_type": "code",
      "source": [
        "# Summary of the data types\n",
        "\n",
        "ab_df.dtypes.value_counts()"
      ],
      "metadata": {
        "id": "t3rdPkhnVQa4",
        "colab": {
          "base_uri": "https://localhost:8080/",
          "height": 147
        },
        "outputId": "59af0915-1779-4dab-ec94-c713c9b4d896"
      },
      "execution_count": 8,
      "outputs": [
        {
          "output_type": "execute_result",
          "data": {
            "text/plain": [
              "object    5\n",
              "int64     4\n",
              "Name: count, dtype: int64"
            ],
            "text/html": [
              "<div>\n",
              "<style scoped>\n",
              "    .dataframe tbody tr th:only-of-type {\n",
              "        vertical-align: middle;\n",
              "    }\n",
              "\n",
              "    .dataframe tbody tr th {\n",
              "        vertical-align: top;\n",
              "    }\n",
              "\n",
              "    .dataframe thead th {\n",
              "        text-align: right;\n",
              "    }\n",
              "</style>\n",
              "<table border=\"1\" class=\"dataframe\">\n",
              "  <thead>\n",
              "    <tr style=\"text-align: right;\">\n",
              "      <th></th>\n",
              "      <th>count</th>\n",
              "    </tr>\n",
              "  </thead>\n",
              "  <tbody>\n",
              "    <tr>\n",
              "      <th>object</th>\n",
              "      <td>5</td>\n",
              "    </tr>\n",
              "    <tr>\n",
              "      <th>int64</th>\n",
              "      <td>4</td>\n",
              "    </tr>\n",
              "  </tbody>\n",
              "</table>\n",
              "</div><br><label><b>dtype:</b> int64</label>"
            ]
          },
          "metadata": {},
          "execution_count": 8
        }
      ]
    },
    {
      "cell_type": "code",
      "source": [
        "# Checking for null/missing values\n",
        "\n",
        "ab_df.isnull().sum()"
      ],
      "metadata": {
        "id": "XsUV5jlMVT-s",
        "colab": {
          "base_uri": "https://localhost:8080/",
          "height": 366
        },
        "outputId": "77357a41-611f-41c3-8c75-8c7f04ff6571"
      },
      "execution_count": 9,
      "outputs": [
        {
          "output_type": "execute_result",
          "data": {
            "text/plain": [
              "auction_id     0\n",
              "experiment     0\n",
              "date           0\n",
              "hour           0\n",
              "device_make    0\n",
              "platform_os    0\n",
              "browser        0\n",
              "yes            0\n",
              "no             0\n",
              "dtype: int64"
            ],
            "text/html": [
              "<div>\n",
              "<style scoped>\n",
              "    .dataframe tbody tr th:only-of-type {\n",
              "        vertical-align: middle;\n",
              "    }\n",
              "\n",
              "    .dataframe tbody tr th {\n",
              "        vertical-align: top;\n",
              "    }\n",
              "\n",
              "    .dataframe thead th {\n",
              "        text-align: right;\n",
              "    }\n",
              "</style>\n",
              "<table border=\"1\" class=\"dataframe\">\n",
              "  <thead>\n",
              "    <tr style=\"text-align: right;\">\n",
              "      <th></th>\n",
              "      <th>0</th>\n",
              "    </tr>\n",
              "  </thead>\n",
              "  <tbody>\n",
              "    <tr>\n",
              "      <th>auction_id</th>\n",
              "      <td>0</td>\n",
              "    </tr>\n",
              "    <tr>\n",
              "      <th>experiment</th>\n",
              "      <td>0</td>\n",
              "    </tr>\n",
              "    <tr>\n",
              "      <th>date</th>\n",
              "      <td>0</td>\n",
              "    </tr>\n",
              "    <tr>\n",
              "      <th>hour</th>\n",
              "      <td>0</td>\n",
              "    </tr>\n",
              "    <tr>\n",
              "      <th>device_make</th>\n",
              "      <td>0</td>\n",
              "    </tr>\n",
              "    <tr>\n",
              "      <th>platform_os</th>\n",
              "      <td>0</td>\n",
              "    </tr>\n",
              "    <tr>\n",
              "      <th>browser</th>\n",
              "      <td>0</td>\n",
              "    </tr>\n",
              "    <tr>\n",
              "      <th>yes</th>\n",
              "      <td>0</td>\n",
              "    </tr>\n",
              "    <tr>\n",
              "      <th>no</th>\n",
              "      <td>0</td>\n",
              "    </tr>\n",
              "  </tbody>\n",
              "</table>\n",
              "</div><br><label><b>dtype:</b> int64</label>"
            ]
          },
          "metadata": {},
          "execution_count": 9
        }
      ]
    },
    {
      "cell_type": "code",
      "source": [
        "# Looking At `experiment` value counts\n",
        "ab_df[\"auction_id\"].nunique()"
      ],
      "metadata": {
        "id": "rw81Z4nKu4za",
        "colab": {
          "base_uri": "https://localhost:8080/"
        },
        "outputId": "07b67ce0-85e3-427c-ce54-5294fb88217f"
      },
      "execution_count": 10,
      "outputs": [
        {
          "output_type": "execute_result",
          "data": {
            "text/plain": [
              "8077"
            ]
          },
          "metadata": {},
          "execution_count": 10
        }
      ]
    },
    {
      "cell_type": "code",
      "source": [
        "# Looking At `experiment` value counts\n",
        "ab_df[\"experiment\"].value_counts()"
      ],
      "metadata": {
        "id": "cL84_czuWi6f",
        "colab": {
          "base_uri": "https://localhost:8080/",
          "height": 178
        },
        "outputId": "719512ed-0643-4c11-feef-e415ae0510c5"
      },
      "execution_count": 11,
      "outputs": [
        {
          "output_type": "execute_result",
          "data": {
            "text/plain": [
              "experiment\n",
              "control    4071\n",
              "exposed    4006\n",
              "Name: count, dtype: int64"
            ],
            "text/html": [
              "<div>\n",
              "<style scoped>\n",
              "    .dataframe tbody tr th:only-of-type {\n",
              "        vertical-align: middle;\n",
              "    }\n",
              "\n",
              "    .dataframe tbody tr th {\n",
              "        vertical-align: top;\n",
              "    }\n",
              "\n",
              "    .dataframe thead th {\n",
              "        text-align: right;\n",
              "    }\n",
              "</style>\n",
              "<table border=\"1\" class=\"dataframe\">\n",
              "  <thead>\n",
              "    <tr style=\"text-align: right;\">\n",
              "      <th></th>\n",
              "      <th>count</th>\n",
              "    </tr>\n",
              "    <tr>\n",
              "      <th>experiment</th>\n",
              "      <th></th>\n",
              "    </tr>\n",
              "  </thead>\n",
              "  <tbody>\n",
              "    <tr>\n",
              "      <th>control</th>\n",
              "      <td>4071</td>\n",
              "    </tr>\n",
              "    <tr>\n",
              "      <th>exposed</th>\n",
              "      <td>4006</td>\n",
              "    </tr>\n",
              "  </tbody>\n",
              "</table>\n",
              "</div><br><label><b>dtype:</b> int64</label>"
            ]
          },
          "metadata": {},
          "execution_count": 11
        }
      ]
    },
    {
      "cell_type": "markdown",
      "source": [
        "This works out to ~53% exposed, ~47% control which is close enough to a 50:50 split."
      ],
      "metadata": {
        "id": "bIHJzDVky9Mv"
      }
    },
    {
      "cell_type": "code",
      "source": [
        "# Looking At `date` value counts\n",
        "ab_df[\"date\"].value_counts()"
      ],
      "metadata": {
        "id": "Otuh8ek0WszB",
        "colab": {
          "base_uri": "https://localhost:8080/",
          "height": 366
        },
        "outputId": "ee90eddb-d094-4f61-b0ef-58e13a58073a"
      },
      "execution_count": 12,
      "outputs": [
        {
          "output_type": "execute_result",
          "data": {
            "text/plain": [
              "date\n",
              "2020-07-03    2015\n",
              "2020-07-09    1208\n",
              "2020-07-08    1198\n",
              "2020-07-04     903\n",
              "2020-07-10     893\n",
              "2020-07-05     890\n",
              "2020-07-06     490\n",
              "2020-07-07     480\n",
              "Name: count, dtype: int64"
            ],
            "text/html": [
              "<div>\n",
              "<style scoped>\n",
              "    .dataframe tbody tr th:only-of-type {\n",
              "        vertical-align: middle;\n",
              "    }\n",
              "\n",
              "    .dataframe tbody tr th {\n",
              "        vertical-align: top;\n",
              "    }\n",
              "\n",
              "    .dataframe thead th {\n",
              "        text-align: right;\n",
              "    }\n",
              "</style>\n",
              "<table border=\"1\" class=\"dataframe\">\n",
              "  <thead>\n",
              "    <tr style=\"text-align: right;\">\n",
              "      <th></th>\n",
              "      <th>count</th>\n",
              "    </tr>\n",
              "    <tr>\n",
              "      <th>date</th>\n",
              "      <th></th>\n",
              "    </tr>\n",
              "  </thead>\n",
              "  <tbody>\n",
              "    <tr>\n",
              "      <th>2020-07-03</th>\n",
              "      <td>2015</td>\n",
              "    </tr>\n",
              "    <tr>\n",
              "      <th>2020-07-09</th>\n",
              "      <td>1208</td>\n",
              "    </tr>\n",
              "    <tr>\n",
              "      <th>2020-07-08</th>\n",
              "      <td>1198</td>\n",
              "    </tr>\n",
              "    <tr>\n",
              "      <th>2020-07-04</th>\n",
              "      <td>903</td>\n",
              "    </tr>\n",
              "    <tr>\n",
              "      <th>2020-07-10</th>\n",
              "      <td>893</td>\n",
              "    </tr>\n",
              "    <tr>\n",
              "      <th>2020-07-05</th>\n",
              "      <td>890</td>\n",
              "    </tr>\n",
              "    <tr>\n",
              "      <th>2020-07-06</th>\n",
              "      <td>490</td>\n",
              "    </tr>\n",
              "    <tr>\n",
              "      <th>2020-07-07</th>\n",
              "      <td>480</td>\n",
              "    </tr>\n",
              "  </tbody>\n",
              "</table>\n",
              "</div><br><label><b>dtype:</b> int64</label>"
            ]
          },
          "metadata": {},
          "execution_count": 12
        }
      ]
    },
    {
      "cell_type": "markdown",
      "source": [
        "The experiment ran for a total of 8 days. Ideally, we would have ~14 days of  but we can't o anything about that."
      ],
      "metadata": {
        "id": "Q6YKQt_oYEDG"
      }
    },
    {
      "cell_type": "code",
      "source": [
        "# Looking At `hour` value counts\n",
        "ab_df[\"hour\"].value_counts()"
      ],
      "metadata": {
        "id": "6ijOoTUOWwQH",
        "colab": {
          "base_uri": "https://localhost:8080/",
          "height": 868
        },
        "outputId": "cad84fd8-ddba-41fc-e479-4c4339fa2bea"
      },
      "execution_count": 13,
      "outputs": [
        {
          "output_type": "execute_result",
          "data": {
            "text/plain": [
              "hour\n",
              "15    1895\n",
              "8      394\n",
              "7      381\n",
              "9      346\n",
              "10     336\n",
              "16     335\n",
              "6      327\n",
              "14     319\n",
              "5      302\n",
              "13     290\n",
              "11     282\n",
              "4      281\n",
              "12     278\n",
              "18     273\n",
              "3      266\n",
              "20     264\n",
              "17     263\n",
              "2      230\n",
              "19     227\n",
              "1      222\n",
              "21     206\n",
              "0      194\n",
              "22     135\n",
              "23      31\n",
              "Name: count, dtype: int64"
            ],
            "text/html": [
              "<div>\n",
              "<style scoped>\n",
              "    .dataframe tbody tr th:only-of-type {\n",
              "        vertical-align: middle;\n",
              "    }\n",
              "\n",
              "    .dataframe tbody tr th {\n",
              "        vertical-align: top;\n",
              "    }\n",
              "\n",
              "    .dataframe thead th {\n",
              "        text-align: right;\n",
              "    }\n",
              "</style>\n",
              "<table border=\"1\" class=\"dataframe\">\n",
              "  <thead>\n",
              "    <tr style=\"text-align: right;\">\n",
              "      <th></th>\n",
              "      <th>count</th>\n",
              "    </tr>\n",
              "    <tr>\n",
              "      <th>hour</th>\n",
              "      <th></th>\n",
              "    </tr>\n",
              "  </thead>\n",
              "  <tbody>\n",
              "    <tr>\n",
              "      <th>15</th>\n",
              "      <td>1895</td>\n",
              "    </tr>\n",
              "    <tr>\n",
              "      <th>8</th>\n",
              "      <td>394</td>\n",
              "    </tr>\n",
              "    <tr>\n",
              "      <th>7</th>\n",
              "      <td>381</td>\n",
              "    </tr>\n",
              "    <tr>\n",
              "      <th>9</th>\n",
              "      <td>346</td>\n",
              "    </tr>\n",
              "    <tr>\n",
              "      <th>10</th>\n",
              "      <td>336</td>\n",
              "    </tr>\n",
              "    <tr>\n",
              "      <th>16</th>\n",
              "      <td>335</td>\n",
              "    </tr>\n",
              "    <tr>\n",
              "      <th>6</th>\n",
              "      <td>327</td>\n",
              "    </tr>\n",
              "    <tr>\n",
              "      <th>14</th>\n",
              "      <td>319</td>\n",
              "    </tr>\n",
              "    <tr>\n",
              "      <th>5</th>\n",
              "      <td>302</td>\n",
              "    </tr>\n",
              "    <tr>\n",
              "      <th>13</th>\n",
              "      <td>290</td>\n",
              "    </tr>\n",
              "    <tr>\n",
              "      <th>11</th>\n",
              "      <td>282</td>\n",
              "    </tr>\n",
              "    <tr>\n",
              "      <th>4</th>\n",
              "      <td>281</td>\n",
              "    </tr>\n",
              "    <tr>\n",
              "      <th>12</th>\n",
              "      <td>278</td>\n",
              "    </tr>\n",
              "    <tr>\n",
              "      <th>18</th>\n",
              "      <td>273</td>\n",
              "    </tr>\n",
              "    <tr>\n",
              "      <th>3</th>\n",
              "      <td>266</td>\n",
              "    </tr>\n",
              "    <tr>\n",
              "      <th>20</th>\n",
              "      <td>264</td>\n",
              "    </tr>\n",
              "    <tr>\n",
              "      <th>17</th>\n",
              "      <td>263</td>\n",
              "    </tr>\n",
              "    <tr>\n",
              "      <th>2</th>\n",
              "      <td>230</td>\n",
              "    </tr>\n",
              "    <tr>\n",
              "      <th>19</th>\n",
              "      <td>227</td>\n",
              "    </tr>\n",
              "    <tr>\n",
              "      <th>1</th>\n",
              "      <td>222</td>\n",
              "    </tr>\n",
              "    <tr>\n",
              "      <th>21</th>\n",
              "      <td>206</td>\n",
              "    </tr>\n",
              "    <tr>\n",
              "      <th>0</th>\n",
              "      <td>194</td>\n",
              "    </tr>\n",
              "    <tr>\n",
              "      <th>22</th>\n",
              "      <td>135</td>\n",
              "    </tr>\n",
              "    <tr>\n",
              "      <th>23</th>\n",
              "      <td>31</td>\n",
              "    </tr>\n",
              "  </tbody>\n",
              "</table>\n",
              "</div><br><label><b>dtype:</b> int64</label>"
            ]
          },
          "metadata": {},
          "execution_count": 13
        }
      ]
    },
    {
      "cell_type": "code",
      "source": [
        "# Looking At `device_make` value counts\n",
        "ab_df[\"device_make\"].value_counts()"
      ],
      "metadata": {
        "id": "jtmYTF_ZW2pQ",
        "colab": {
          "base_uri": "https://localhost:8080/",
          "height": 490
        },
        "outputId": "aee6ec2b-c05d-492f-a2ce-1124b4b3a270"
      },
      "execution_count": 14,
      "outputs": [
        {
          "output_type": "execute_result",
          "data": {
            "text/plain": [
              "device_make\n",
              "Generic Smartphone     4743\n",
              "iPhone                  433\n",
              "Samsung SM-G960F        203\n",
              "Samsung SM-G973F        154\n",
              "Samsung SM-G950F        148\n",
              "                       ... \n",
              "Samsung SM-G9730          1\n",
              "Samsung SM-G955U1         1\n",
              "XiaoMi Redmi S2           1\n",
              "Samsung SM-A205F          1\n",
              "XiaoMi Redmi Note 5       1\n",
              "Name: count, Length: 269, dtype: int64"
            ],
            "text/html": [
              "<div>\n",
              "<style scoped>\n",
              "    .dataframe tbody tr th:only-of-type {\n",
              "        vertical-align: middle;\n",
              "    }\n",
              "\n",
              "    .dataframe tbody tr th {\n",
              "        vertical-align: top;\n",
              "    }\n",
              "\n",
              "    .dataframe thead th {\n",
              "        text-align: right;\n",
              "    }\n",
              "</style>\n",
              "<table border=\"1\" class=\"dataframe\">\n",
              "  <thead>\n",
              "    <tr style=\"text-align: right;\">\n",
              "      <th></th>\n",
              "      <th>count</th>\n",
              "    </tr>\n",
              "    <tr>\n",
              "      <th>device_make</th>\n",
              "      <th></th>\n",
              "    </tr>\n",
              "  </thead>\n",
              "  <tbody>\n",
              "    <tr>\n",
              "      <th>Generic Smartphone</th>\n",
              "      <td>4743</td>\n",
              "    </tr>\n",
              "    <tr>\n",
              "      <th>iPhone</th>\n",
              "      <td>433</td>\n",
              "    </tr>\n",
              "    <tr>\n",
              "      <th>Samsung SM-G960F</th>\n",
              "      <td>203</td>\n",
              "    </tr>\n",
              "    <tr>\n",
              "      <th>Samsung SM-G973F</th>\n",
              "      <td>154</td>\n",
              "    </tr>\n",
              "    <tr>\n",
              "      <th>Samsung SM-G950F</th>\n",
              "      <td>148</td>\n",
              "    </tr>\n",
              "    <tr>\n",
              "      <th>...</th>\n",
              "      <td>...</td>\n",
              "    </tr>\n",
              "    <tr>\n",
              "      <th>Samsung SM-G9730</th>\n",
              "      <td>1</td>\n",
              "    </tr>\n",
              "    <tr>\n",
              "      <th>Samsung SM-G955U1</th>\n",
              "      <td>1</td>\n",
              "    </tr>\n",
              "    <tr>\n",
              "      <th>XiaoMi Redmi S2</th>\n",
              "      <td>1</td>\n",
              "    </tr>\n",
              "    <tr>\n",
              "      <th>Samsung SM-A205F</th>\n",
              "      <td>1</td>\n",
              "    </tr>\n",
              "    <tr>\n",
              "      <th>XiaoMi Redmi Note 5</th>\n",
              "      <td>1</td>\n",
              "    </tr>\n",
              "  </tbody>\n",
              "</table>\n",
              "<p>269 rows × 1 columns</p>\n",
              "</div><br><label><b>dtype:</b> int64</label>"
            ]
          },
          "metadata": {},
          "execution_count": 14
        }
      ]
    },
    {
      "cell_type": "markdown",
      "source": [
        "There's a long tail of devices, which we'll clean up."
      ],
      "metadata": {
        "id": "rECGO_w5Yqv6"
      }
    },
    {
      "cell_type": "code",
      "source": [
        "# Looking At `platform_os` value counts\n",
        "ab_df[\"platform_os\"].value_counts()"
      ],
      "metadata": {
        "id": "4XIHGMfXXA-8",
        "colab": {
          "base_uri": "https://localhost:8080/",
          "height": 210
        },
        "outputId": "8c76d487-dc26-47e0-cd8e-d141de69e79c"
      },
      "execution_count": 15,
      "outputs": [
        {
          "output_type": "execute_result",
          "data": {
            "text/plain": [
              "platform_os\n",
              "6    7648\n",
              "5     428\n",
              "7       1\n",
              "Name: count, dtype: int64"
            ],
            "text/html": [
              "<div>\n",
              "<style scoped>\n",
              "    .dataframe tbody tr th:only-of-type {\n",
              "        vertical-align: middle;\n",
              "    }\n",
              "\n",
              "    .dataframe tbody tr th {\n",
              "        vertical-align: top;\n",
              "    }\n",
              "\n",
              "    .dataframe thead th {\n",
              "        text-align: right;\n",
              "    }\n",
              "</style>\n",
              "<table border=\"1\" class=\"dataframe\">\n",
              "  <thead>\n",
              "    <tr style=\"text-align: right;\">\n",
              "      <th></th>\n",
              "      <th>count</th>\n",
              "    </tr>\n",
              "    <tr>\n",
              "      <th>platform_os</th>\n",
              "      <th></th>\n",
              "    </tr>\n",
              "  </thead>\n",
              "  <tbody>\n",
              "    <tr>\n",
              "      <th>6</th>\n",
              "      <td>7648</td>\n",
              "    </tr>\n",
              "    <tr>\n",
              "      <th>5</th>\n",
              "      <td>428</td>\n",
              "    </tr>\n",
              "    <tr>\n",
              "      <th>7</th>\n",
              "      <td>1</td>\n",
              "    </tr>\n",
              "  </tbody>\n",
              "</table>\n",
              "</div><br><label><b>dtype:</b> int64</label>"
            ]
          },
          "metadata": {},
          "execution_count": 15
        }
      ]
    },
    {
      "cell_type": "markdown",
      "source": [
        "The authors did not provide what OS's `5`, `6`, `7` correspond to.\n",
        "\n",
        "These values appear to be categories, so we won't change them."
      ],
      "metadata": {
        "id": "AI5F3EZ6Y7SN"
      }
    },
    {
      "cell_type": "code",
      "source": [
        "ab_df.isnull().sum()"
      ],
      "metadata": {
        "id": "ydq6A-eCcYM2",
        "colab": {
          "base_uri": "https://localhost:8080/",
          "height": 366
        },
        "outputId": "f8121385-7574-4905-c71b-f8286be78e0d"
      },
      "execution_count": 16,
      "outputs": [
        {
          "output_type": "execute_result",
          "data": {
            "text/plain": [
              "auction_id     0\n",
              "experiment     0\n",
              "date           0\n",
              "hour           0\n",
              "device_make    0\n",
              "platform_os    0\n",
              "browser        0\n",
              "yes            0\n",
              "no             0\n",
              "dtype: int64"
            ],
            "text/html": [
              "<div>\n",
              "<style scoped>\n",
              "    .dataframe tbody tr th:only-of-type {\n",
              "        vertical-align: middle;\n",
              "    }\n",
              "\n",
              "    .dataframe tbody tr th {\n",
              "        vertical-align: top;\n",
              "    }\n",
              "\n",
              "    .dataframe thead th {\n",
              "        text-align: right;\n",
              "    }\n",
              "</style>\n",
              "<table border=\"1\" class=\"dataframe\">\n",
              "  <thead>\n",
              "    <tr style=\"text-align: right;\">\n",
              "      <th></th>\n",
              "      <th>0</th>\n",
              "    </tr>\n",
              "  </thead>\n",
              "  <tbody>\n",
              "    <tr>\n",
              "      <th>auction_id</th>\n",
              "      <td>0</td>\n",
              "    </tr>\n",
              "    <tr>\n",
              "      <th>experiment</th>\n",
              "      <td>0</td>\n",
              "    </tr>\n",
              "    <tr>\n",
              "      <th>date</th>\n",
              "      <td>0</td>\n",
              "    </tr>\n",
              "    <tr>\n",
              "      <th>hour</th>\n",
              "      <td>0</td>\n",
              "    </tr>\n",
              "    <tr>\n",
              "      <th>device_make</th>\n",
              "      <td>0</td>\n",
              "    </tr>\n",
              "    <tr>\n",
              "      <th>platform_os</th>\n",
              "      <td>0</td>\n",
              "    </tr>\n",
              "    <tr>\n",
              "      <th>browser</th>\n",
              "      <td>0</td>\n",
              "    </tr>\n",
              "    <tr>\n",
              "      <th>yes</th>\n",
              "      <td>0</td>\n",
              "    </tr>\n",
              "    <tr>\n",
              "      <th>no</th>\n",
              "      <td>0</td>\n",
              "    </tr>\n",
              "  </tbody>\n",
              "</table>\n",
              "</div><br><label><b>dtype:</b> int64</label>"
            ]
          },
          "metadata": {},
          "execution_count": 16
        }
      ]
    },
    {
      "cell_type": "markdown",
      "source": [
        "[Section Top](#Exploration)\n",
        "\n",
        "[Top](#Table-Of-Contents)"
      ],
      "metadata": {
        "id": "c439xenH_pv2"
      }
    },
    {
      "cell_type": "markdown",
      "source": [
        "<a id=\"3\"></a>\n",
        "## Data Cleaning"
      ],
      "metadata": {
        "id": "Le1KEYwxV4Ns"
      }
    },
    {
      "cell_type": "markdown",
      "source": [
        "<a id=\"3a\"></a>\n",
        "### Updating Data Type"
      ],
      "metadata": {
        "id": "5SmCzPqBp4sr"
      }
    },
    {
      "cell_type": "code",
      "source": [
        "# Converting the `date` column to a datetime type\n",
        "ab_df[\"date\"] = pd.to_datetime(ab_df[\"date\"])"
      ],
      "metadata": {
        "id": "kAp8R9cnqaZa"
      },
      "execution_count": 17,
      "outputs": []
    },
    {
      "cell_type": "markdown",
      "source": [
        "<a id=\"3b\"></a>\n",
        "### Mapping Values"
      ],
      "metadata": {
        "id": "ZnrVDfGsmL7M"
      }
    },
    {
      "cell_type": "code",
      "source": [
        "# Defining our dictionaries for mapping\n",
        "\n",
        "# Dictionaries For Data Mapping\n",
        "browser_dict = {\"Android\":\"Other\",\"Chrome\":\"Chrome\",\"Chrome Mobile\":\"Chrome\",\"Chrome Mobile iOS\":\"Chrome\",\"Chrome Mobile WebView\":\"Chrome\",\n",
        "                \"Edge Mobile\":\"Other\",\"Facebook\":\"Facebook\",\"Firefox Mobile\":\"Other\",\"Mobile Safari\":\"Safari\",\n",
        "                \"Mobile Safari UI/WKWebView\":\"Safari\",\"Opera Mini\":\"Other\",\"Opera Mobile\":\"Other\",\"Pinterest\":\"Other\",\"Puffin\":\"Other\",\n",
        "                \"Samsung Internet\":\"Samsung Internet\"}\n",
        "\n",
        "# Mapping device type to manufacturer\n",
        "# We'll rework this later\n",
        "device_dict  = {\"Nexus 5\":\"Google\",\"Pixel 2\":\"Google\",\"Pixel 3\":\"Google\",\"Pixel 3a\":\"Google\",\"Pixel 4\":\"Google\",\"Pixel XL\":\"Google\",\n",
        "                \"ALE-L21\":\"Huawei\",\"ANE-LX1\":\"Huawei\",\"ATU-L11\":\"Huawei\",\"BLA-L09\":\"Huawei\",\"CLT-L09\":\"Huawei\",\"CLT-L29\":\"Huawei\",\n",
        "                \"DUB-LX1\":\"Huawei\",\"ELE-L09\":\"Huawei\",\"ELE-L29\":\"Huawei\",\"EML-L09\":\"Huawei\",\"EML-L29\":\"Huawei\",\"EVA-L09\":\"Huawei\",\n",
        "                \"EVR-N29\":\"Huawei\",\"FIG-LX1\":\"Huawei\",\"HUAWEI $2\":\"Huawei\",\"Huawei Browser\":\"Huawei\",\"LDN-L01\":\"Huawei\",\"LYA-L09\":\"Huawei\",\n",
        "                \"LYA-L29\":\"Huawei\",\"MAR-LX1A\":\"Huawei\",\"MHA-L09\":\"Huawei\",\"MRD-LX1\":\"Huawei\",\"POT-LX1\":\"Huawei\",\"PRA-LX1\":\"Huawei\",\n",
        "                \"RNE-L21\":\"Huawei\",\"SNE-LX1\":\"Huawei\",\"VCE-L22\":\"Huawei\",\"VKY-L09\":\"Huawei\",\"VOG-L09\":\"Huawei\",\"VOG-L29\":\"Huawei\",\n",
        "                \"VTR-L09\":\"Huawei\",\"WAS-LX1A\":\"Huawei\",\"YAL-L21\":\"Huawei\",\"iPhone\":\"iPhone\",\"Lumia 950\":\"Nokia\",\"Nokia undefined$2$3\":\"Nokia\",\n",
        "                \"Nokia$2$3\":\"Nokia\",\"TA-1020\":\"Nokia\",\"TA-1024\":\"Nokia\",\"TA-1033\":\"Nokia\",\"Generic Smartphone\":\"Non Specified\",\"A0001\":\"OnePlus\",\n",
        "                \"OnePlus ONE A2003\":\"OnePlus\",\"OnePlus ONE E1003\":\"OnePlus\",\"OnePlus ONEPLUS A3000\":\"OnePlus\",\"OnePlus ONEPLUS A3003\":\"OnePlus\",\n",
        "                \"OnePlus ONEPLUS A5000\":\"OnePlus\",\"OnePlus ONEPLUS A5010\":\"OnePlus\",\"OnePlus ONEPLUS A6000\":\"OnePlus\",\n",
        "                \"OnePlus ONEPLUS A6003\":\"OnePlus\",\"OnePlus ONEPLUS A6013\":\"OnePlus\",\"5008Y_EEA\":\"Other\",\"5099Y\":\"Other\",\"6039Y\":\"Other\",\n",
        "                \"X4_Soul_Infinity_Z\":\"Other\",\"Asus I01WD\":\"Other\",\"BBB100-2\":\"Other\",\"BBF100-1\":\"Other\",\"CUBOT_X18_Plus\":\"Other\",\n",
        "                \"Doro 8030\":\"Other\",\"BKL-L09\":\"Other\",\"COL-L29\":\"Other\",\"COR-L29\":\"Other\",\"DLI-L22\":\"Other\",\"DUA-L22\":\"Other\",\"FRD-L09\":\"Other\",\n",
        "                \"NEM-L51\":\"Other\",\"PCT-L29\":\"Other\",\"PLK-L01\":\"Other\",\"STF-L09\":\"Other\",\"HTC 10\":\"Other\",\"HTC Desire $2\":\"Other\",\"HTC M10h\":\"Other\",\n",
        "                \"HTC One\":\"Other\",\"HTC One $2\":\"Other\",\"HTC U11\":\"Other\",\"HTC U11 $2\":\"Other\",\"HTC U12+\":\"Other\",\"IMO $2\":\"Other\",\n",
        "                \"Lenovo A1010a20\":\"Other\",\"Lenovo A7020a48\":\"Other\",\"Lenovo P2a42\":\"Other\",\"K7\":\"Other\",\"LG-$2\":\"Other\",\"Moto $2\":\"Other\",\n",
        "                \"moto e5 play\":\"Other\",\"moto e5 plus\":\"Other\",\"Moto$2\":\"Other\",\"XT1032\":\"Other\",\"XT1580\":\"Other\",\"CPH1851\":\"Other\",\"C2105\":\"Other\",\n",
        "                \"C6903\":\"Other\",\"D5503\":\"Other\",\"D5803\":\"Other\",\"D6503\":\"Other\",\"D6603\":\"Other\",\"E5823\":\"Other\",\"E6653\":\"Other\",\"F3111\":\"Other\",\n",
        "                \"F3311\":\"Other\",\"F5321\":\"Other\",\"F8331\":\"Other\",\"G3121\":\"Other\",\"G3221\":\"Other\",\"G3311\":\"Other\",\"H3113\":\"Other\",\"H3311\":\"Other\",\n",
        "                \"I3312\":\"Other\",\"Armor_3\":\"Other\",\"X13\":\"Other\",\"VF-795\":\"Other\",\"VF-895N\":\"Other\",\"VFD 500\":\"Other\",\"VFD 610\":\"Other\",\n",
        "                \"VFD 700\":\"Other\",\"VFD 710\":\"Other\",\"VFD 720\":\"Other\",\"VFD 820\":\"Other\",\"Vodafone $2\":\"Other\",\"Swift 2 Plus\":\"Other\",\n",
        "                \"Wileyfox Swift\":\"Other\",\"XiaoMi MI 6\":\"Other\",\"XiaoMi MI 8\":\"Other\",\"XiaoMi MI 8 Pro\":\"Other\",\"XiaoMi MI MAX 3\":\"Other\",\n",
        "                \"XiaoMi Redmi 3S\":\"Other\",\"XiaoMi Redmi 5 Plus\":\"Other\",\"XiaoMi Redmi 6\":\"Other\",\"XiaoMi Redmi 6A\":\"Other\",\"XiaoMi Redmi 8\":\"Other\",\n",
        "                \"XiaoMi Redmi Note 4\":\"Other\",\"XiaoMi Redmi Note 5\":\"Other\",\"XiaoMi Redmi Note 6 Pro\":\"Other\",\"XiaoMi Redmi Note 7\":\"Other\",\n",
        "                \"XiaoMi Redmi Note 8\":\"Other\",\"XiaoMi Redmi Note 8 Pro\":\"Other\",\"XiaoMi Redmi Note 8T\":\"Other\",\"XiaoMi Redmi S2\":\"Other\",\n",
        "                \"S8\":\"Samsung\",\"Samsung $2\":\"Samsung\",\"Samsung GT-I8200N\":\"Samsung\",\"Samsung GT-I9195\":\"Samsung\",\"Samsung GT-I9195I\":\"Samsung\",\n",
        "                \"Samsung GT-I9300\":\"Samsung\",\"Samsung GT-I9505\":\"Samsung\",\"Samsung GT-P5210\":\"Samsung\",\"Samsung SM-A015M\":\"Samsung\",\n",
        "                \"Samsung SM-A105F\":\"Samsung\",\"Samsung SM-A105FN\":\"Samsung\",\"Samsung SM-A105G\":\"Samsung\",\"Samsung SM-A107F\":\"Samsung\",\n",
        "                \"Samsung SM-A202F\":\"Samsung\",\"Samsung SM-A205F\":\"Samsung\",\"Samsung SM-A205G\":\"Samsung\",\"Samsung SM-A207F\":\"Samsung\",\n",
        "                \"Samsung SM-A217F\":\"Samsung\",\"Samsung SM-A300FU\":\"Samsung\",\"Samsung SM-A305F\":\"Samsung\",\"Samsung SM-A310F\":\"Samsung\",\n",
        "                \"Samsung SM-A320FL\":\"Samsung\",\"Samsung SM-A405FN\":\"Samsung\",\"Samsung SM-A415F\":\"Samsung\",\"Samsung SM-A500FU\":\"Samsung\",\n",
        "                \"Samsung SM-A505F\":\"Samsung\",\"Samsung SM-A505FN\":\"Samsung\",\"Samsung SM-A507FN\":\"Samsung\",\"Samsung SM-A510F\":\"Samsung\",\n",
        "                \"Samsung SM-A515F\":\"Samsung\",\"Samsung SM-A520F\":\"Samsung\",\"Samsung SM-A530F\":\"Samsung\",\"Samsung SM-A600FN\":\"Samsung\",\n",
        "                \"Samsung SM-A605F\":\"Samsung\",\"Samsung SM-A605G\":\"Samsung\",\"Samsung SM-A700F\":\"Samsung\",\"Samsung SM-A705FN\":\"Samsung\",\n",
        "                \"Samsung SM-A715F\":\"Samsung\",\"Samsung SM-A750FN\":\"Samsung\",\"Samsung SM-A750GN\":\"Samsung\",\"Samsung SM-A805F\":\"Samsung\",\n",
        "                \"Samsung SM-A908B\":\"Samsung\",\"Samsung SM-A920F\":\"Samsung\",\"Samsung SM-C9000\":\"Samsung\",\"Samsung SM-F907B\":\"Samsung\",\n",
        "                \"Samsung SM-G361F\":\"Samsung\",\"Samsung SM-G388F\":\"Samsung\",\"Samsung SM-G390F\":\"Samsung\",\"Samsung SM-G570F\":\"Samsung\",\n",
        "                \"Samsung SM-G6100\":\"Samsung\",\"Samsung SM-G610F\":\"Samsung\",\"Samsung SM-G770F\":\"Samsung\",\"Samsung SM-G800F\":\"Samsung\",\n",
        "                \"Samsung SM-G850F\":\"Samsung\",\"Samsung SM-G900F\":\"Samsung\",\"Samsung SM-G900T\":\"Samsung\",\"Samsung SM-G900V\":\"Samsung\",\n",
        "                \"Samsung SM-G901F\":\"Samsung\",\"Samsung SM-G903F\":\"Samsung\",\"Samsung SM-G920F\":\"Samsung\",\"Samsung SM-G925F\":\"Samsung\",\n",
        "                \"Samsung SM-G925I\":\"Samsung\",\"Samsung SM-G928F\":\"Samsung\",\"Samsung SM-G930F\":\"Samsung\",\"Samsung SM-G930L\":\"Samsung\",\n",
        "                \"Samsung SM-G930T\":\"Samsung\",\"Samsung SM-G930U\":\"Samsung\",\"Samsung SM-G930V\":\"Samsung\",\"Samsung SM-G935F\":\"Samsung\",\n",
        "                \"Samsung SM-G935U\":\"Samsung\",\"Samsung SM-G950F\":\"Samsung\",\"Samsung SM-G950U\":\"Samsung\",\"Samsung SM-G950U1\":\"Samsung\",\n",
        "                \"Samsung SM-G955F\":\"Samsung\",\"Samsung SM-G955U\":\"Samsung\",\"Samsung SM-G955U1\":\"Samsung\",\"Samsung SM-G960F\":\"Samsung\",\n",
        "                \"Samsung SM-G960U\":\"Samsung\",\"Samsung SM-G960U1\":\"Samsung\",\"Samsung SM-G965F\":\"Samsung\",\"Samsung SM-G965U1\":\"Samsung\",\n",
        "                \"Samsung SM-G970F\":\"Samsung\",\"Samsung SM-G9730\":\"Samsung\",\"Samsung SM-G973F\":\"Samsung\",\"Samsung SM-G973U\":\"Samsung\",\n",
        "                \"Samsung SM-G975F\":\"Samsung\",\"Samsung SM-G977B\":\"Samsung\",\"Samsung SM-G980F\":\"Samsung\",\"Samsung SM-G981B\":\"Samsung\",\n",
        "                \"Samsung SM-G986B\":\"Samsung\",\"Samsung SM-G986U1\":\"Samsung\",\"Samsung SM-G988B\":\"Samsung\",\"Samsung SM-J250F\":\"Samsung\",\n",
        "                \"Samsung SM-J260F\":\"Samsung\",\"Samsung SM-J320FN\":\"Samsung\",\"Samsung SM-J330F\":\"Samsung\",\"Samsung SM-J330FN\":\"Samsung\",\n",
        "                \"Samsung SM-J330G\":\"Samsung\",\"Samsung SM-J415FN\":\"Samsung\",\"Samsung SM-J500FN\":\"Samsung\",\"Samsung SM-J510FN\":\"Samsung\",\n",
        "                \"Samsung SM-J510GN\":\"Samsung\",\"Samsung SM-J530F\":\"Samsung\",\"Samsung SM-J600FN\":\"Samsung\",\"Samsung SM-J610FN\":\"Samsung\",\n",
        "                \"Samsung SM-J610G\":\"Samsung\",\"Samsung SM-J701F\":\"Samsung\",\"Samsung SM-J710F\":\"Samsung\",\"Samsung SM-J710MN\":\"Samsung\",\n",
        "                \"Samsung SM-J730F\":\"Samsung\",\"Samsung SM-J810F\":\"Samsung\",\"Samsung SM-N770F\":\"Samsung\",\"Samsung SM-N910F\":\"Samsung\",\n",
        "                \"Samsung SM-N920I\":\"Samsung\",\"Samsung SM-N9500\":\"Samsung\",\"Samsung SM-N950F\":\"Samsung\",\"Samsung SM-N960F\":\"Samsung\",\n",
        "                \"Samsung SM-N960U1\":\"Samsung\",\"Samsung SM-N970F\":\"Samsung\",\"Samsung SM-N9750\":\"Samsung\",\"Samsung SM-N975F\":\"Samsung\",\n",
        "                \"Samsung SM-N976B\":\"Samsung\",\"Samsung SM-N976V\":\"Samsung\",\"Samsung undefined$2\":\"Samsung\"}"
      ],
      "metadata": {
        "id": "HhYrBrEoVtBR"
      },
      "execution_count": 18,
      "outputs": []
    },
    {
      "cell_type": "code",
      "source": [
        "# Mapping values for the `browser`, `device_make`\n",
        "# We decided to create new columns for these as we're not running the test on this data set\n",
        "\n",
        "ab_df[\"browser_clean\"]     = ab_df[\"browser\"].map(browser_dict, na_action=\"ignore\")\n",
        "ab_df[\"device_clean\"] = ab_df[\"device_make\"].map(device_dict, na_action=\"ignore\")"
      ],
      "metadata": {
        "id": "wT4XSSvbbnjp"
      },
      "execution_count": 19,
      "outputs": []
    },
    {
      "cell_type": "code",
      "source": [
        "ab_df[\"device_clean\"].value_counts()"
      ],
      "metadata": {
        "colab": {
          "base_uri": "https://localhost:8080/",
          "height": 366
        },
        "id": "cEO038VLjD5i",
        "outputId": "963b2e6c-cffc-4a70-dbb5-8c5597a1beb1"
      },
      "execution_count": 20,
      "outputs": [
        {
          "output_type": "execute_result",
          "data": {
            "text/plain": [
              "device_clean\n",
              "Non Specified    4743\n",
              "Samsung          2110\n",
              "iPhone            433\n",
              "Huawei            293\n",
              "Other             226\n",
              "Nokia             131\n",
              "Google             79\n",
              "OnePlus            62\n",
              "Name: count, dtype: int64"
            ],
            "text/html": [
              "<div>\n",
              "<style scoped>\n",
              "    .dataframe tbody tr th:only-of-type {\n",
              "        vertical-align: middle;\n",
              "    }\n",
              "\n",
              "    .dataframe tbody tr th {\n",
              "        vertical-align: top;\n",
              "    }\n",
              "\n",
              "    .dataframe thead th {\n",
              "        text-align: right;\n",
              "    }\n",
              "</style>\n",
              "<table border=\"1\" class=\"dataframe\">\n",
              "  <thead>\n",
              "    <tr style=\"text-align: right;\">\n",
              "      <th></th>\n",
              "      <th>count</th>\n",
              "    </tr>\n",
              "    <tr>\n",
              "      <th>device_clean</th>\n",
              "      <th></th>\n",
              "    </tr>\n",
              "  </thead>\n",
              "  <tbody>\n",
              "    <tr>\n",
              "      <th>Non Specified</th>\n",
              "      <td>4743</td>\n",
              "    </tr>\n",
              "    <tr>\n",
              "      <th>Samsung</th>\n",
              "      <td>2110</td>\n",
              "    </tr>\n",
              "    <tr>\n",
              "      <th>iPhone</th>\n",
              "      <td>433</td>\n",
              "    </tr>\n",
              "    <tr>\n",
              "      <th>Huawei</th>\n",
              "      <td>293</td>\n",
              "    </tr>\n",
              "    <tr>\n",
              "      <th>Other</th>\n",
              "      <td>226</td>\n",
              "    </tr>\n",
              "    <tr>\n",
              "      <th>Nokia</th>\n",
              "      <td>131</td>\n",
              "    </tr>\n",
              "    <tr>\n",
              "      <th>Google</th>\n",
              "      <td>79</td>\n",
              "    </tr>\n",
              "    <tr>\n",
              "      <th>OnePlus</th>\n",
              "      <td>62</td>\n",
              "    </tr>\n",
              "  </tbody>\n",
              "</table>\n",
              "</div><br><label><b>dtype:</b> int64</label>"
            ]
          },
          "metadata": {},
          "execution_count": 20
        }
      ]
    },
    {
      "cell_type": "code",
      "source": [
        "ab_df.head()"
      ],
      "metadata": {
        "id": "Cs53elPc0Uo8",
        "colab": {
          "base_uri": "https://localhost:8080/",
          "height": 241
        },
        "outputId": "8a4310c5-4110-4e5e-ad5d-4c7d02f01f47"
      },
      "execution_count": 21,
      "outputs": [
        {
          "output_type": "execute_result",
          "data": {
            "text/plain": [
              "                             auction_id experiment       date  hour  \\\n",
              "0  0008ef63-77a7-448b-bd1e-075f42c55e39    exposed 2020-07-10     8   \n",
              "1  000eabc5-17ce-4137-8efe-44734d914446    exposed 2020-07-07    10   \n",
              "2  0016d14a-ae18-4a02-a204-6ba53b52f2ed    exposed 2020-07-05     2   \n",
              "3  00187412-2932-4542-a8ef-3633901c98d9    control 2020-07-03    15   \n",
              "4  001a7785-d3fe-4e11-a344-c8735acacc2c    control 2020-07-03    15   \n",
              "\n",
              "          device_make  platform_os                browser  yes  no  \\\n",
              "0  Generic Smartphone            6          Chrome Mobile    0   0   \n",
              "1  Generic Smartphone            6          Chrome Mobile    0   0   \n",
              "2               E5823            6  Chrome Mobile WebView    0   1   \n",
              "3   Samsung SM-A705FN            6               Facebook    0   0   \n",
              "4  Generic Smartphone            6          Chrome Mobile    0   0   \n",
              "\n",
              "  browser_clean   device_clean  \n",
              "0        Chrome  Non Specified  \n",
              "1        Chrome  Non Specified  \n",
              "2        Chrome          Other  \n",
              "3      Facebook        Samsung  \n",
              "4        Chrome  Non Specified  "
            ],
            "text/html": [
              "\n",
              "  <div id=\"df-59bd52e6-2a42-400e-a240-158fbde3ca52\" class=\"colab-df-container\">\n",
              "    <div>\n",
              "<style scoped>\n",
              "    .dataframe tbody tr th:only-of-type {\n",
              "        vertical-align: middle;\n",
              "    }\n",
              "\n",
              "    .dataframe tbody tr th {\n",
              "        vertical-align: top;\n",
              "    }\n",
              "\n",
              "    .dataframe thead th {\n",
              "        text-align: right;\n",
              "    }\n",
              "</style>\n",
              "<table border=\"1\" class=\"dataframe\">\n",
              "  <thead>\n",
              "    <tr style=\"text-align: right;\">\n",
              "      <th></th>\n",
              "      <th>auction_id</th>\n",
              "      <th>experiment</th>\n",
              "      <th>date</th>\n",
              "      <th>hour</th>\n",
              "      <th>device_make</th>\n",
              "      <th>platform_os</th>\n",
              "      <th>browser</th>\n",
              "      <th>yes</th>\n",
              "      <th>no</th>\n",
              "      <th>browser_clean</th>\n",
              "      <th>device_clean</th>\n",
              "    </tr>\n",
              "  </thead>\n",
              "  <tbody>\n",
              "    <tr>\n",
              "      <th>0</th>\n",
              "      <td>0008ef63-77a7-448b-bd1e-075f42c55e39</td>\n",
              "      <td>exposed</td>\n",
              "      <td>2020-07-10</td>\n",
              "      <td>8</td>\n",
              "      <td>Generic Smartphone</td>\n",
              "      <td>6</td>\n",
              "      <td>Chrome Mobile</td>\n",
              "      <td>0</td>\n",
              "      <td>0</td>\n",
              "      <td>Chrome</td>\n",
              "      <td>Non Specified</td>\n",
              "    </tr>\n",
              "    <tr>\n",
              "      <th>1</th>\n",
              "      <td>000eabc5-17ce-4137-8efe-44734d914446</td>\n",
              "      <td>exposed</td>\n",
              "      <td>2020-07-07</td>\n",
              "      <td>10</td>\n",
              "      <td>Generic Smartphone</td>\n",
              "      <td>6</td>\n",
              "      <td>Chrome Mobile</td>\n",
              "      <td>0</td>\n",
              "      <td>0</td>\n",
              "      <td>Chrome</td>\n",
              "      <td>Non Specified</td>\n",
              "    </tr>\n",
              "    <tr>\n",
              "      <th>2</th>\n",
              "      <td>0016d14a-ae18-4a02-a204-6ba53b52f2ed</td>\n",
              "      <td>exposed</td>\n",
              "      <td>2020-07-05</td>\n",
              "      <td>2</td>\n",
              "      <td>E5823</td>\n",
              "      <td>6</td>\n",
              "      <td>Chrome Mobile WebView</td>\n",
              "      <td>0</td>\n",
              "      <td>1</td>\n",
              "      <td>Chrome</td>\n",
              "      <td>Other</td>\n",
              "    </tr>\n",
              "    <tr>\n",
              "      <th>3</th>\n",
              "      <td>00187412-2932-4542-a8ef-3633901c98d9</td>\n",
              "      <td>control</td>\n",
              "      <td>2020-07-03</td>\n",
              "      <td>15</td>\n",
              "      <td>Samsung SM-A705FN</td>\n",
              "      <td>6</td>\n",
              "      <td>Facebook</td>\n",
              "      <td>0</td>\n",
              "      <td>0</td>\n",
              "      <td>Facebook</td>\n",
              "      <td>Samsung</td>\n",
              "    </tr>\n",
              "    <tr>\n",
              "      <th>4</th>\n",
              "      <td>001a7785-d3fe-4e11-a344-c8735acacc2c</td>\n",
              "      <td>control</td>\n",
              "      <td>2020-07-03</td>\n",
              "      <td>15</td>\n",
              "      <td>Generic Smartphone</td>\n",
              "      <td>6</td>\n",
              "      <td>Chrome Mobile</td>\n",
              "      <td>0</td>\n",
              "      <td>0</td>\n",
              "      <td>Chrome</td>\n",
              "      <td>Non Specified</td>\n",
              "    </tr>\n",
              "  </tbody>\n",
              "</table>\n",
              "</div>\n",
              "    <div class=\"colab-df-buttons\">\n",
              "\n",
              "  <div class=\"colab-df-container\">\n",
              "    <button class=\"colab-df-convert\" onclick=\"convertToInteractive('df-59bd52e6-2a42-400e-a240-158fbde3ca52')\"\n",
              "            title=\"Convert this dataframe to an interactive table.\"\n",
              "            style=\"display:none;\">\n",
              "\n",
              "  <svg xmlns=\"http://www.w3.org/2000/svg\" height=\"24px\" viewBox=\"0 -960 960 960\">\n",
              "    <path d=\"M120-120v-720h720v720H120Zm60-500h600v-160H180v160Zm220 220h160v-160H400v160Zm0 220h160v-160H400v160ZM180-400h160v-160H180v160Zm440 0h160v-160H620v160ZM180-180h160v-160H180v160Zm440 0h160v-160H620v160Z\"/>\n",
              "  </svg>\n",
              "    </button>\n",
              "\n",
              "  <style>\n",
              "    .colab-df-container {\n",
              "      display:flex;\n",
              "      gap: 12px;\n",
              "    }\n",
              "\n",
              "    .colab-df-convert {\n",
              "      background-color: #E8F0FE;\n",
              "      border: none;\n",
              "      border-radius: 50%;\n",
              "      cursor: pointer;\n",
              "      display: none;\n",
              "      fill: #1967D2;\n",
              "      height: 32px;\n",
              "      padding: 0 0 0 0;\n",
              "      width: 32px;\n",
              "    }\n",
              "\n",
              "    .colab-df-convert:hover {\n",
              "      background-color: #E2EBFA;\n",
              "      box-shadow: 0px 1px 2px rgba(60, 64, 67, 0.3), 0px 1px 3px 1px rgba(60, 64, 67, 0.15);\n",
              "      fill: #174EA6;\n",
              "    }\n",
              "\n",
              "    .colab-df-buttons div {\n",
              "      margin-bottom: 4px;\n",
              "    }\n",
              "\n",
              "    [theme=dark] .colab-df-convert {\n",
              "      background-color: #3B4455;\n",
              "      fill: #D2E3FC;\n",
              "    }\n",
              "\n",
              "    [theme=dark] .colab-df-convert:hover {\n",
              "      background-color: #434B5C;\n",
              "      box-shadow: 0px 1px 3px 1px rgba(0, 0, 0, 0.15);\n",
              "      filter: drop-shadow(0px 1px 2px rgba(0, 0, 0, 0.3));\n",
              "      fill: #FFFFFF;\n",
              "    }\n",
              "  </style>\n",
              "\n",
              "    <script>\n",
              "      const buttonEl =\n",
              "        document.querySelector('#df-59bd52e6-2a42-400e-a240-158fbde3ca52 button.colab-df-convert');\n",
              "      buttonEl.style.display =\n",
              "        google.colab.kernel.accessAllowed ? 'block' : 'none';\n",
              "\n",
              "      async function convertToInteractive(key) {\n",
              "        const element = document.querySelector('#df-59bd52e6-2a42-400e-a240-158fbde3ca52');\n",
              "        const dataTable =\n",
              "          await google.colab.kernel.invokeFunction('convertToInteractive',\n",
              "                                                    [key], {});\n",
              "        if (!dataTable) return;\n",
              "\n",
              "        const docLinkHtml = 'Like what you see? Visit the ' +\n",
              "          '<a target=\"_blank\" href=https://colab.research.google.com/notebooks/data_table.ipynb>data table notebook</a>'\n",
              "          + ' to learn more about interactive tables.';\n",
              "        element.innerHTML = '';\n",
              "        dataTable['output_type'] = 'display_data';\n",
              "        await google.colab.output.renderOutput(dataTable, element);\n",
              "        const docLink = document.createElement('div');\n",
              "        docLink.innerHTML = docLinkHtml;\n",
              "        element.appendChild(docLink);\n",
              "      }\n",
              "    </script>\n",
              "  </div>\n",
              "\n",
              "\n",
              "    <div id=\"df-dafd1c01-389d-4206-8398-e286f8544ccc\">\n",
              "      <button class=\"colab-df-quickchart\" onclick=\"quickchart('df-dafd1c01-389d-4206-8398-e286f8544ccc')\"\n",
              "                title=\"Suggest charts\"\n",
              "                style=\"display:none;\">\n",
              "\n",
              "<svg xmlns=\"http://www.w3.org/2000/svg\" height=\"24px\"viewBox=\"0 0 24 24\"\n",
              "     width=\"24px\">\n",
              "    <g>\n",
              "        <path d=\"M19 3H5c-1.1 0-2 .9-2 2v14c0 1.1.9 2 2 2h14c1.1 0 2-.9 2-2V5c0-1.1-.9-2-2-2zM9 17H7v-7h2v7zm4 0h-2V7h2v10zm4 0h-2v-4h2v4z\"/>\n",
              "    </g>\n",
              "</svg>\n",
              "      </button>\n",
              "\n",
              "<style>\n",
              "  .colab-df-quickchart {\n",
              "      --bg-color: #E8F0FE;\n",
              "      --fill-color: #1967D2;\n",
              "      --hover-bg-color: #E2EBFA;\n",
              "      --hover-fill-color: #174EA6;\n",
              "      --disabled-fill-color: #AAA;\n",
              "      --disabled-bg-color: #DDD;\n",
              "  }\n",
              "\n",
              "  [theme=dark] .colab-df-quickchart {\n",
              "      --bg-color: #3B4455;\n",
              "      --fill-color: #D2E3FC;\n",
              "      --hover-bg-color: #434B5C;\n",
              "      --hover-fill-color: #FFFFFF;\n",
              "      --disabled-bg-color: #3B4455;\n",
              "      --disabled-fill-color: #666;\n",
              "  }\n",
              "\n",
              "  .colab-df-quickchart {\n",
              "    background-color: var(--bg-color);\n",
              "    border: none;\n",
              "    border-radius: 50%;\n",
              "    cursor: pointer;\n",
              "    display: none;\n",
              "    fill: var(--fill-color);\n",
              "    height: 32px;\n",
              "    padding: 0;\n",
              "    width: 32px;\n",
              "  }\n",
              "\n",
              "  .colab-df-quickchart:hover {\n",
              "    background-color: var(--hover-bg-color);\n",
              "    box-shadow: 0 1px 2px rgba(60, 64, 67, 0.3), 0 1px 3px 1px rgba(60, 64, 67, 0.15);\n",
              "    fill: var(--button-hover-fill-color);\n",
              "  }\n",
              "\n",
              "  .colab-df-quickchart-complete:disabled,\n",
              "  .colab-df-quickchart-complete:disabled:hover {\n",
              "    background-color: var(--disabled-bg-color);\n",
              "    fill: var(--disabled-fill-color);\n",
              "    box-shadow: none;\n",
              "  }\n",
              "\n",
              "  .colab-df-spinner {\n",
              "    border: 2px solid var(--fill-color);\n",
              "    border-color: transparent;\n",
              "    border-bottom-color: var(--fill-color);\n",
              "    animation:\n",
              "      spin 1s steps(1) infinite;\n",
              "  }\n",
              "\n",
              "  @keyframes spin {\n",
              "    0% {\n",
              "      border-color: transparent;\n",
              "      border-bottom-color: var(--fill-color);\n",
              "      border-left-color: var(--fill-color);\n",
              "    }\n",
              "    20% {\n",
              "      border-color: transparent;\n",
              "      border-left-color: var(--fill-color);\n",
              "      border-top-color: var(--fill-color);\n",
              "    }\n",
              "    30% {\n",
              "      border-color: transparent;\n",
              "      border-left-color: var(--fill-color);\n",
              "      border-top-color: var(--fill-color);\n",
              "      border-right-color: var(--fill-color);\n",
              "    }\n",
              "    40% {\n",
              "      border-color: transparent;\n",
              "      border-right-color: var(--fill-color);\n",
              "      border-top-color: var(--fill-color);\n",
              "    }\n",
              "    60% {\n",
              "      border-color: transparent;\n",
              "      border-right-color: var(--fill-color);\n",
              "    }\n",
              "    80% {\n",
              "      border-color: transparent;\n",
              "      border-right-color: var(--fill-color);\n",
              "      border-bottom-color: var(--fill-color);\n",
              "    }\n",
              "    90% {\n",
              "      border-color: transparent;\n",
              "      border-bottom-color: var(--fill-color);\n",
              "    }\n",
              "  }\n",
              "</style>\n",
              "\n",
              "      <script>\n",
              "        async function quickchart(key) {\n",
              "          const quickchartButtonEl =\n",
              "            document.querySelector('#' + key + ' button');\n",
              "          quickchartButtonEl.disabled = true;  // To prevent multiple clicks.\n",
              "          quickchartButtonEl.classList.add('colab-df-spinner');\n",
              "          try {\n",
              "            const charts = await google.colab.kernel.invokeFunction(\n",
              "                'suggestCharts', [key], {});\n",
              "          } catch (error) {\n",
              "            console.error('Error during call to suggestCharts:', error);\n",
              "          }\n",
              "          quickchartButtonEl.classList.remove('colab-df-spinner');\n",
              "          quickchartButtonEl.classList.add('colab-df-quickchart-complete');\n",
              "        }\n",
              "        (() => {\n",
              "          let quickchartButtonEl =\n",
              "            document.querySelector('#df-dafd1c01-389d-4206-8398-e286f8544ccc button');\n",
              "          quickchartButtonEl.style.display =\n",
              "            google.colab.kernel.accessAllowed ? 'block' : 'none';\n",
              "        })();\n",
              "      </script>\n",
              "    </div>\n",
              "\n",
              "    </div>\n",
              "  </div>\n"
            ],
            "application/vnd.google.colaboratory.intrinsic+json": {
              "type": "dataframe",
              "variable_name": "ab_df",
              "summary": "{\n  \"name\": \"ab_df\",\n  \"rows\": 8077,\n  \"fields\": [\n    {\n      \"column\": \"auction_id\",\n      \"properties\": {\n        \"dtype\": \"string\",\n        \"num_unique_values\": 8077,\n        \"samples\": [\n          \"34da343c-b2cf-452a-a12d-ea3475b4b426\",\n          \"e05daa86-33b5-4607-8168-8c6f475d8cbf\",\n          \"45785b95-514a-4fa8-a094-81df687e3a7d\"\n        ],\n        \"semantic_type\": \"\",\n        \"description\": \"\"\n      }\n    },\n    {\n      \"column\": \"experiment\",\n      \"properties\": {\n        \"dtype\": \"category\",\n        \"num_unique_values\": 2,\n        \"samples\": [\n          \"control\",\n          \"exposed\"\n        ],\n        \"semantic_type\": \"\",\n        \"description\": \"\"\n      }\n    },\n    {\n      \"column\": \"date\",\n      \"properties\": {\n        \"dtype\": \"date\",\n        \"min\": \"2020-07-03 00:00:00\",\n        \"max\": \"2020-07-10 00:00:00\",\n        \"num_unique_values\": 8,\n        \"samples\": [\n          \"2020-07-07 00:00:00\",\n          \"2020-07-04 00:00:00\"\n        ],\n        \"semantic_type\": \"\",\n        \"description\": \"\"\n      }\n    },\n    {\n      \"column\": \"hour\",\n      \"properties\": {\n        \"dtype\": \"number\",\n        \"std\": 5,\n        \"min\": 0,\n        \"max\": 23,\n        \"num_unique_values\": 24,\n        \"samples\": [\n          6,\n          18\n        ],\n        \"semantic_type\": \"\",\n        \"description\": \"\"\n      }\n    },\n    {\n      \"column\": \"device_make\",\n      \"properties\": {\n        \"dtype\": \"category\",\n        \"num_unique_values\": 269,\n        \"samples\": [\n          \"Samsung SM-G975F\",\n          \"Pixel 2\"\n        ],\n        \"semantic_type\": \"\",\n        \"description\": \"\"\n      }\n    },\n    {\n      \"column\": \"platform_os\",\n      \"properties\": {\n        \"dtype\": \"number\",\n        \"std\": 0,\n        \"min\": 5,\n        \"max\": 7,\n        \"num_unique_values\": 3,\n        \"samples\": [\n          6,\n          5\n        ],\n        \"semantic_type\": \"\",\n        \"description\": \"\"\n      }\n    },\n    {\n      \"column\": \"browser\",\n      \"properties\": {\n        \"dtype\": \"category\",\n        \"num_unique_values\": 15,\n        \"samples\": [\n          \"Edge Mobile\",\n          \"Pinterest\"\n        ],\n        \"semantic_type\": \"\",\n        \"description\": \"\"\n      }\n    },\n    {\n      \"column\": \"yes\",\n      \"properties\": {\n        \"dtype\": \"number\",\n        \"std\": 0,\n        \"min\": 0,\n        \"max\": 1,\n        \"num_unique_values\": 2,\n        \"samples\": [\n          1,\n          0\n        ],\n        \"semantic_type\": \"\",\n        \"description\": \"\"\n      }\n    },\n    {\n      \"column\": \"no\",\n      \"properties\": {\n        \"dtype\": \"number\",\n        \"std\": 0,\n        \"min\": 0,\n        \"max\": 1,\n        \"num_unique_values\": 2,\n        \"samples\": [\n          1,\n          0\n        ],\n        \"semantic_type\": \"\",\n        \"description\": \"\"\n      }\n    },\n    {\n      \"column\": \"browser_clean\",\n      \"properties\": {\n        \"dtype\": \"category\",\n        \"num_unique_values\": 5,\n        \"samples\": [\n          \"Facebook\",\n          \"Other\"\n        ],\n        \"semantic_type\": \"\",\n        \"description\": \"\"\n      }\n    },\n    {\n      \"column\": \"device_clean\",\n      \"properties\": {\n        \"dtype\": \"category\",\n        \"num_unique_values\": 8,\n        \"samples\": [\n          \"Other\",\n          \"Google\"\n        ],\n        \"semantic_type\": \"\",\n        \"description\": \"\"\n      }\n    }\n  ]\n}"
            }
          },
          "metadata": {},
          "execution_count": 21
        }
      ]
    },
    {
      "cell_type": "markdown",
      "source": [
        "<a id=\"3c\"></a>\n",
        "### Creating A Single Target Variable"
      ],
      "metadata": {
        "id": "c1319K3BtWNm"
      }
    },
    {
      "cell_type": "code",
      "source": [
        "ab_df[(ab_df[\"yes\"] == 1) & (ab_df[\"no\"] == 1)]"
      ],
      "metadata": {
        "id": "cTzNLoJJ3OeT",
        "colab": {
          "base_uri": "https://localhost:8080/",
          "height": 53
        },
        "outputId": "a648c355-e789-45d6-fb29-91d04ec72ebd"
      },
      "execution_count": 22,
      "outputs": [
        {
          "output_type": "execute_result",
          "data": {
            "text/plain": [
              "Empty DataFrame\n",
              "Columns: [auction_id, experiment, date, hour, device_make, platform_os, browser, yes, no, browser_clean, device_clean]\n",
              "Index: []"
            ],
            "text/html": [
              "\n",
              "  <div id=\"df-efa60cab-0771-48f2-99e7-4ef7121ac1fc\" class=\"colab-df-container\">\n",
              "    <div>\n",
              "<style scoped>\n",
              "    .dataframe tbody tr th:only-of-type {\n",
              "        vertical-align: middle;\n",
              "    }\n",
              "\n",
              "    .dataframe tbody tr th {\n",
              "        vertical-align: top;\n",
              "    }\n",
              "\n",
              "    .dataframe thead th {\n",
              "        text-align: right;\n",
              "    }\n",
              "</style>\n",
              "<table border=\"1\" class=\"dataframe\">\n",
              "  <thead>\n",
              "    <tr style=\"text-align: right;\">\n",
              "      <th></th>\n",
              "      <th>auction_id</th>\n",
              "      <th>experiment</th>\n",
              "      <th>date</th>\n",
              "      <th>hour</th>\n",
              "      <th>device_make</th>\n",
              "      <th>platform_os</th>\n",
              "      <th>browser</th>\n",
              "      <th>yes</th>\n",
              "      <th>no</th>\n",
              "      <th>browser_clean</th>\n",
              "      <th>device_clean</th>\n",
              "    </tr>\n",
              "  </thead>\n",
              "  <tbody>\n",
              "  </tbody>\n",
              "</table>\n",
              "</div>\n",
              "    <div class=\"colab-df-buttons\">\n",
              "\n",
              "  <div class=\"colab-df-container\">\n",
              "    <button class=\"colab-df-convert\" onclick=\"convertToInteractive('df-efa60cab-0771-48f2-99e7-4ef7121ac1fc')\"\n",
              "            title=\"Convert this dataframe to an interactive table.\"\n",
              "            style=\"display:none;\">\n",
              "\n",
              "  <svg xmlns=\"http://www.w3.org/2000/svg\" height=\"24px\" viewBox=\"0 -960 960 960\">\n",
              "    <path d=\"M120-120v-720h720v720H120Zm60-500h600v-160H180v160Zm220 220h160v-160H400v160Zm0 220h160v-160H400v160ZM180-400h160v-160H180v160Zm440 0h160v-160H620v160ZM180-180h160v-160H180v160Zm440 0h160v-160H620v160Z\"/>\n",
              "  </svg>\n",
              "    </button>\n",
              "\n",
              "  <style>\n",
              "    .colab-df-container {\n",
              "      display:flex;\n",
              "      gap: 12px;\n",
              "    }\n",
              "\n",
              "    .colab-df-convert {\n",
              "      background-color: #E8F0FE;\n",
              "      border: none;\n",
              "      border-radius: 50%;\n",
              "      cursor: pointer;\n",
              "      display: none;\n",
              "      fill: #1967D2;\n",
              "      height: 32px;\n",
              "      padding: 0 0 0 0;\n",
              "      width: 32px;\n",
              "    }\n",
              "\n",
              "    .colab-df-convert:hover {\n",
              "      background-color: #E2EBFA;\n",
              "      box-shadow: 0px 1px 2px rgba(60, 64, 67, 0.3), 0px 1px 3px 1px rgba(60, 64, 67, 0.15);\n",
              "      fill: #174EA6;\n",
              "    }\n",
              "\n",
              "    .colab-df-buttons div {\n",
              "      margin-bottom: 4px;\n",
              "    }\n",
              "\n",
              "    [theme=dark] .colab-df-convert {\n",
              "      background-color: #3B4455;\n",
              "      fill: #D2E3FC;\n",
              "    }\n",
              "\n",
              "    [theme=dark] .colab-df-convert:hover {\n",
              "      background-color: #434B5C;\n",
              "      box-shadow: 0px 1px 3px 1px rgba(0, 0, 0, 0.15);\n",
              "      filter: drop-shadow(0px 1px 2px rgba(0, 0, 0, 0.3));\n",
              "      fill: #FFFFFF;\n",
              "    }\n",
              "  </style>\n",
              "\n",
              "    <script>\n",
              "      const buttonEl =\n",
              "        document.querySelector('#df-efa60cab-0771-48f2-99e7-4ef7121ac1fc button.colab-df-convert');\n",
              "      buttonEl.style.display =\n",
              "        google.colab.kernel.accessAllowed ? 'block' : 'none';\n",
              "\n",
              "      async function convertToInteractive(key) {\n",
              "        const element = document.querySelector('#df-efa60cab-0771-48f2-99e7-4ef7121ac1fc');\n",
              "        const dataTable =\n",
              "          await google.colab.kernel.invokeFunction('convertToInteractive',\n",
              "                                                    [key], {});\n",
              "        if (!dataTable) return;\n",
              "\n",
              "        const docLinkHtml = 'Like what you see? Visit the ' +\n",
              "          '<a target=\"_blank\" href=https://colab.research.google.com/notebooks/data_table.ipynb>data table notebook</a>'\n",
              "          + ' to learn more about interactive tables.';\n",
              "        element.innerHTML = '';\n",
              "        dataTable['output_type'] = 'display_data';\n",
              "        await google.colab.output.renderOutput(dataTable, element);\n",
              "        const docLink = document.createElement('div');\n",
              "        docLink.innerHTML = docLinkHtml;\n",
              "        element.appendChild(docLink);\n",
              "      }\n",
              "    </script>\n",
              "  </div>\n",
              "\n",
              "\n",
              "    </div>\n",
              "  </div>\n"
            ],
            "application/vnd.google.colaboratory.intrinsic+json": {
              "type": "dataframe",
              "repr_error": "Out of range float values are not JSON compliant: nan"
            }
          },
          "metadata": {},
          "execution_count": 22
        }
      ]
    },
    {
      "cell_type": "markdown",
      "source": [
        "We can see that there aren't any erroneous rows that have `1` for both `yes` and `no`."
      ],
      "metadata": {
        "id": "j3t3_FHI4xtU"
      }
    },
    {
      "cell_type": "code",
      "source": [
        "conditions = [ab_df[\"no\"] == 1,\n",
        "              ab_df[\"yes\"] == 1,\n",
        "              (ab_df[\"yes\"] == 0) & (ab_df[\"no\"] == 0)]\n",
        "\n",
        "values = [0,1,99]\n",
        "\n",
        "ab_df[\"response\"] = np.select(conditions,values)\n",
        "ab_df[\"response\"] = ab_df[\"response\"].map({0:\"No\",1:\"Yes\",99:\"Non Response\"})"
      ],
      "metadata": {
        "id": "5Mgx-kwxtbm5"
      },
      "execution_count": 23,
      "outputs": []
    },
    {
      "cell_type": "code",
      "source": [
        "# Checking our results\n",
        "ab_df[\"response\"].value_counts()"
      ],
      "metadata": {
        "id": "J3Mp4MZr2AW6",
        "colab": {
          "base_uri": "https://localhost:8080/",
          "height": 210
        },
        "outputId": "f8e8ddbd-446d-4a40-b995-7b364b886d7d"
      },
      "execution_count": 24,
      "outputs": [
        {
          "output_type": "execute_result",
          "data": {
            "text/plain": [
              "response\n",
              "Non Response    6834\n",
              "No               671\n",
              "Yes              572\n",
              "Name: count, dtype: int64"
            ],
            "text/html": [
              "<div>\n",
              "<style scoped>\n",
              "    .dataframe tbody tr th:only-of-type {\n",
              "        vertical-align: middle;\n",
              "    }\n",
              "\n",
              "    .dataframe tbody tr th {\n",
              "        vertical-align: top;\n",
              "    }\n",
              "\n",
              "    .dataframe thead th {\n",
              "        text-align: right;\n",
              "    }\n",
              "</style>\n",
              "<table border=\"1\" class=\"dataframe\">\n",
              "  <thead>\n",
              "    <tr style=\"text-align: right;\">\n",
              "      <th></th>\n",
              "      <th>count</th>\n",
              "    </tr>\n",
              "    <tr>\n",
              "      <th>response</th>\n",
              "      <th></th>\n",
              "    </tr>\n",
              "  </thead>\n",
              "  <tbody>\n",
              "    <tr>\n",
              "      <th>Non Response</th>\n",
              "      <td>6834</td>\n",
              "    </tr>\n",
              "    <tr>\n",
              "      <th>No</th>\n",
              "      <td>671</td>\n",
              "    </tr>\n",
              "    <tr>\n",
              "      <th>Yes</th>\n",
              "      <td>572</td>\n",
              "    </tr>\n",
              "  </tbody>\n",
              "</table>\n",
              "</div><br><label><b>dtype:</b> int64</label>"
            ]
          },
          "metadata": {},
          "execution_count": 24
        }
      ]
    },
    {
      "cell_type": "markdown",
      "source": [
        "Cross referencing our results from above:\n",
        "\n",
        "> We have 1243 responses and 6834 non-responses.\n",
        "\n",
        "Our mapping worked correctly"
      ],
      "metadata": {
        "id": "-75ACmBVphq2"
      }
    },
    {
      "cell_type": "code",
      "source": [
        "# Saving to a new .csv and resetting the index\n",
        "ab_df.to_csv(\"/content/drive/MyDrive/Data Sets/ab_full_cleaned_data.csv\",index=False)"
      ],
      "metadata": {
        "id": "DYcdpZE25h1N"
      },
      "execution_count": 25,
      "outputs": []
    },
    {
      "cell_type": "markdown",
      "source": [
        "[Section Top](#Exploration)\n",
        "\n",
        "[Top](#Table-Of-Contents)"
      ],
      "metadata": {
        "id": "0XU_alXP_24-"
      }
    },
    {
      "cell_type": "markdown",
      "source": [
        "<a id=\"4\"></a>\n",
        "## Visualization"
      ],
      "metadata": {
        "id": "-vNfWtba6p2Z"
      }
    },
    {
      "cell_type": "markdown",
      "source": [
        "<a id=\"4a\"></a>\n",
        "### Reading In Cleaned Data"
      ],
      "metadata": {
        "id": "pC9n6sLn61VH"
      }
    },
    {
      "cell_type": "code",
      "source": [
        "ab = pd.read_csv(\"/content/drive/MyDrive/Data Sets/ab_full_cleaned_data.csv\")"
      ],
      "metadata": {
        "id": "UZEFSApQ62ty"
      },
      "execution_count": 26,
      "outputs": []
    },
    {
      "cell_type": "code",
      "source": [
        "# Checking the layout\n",
        "ab.head()"
      ],
      "metadata": {
        "id": "YOUB1FlJ8p5S",
        "colab": {
          "base_uri": "https://localhost:8080/",
          "height": 310
        },
        "outputId": "246af226-8b19-4354-ca4f-d6cdc618ca35"
      },
      "execution_count": 27,
      "outputs": [
        {
          "output_type": "execute_result",
          "data": {
            "text/plain": [
              "                             auction_id experiment        date  hour  \\\n",
              "0  0008ef63-77a7-448b-bd1e-075f42c55e39    exposed  2020-07-10     8   \n",
              "1  000eabc5-17ce-4137-8efe-44734d914446    exposed  2020-07-07    10   \n",
              "2  0016d14a-ae18-4a02-a204-6ba53b52f2ed    exposed  2020-07-05     2   \n",
              "3  00187412-2932-4542-a8ef-3633901c98d9    control  2020-07-03    15   \n",
              "4  001a7785-d3fe-4e11-a344-c8735acacc2c    control  2020-07-03    15   \n",
              "\n",
              "          device_make  platform_os                browser  yes  no  \\\n",
              "0  Generic Smartphone            6          Chrome Mobile    0   0   \n",
              "1  Generic Smartphone            6          Chrome Mobile    0   0   \n",
              "2               E5823            6  Chrome Mobile WebView    0   1   \n",
              "3   Samsung SM-A705FN            6               Facebook    0   0   \n",
              "4  Generic Smartphone            6          Chrome Mobile    0   0   \n",
              "\n",
              "  browser_clean   device_clean      response  \n",
              "0        Chrome  Non Specified  Non Response  \n",
              "1        Chrome  Non Specified  Non Response  \n",
              "2        Chrome          Other            No  \n",
              "3      Facebook        Samsung  Non Response  \n",
              "4        Chrome  Non Specified  Non Response  "
            ],
            "text/html": [
              "\n",
              "  <div id=\"df-7308c5cb-2a8b-4482-8143-b5ddbfd4f775\" class=\"colab-df-container\">\n",
              "    <div>\n",
              "<style scoped>\n",
              "    .dataframe tbody tr th:only-of-type {\n",
              "        vertical-align: middle;\n",
              "    }\n",
              "\n",
              "    .dataframe tbody tr th {\n",
              "        vertical-align: top;\n",
              "    }\n",
              "\n",
              "    .dataframe thead th {\n",
              "        text-align: right;\n",
              "    }\n",
              "</style>\n",
              "<table border=\"1\" class=\"dataframe\">\n",
              "  <thead>\n",
              "    <tr style=\"text-align: right;\">\n",
              "      <th></th>\n",
              "      <th>auction_id</th>\n",
              "      <th>experiment</th>\n",
              "      <th>date</th>\n",
              "      <th>hour</th>\n",
              "      <th>device_make</th>\n",
              "      <th>platform_os</th>\n",
              "      <th>browser</th>\n",
              "      <th>yes</th>\n",
              "      <th>no</th>\n",
              "      <th>browser_clean</th>\n",
              "      <th>device_clean</th>\n",
              "      <th>response</th>\n",
              "    </tr>\n",
              "  </thead>\n",
              "  <tbody>\n",
              "    <tr>\n",
              "      <th>0</th>\n",
              "      <td>0008ef63-77a7-448b-bd1e-075f42c55e39</td>\n",
              "      <td>exposed</td>\n",
              "      <td>2020-07-10</td>\n",
              "      <td>8</td>\n",
              "      <td>Generic Smartphone</td>\n",
              "      <td>6</td>\n",
              "      <td>Chrome Mobile</td>\n",
              "      <td>0</td>\n",
              "      <td>0</td>\n",
              "      <td>Chrome</td>\n",
              "      <td>Non Specified</td>\n",
              "      <td>Non Response</td>\n",
              "    </tr>\n",
              "    <tr>\n",
              "      <th>1</th>\n",
              "      <td>000eabc5-17ce-4137-8efe-44734d914446</td>\n",
              "      <td>exposed</td>\n",
              "      <td>2020-07-07</td>\n",
              "      <td>10</td>\n",
              "      <td>Generic Smartphone</td>\n",
              "      <td>6</td>\n",
              "      <td>Chrome Mobile</td>\n",
              "      <td>0</td>\n",
              "      <td>0</td>\n",
              "      <td>Chrome</td>\n",
              "      <td>Non Specified</td>\n",
              "      <td>Non Response</td>\n",
              "    </tr>\n",
              "    <tr>\n",
              "      <th>2</th>\n",
              "      <td>0016d14a-ae18-4a02-a204-6ba53b52f2ed</td>\n",
              "      <td>exposed</td>\n",
              "      <td>2020-07-05</td>\n",
              "      <td>2</td>\n",
              "      <td>E5823</td>\n",
              "      <td>6</td>\n",
              "      <td>Chrome Mobile WebView</td>\n",
              "      <td>0</td>\n",
              "      <td>1</td>\n",
              "      <td>Chrome</td>\n",
              "      <td>Other</td>\n",
              "      <td>No</td>\n",
              "    </tr>\n",
              "    <tr>\n",
              "      <th>3</th>\n",
              "      <td>00187412-2932-4542-a8ef-3633901c98d9</td>\n",
              "      <td>control</td>\n",
              "      <td>2020-07-03</td>\n",
              "      <td>15</td>\n",
              "      <td>Samsung SM-A705FN</td>\n",
              "      <td>6</td>\n",
              "      <td>Facebook</td>\n",
              "      <td>0</td>\n",
              "      <td>0</td>\n",
              "      <td>Facebook</td>\n",
              "      <td>Samsung</td>\n",
              "      <td>Non Response</td>\n",
              "    </tr>\n",
              "    <tr>\n",
              "      <th>4</th>\n",
              "      <td>001a7785-d3fe-4e11-a344-c8735acacc2c</td>\n",
              "      <td>control</td>\n",
              "      <td>2020-07-03</td>\n",
              "      <td>15</td>\n",
              "      <td>Generic Smartphone</td>\n",
              "      <td>6</td>\n",
              "      <td>Chrome Mobile</td>\n",
              "      <td>0</td>\n",
              "      <td>0</td>\n",
              "      <td>Chrome</td>\n",
              "      <td>Non Specified</td>\n",
              "      <td>Non Response</td>\n",
              "    </tr>\n",
              "  </tbody>\n",
              "</table>\n",
              "</div>\n",
              "    <div class=\"colab-df-buttons\">\n",
              "\n",
              "  <div class=\"colab-df-container\">\n",
              "    <button class=\"colab-df-convert\" onclick=\"convertToInteractive('df-7308c5cb-2a8b-4482-8143-b5ddbfd4f775')\"\n",
              "            title=\"Convert this dataframe to an interactive table.\"\n",
              "            style=\"display:none;\">\n",
              "\n",
              "  <svg xmlns=\"http://www.w3.org/2000/svg\" height=\"24px\" viewBox=\"0 -960 960 960\">\n",
              "    <path d=\"M120-120v-720h720v720H120Zm60-500h600v-160H180v160Zm220 220h160v-160H400v160Zm0 220h160v-160H400v160ZM180-400h160v-160H180v160Zm440 0h160v-160H620v160ZM180-180h160v-160H180v160Zm440 0h160v-160H620v160Z\"/>\n",
              "  </svg>\n",
              "    </button>\n",
              "\n",
              "  <style>\n",
              "    .colab-df-container {\n",
              "      display:flex;\n",
              "      gap: 12px;\n",
              "    }\n",
              "\n",
              "    .colab-df-convert {\n",
              "      background-color: #E8F0FE;\n",
              "      border: none;\n",
              "      border-radius: 50%;\n",
              "      cursor: pointer;\n",
              "      display: none;\n",
              "      fill: #1967D2;\n",
              "      height: 32px;\n",
              "      padding: 0 0 0 0;\n",
              "      width: 32px;\n",
              "    }\n",
              "\n",
              "    .colab-df-convert:hover {\n",
              "      background-color: #E2EBFA;\n",
              "      box-shadow: 0px 1px 2px rgba(60, 64, 67, 0.3), 0px 1px 3px 1px rgba(60, 64, 67, 0.15);\n",
              "      fill: #174EA6;\n",
              "    }\n",
              "\n",
              "    .colab-df-buttons div {\n",
              "      margin-bottom: 4px;\n",
              "    }\n",
              "\n",
              "    [theme=dark] .colab-df-convert {\n",
              "      background-color: #3B4455;\n",
              "      fill: #D2E3FC;\n",
              "    }\n",
              "\n",
              "    [theme=dark] .colab-df-convert:hover {\n",
              "      background-color: #434B5C;\n",
              "      box-shadow: 0px 1px 3px 1px rgba(0, 0, 0, 0.15);\n",
              "      filter: drop-shadow(0px 1px 2px rgba(0, 0, 0, 0.3));\n",
              "      fill: #FFFFFF;\n",
              "    }\n",
              "  </style>\n",
              "\n",
              "    <script>\n",
              "      const buttonEl =\n",
              "        document.querySelector('#df-7308c5cb-2a8b-4482-8143-b5ddbfd4f775 button.colab-df-convert');\n",
              "      buttonEl.style.display =\n",
              "        google.colab.kernel.accessAllowed ? 'block' : 'none';\n",
              "\n",
              "      async function convertToInteractive(key) {\n",
              "        const element = document.querySelector('#df-7308c5cb-2a8b-4482-8143-b5ddbfd4f775');\n",
              "        const dataTable =\n",
              "          await google.colab.kernel.invokeFunction('convertToInteractive',\n",
              "                                                    [key], {});\n",
              "        if (!dataTable) return;\n",
              "\n",
              "        const docLinkHtml = 'Like what you see? Visit the ' +\n",
              "          '<a target=\"_blank\" href=https://colab.research.google.com/notebooks/data_table.ipynb>data table notebook</a>'\n",
              "          + ' to learn more about interactive tables.';\n",
              "        element.innerHTML = '';\n",
              "        dataTable['output_type'] = 'display_data';\n",
              "        await google.colab.output.renderOutput(dataTable, element);\n",
              "        const docLink = document.createElement('div');\n",
              "        docLink.innerHTML = docLinkHtml;\n",
              "        element.appendChild(docLink);\n",
              "      }\n",
              "    </script>\n",
              "  </div>\n",
              "\n",
              "\n",
              "    <div id=\"df-72c7bafb-47ec-4e65-8f8c-fecc29482c3a\">\n",
              "      <button class=\"colab-df-quickchart\" onclick=\"quickchart('df-72c7bafb-47ec-4e65-8f8c-fecc29482c3a')\"\n",
              "                title=\"Suggest charts\"\n",
              "                style=\"display:none;\">\n",
              "\n",
              "<svg xmlns=\"http://www.w3.org/2000/svg\" height=\"24px\"viewBox=\"0 0 24 24\"\n",
              "     width=\"24px\">\n",
              "    <g>\n",
              "        <path d=\"M19 3H5c-1.1 0-2 .9-2 2v14c0 1.1.9 2 2 2h14c1.1 0 2-.9 2-2V5c0-1.1-.9-2-2-2zM9 17H7v-7h2v7zm4 0h-2V7h2v10zm4 0h-2v-4h2v4z\"/>\n",
              "    </g>\n",
              "</svg>\n",
              "      </button>\n",
              "\n",
              "<style>\n",
              "  .colab-df-quickchart {\n",
              "      --bg-color: #E8F0FE;\n",
              "      --fill-color: #1967D2;\n",
              "      --hover-bg-color: #E2EBFA;\n",
              "      --hover-fill-color: #174EA6;\n",
              "      --disabled-fill-color: #AAA;\n",
              "      --disabled-bg-color: #DDD;\n",
              "  }\n",
              "\n",
              "  [theme=dark] .colab-df-quickchart {\n",
              "      --bg-color: #3B4455;\n",
              "      --fill-color: #D2E3FC;\n",
              "      --hover-bg-color: #434B5C;\n",
              "      --hover-fill-color: #FFFFFF;\n",
              "      --disabled-bg-color: #3B4455;\n",
              "      --disabled-fill-color: #666;\n",
              "  }\n",
              "\n",
              "  .colab-df-quickchart {\n",
              "    background-color: var(--bg-color);\n",
              "    border: none;\n",
              "    border-radius: 50%;\n",
              "    cursor: pointer;\n",
              "    display: none;\n",
              "    fill: var(--fill-color);\n",
              "    height: 32px;\n",
              "    padding: 0;\n",
              "    width: 32px;\n",
              "  }\n",
              "\n",
              "  .colab-df-quickchart:hover {\n",
              "    background-color: var(--hover-bg-color);\n",
              "    box-shadow: 0 1px 2px rgba(60, 64, 67, 0.3), 0 1px 3px 1px rgba(60, 64, 67, 0.15);\n",
              "    fill: var(--button-hover-fill-color);\n",
              "  }\n",
              "\n",
              "  .colab-df-quickchart-complete:disabled,\n",
              "  .colab-df-quickchart-complete:disabled:hover {\n",
              "    background-color: var(--disabled-bg-color);\n",
              "    fill: var(--disabled-fill-color);\n",
              "    box-shadow: none;\n",
              "  }\n",
              "\n",
              "  .colab-df-spinner {\n",
              "    border: 2px solid var(--fill-color);\n",
              "    border-color: transparent;\n",
              "    border-bottom-color: var(--fill-color);\n",
              "    animation:\n",
              "      spin 1s steps(1) infinite;\n",
              "  }\n",
              "\n",
              "  @keyframes spin {\n",
              "    0% {\n",
              "      border-color: transparent;\n",
              "      border-bottom-color: var(--fill-color);\n",
              "      border-left-color: var(--fill-color);\n",
              "    }\n",
              "    20% {\n",
              "      border-color: transparent;\n",
              "      border-left-color: var(--fill-color);\n",
              "      border-top-color: var(--fill-color);\n",
              "    }\n",
              "    30% {\n",
              "      border-color: transparent;\n",
              "      border-left-color: var(--fill-color);\n",
              "      border-top-color: var(--fill-color);\n",
              "      border-right-color: var(--fill-color);\n",
              "    }\n",
              "    40% {\n",
              "      border-color: transparent;\n",
              "      border-right-color: var(--fill-color);\n",
              "      border-top-color: var(--fill-color);\n",
              "    }\n",
              "    60% {\n",
              "      border-color: transparent;\n",
              "      border-right-color: var(--fill-color);\n",
              "    }\n",
              "    80% {\n",
              "      border-color: transparent;\n",
              "      border-right-color: var(--fill-color);\n",
              "      border-bottom-color: var(--fill-color);\n",
              "    }\n",
              "    90% {\n",
              "      border-color: transparent;\n",
              "      border-bottom-color: var(--fill-color);\n",
              "    }\n",
              "  }\n",
              "</style>\n",
              "\n",
              "      <script>\n",
              "        async function quickchart(key) {\n",
              "          const quickchartButtonEl =\n",
              "            document.querySelector('#' + key + ' button');\n",
              "          quickchartButtonEl.disabled = true;  // To prevent multiple clicks.\n",
              "          quickchartButtonEl.classList.add('colab-df-spinner');\n",
              "          try {\n",
              "            const charts = await google.colab.kernel.invokeFunction(\n",
              "                'suggestCharts', [key], {});\n",
              "          } catch (error) {\n",
              "            console.error('Error during call to suggestCharts:', error);\n",
              "          }\n",
              "          quickchartButtonEl.classList.remove('colab-df-spinner');\n",
              "          quickchartButtonEl.classList.add('colab-df-quickchart-complete');\n",
              "        }\n",
              "        (() => {\n",
              "          let quickchartButtonEl =\n",
              "            document.querySelector('#df-72c7bafb-47ec-4e65-8f8c-fecc29482c3a button');\n",
              "          quickchartButtonEl.style.display =\n",
              "            google.colab.kernel.accessAllowed ? 'block' : 'none';\n",
              "        })();\n",
              "      </script>\n",
              "    </div>\n",
              "\n",
              "    </div>\n",
              "  </div>\n"
            ],
            "application/vnd.google.colaboratory.intrinsic+json": {
              "type": "dataframe",
              "variable_name": "ab",
              "summary": "{\n  \"name\": \"ab\",\n  \"rows\": 8077,\n  \"fields\": [\n    {\n      \"column\": \"auction_id\",\n      \"properties\": {\n        \"dtype\": \"string\",\n        \"num_unique_values\": 8077,\n        \"samples\": [\n          \"34da343c-b2cf-452a-a12d-ea3475b4b426\",\n          \"e05daa86-33b5-4607-8168-8c6f475d8cbf\",\n          \"45785b95-514a-4fa8-a094-81df687e3a7d\"\n        ],\n        \"semantic_type\": \"\",\n        \"description\": \"\"\n      }\n    },\n    {\n      \"column\": \"experiment\",\n      \"properties\": {\n        \"dtype\": \"category\",\n        \"num_unique_values\": 2,\n        \"samples\": [\n          \"control\",\n          \"exposed\"\n        ],\n        \"semantic_type\": \"\",\n        \"description\": \"\"\n      }\n    },\n    {\n      \"column\": \"date\",\n      \"properties\": {\n        \"dtype\": \"object\",\n        \"num_unique_values\": 8,\n        \"samples\": [\n          \"2020-07-07\",\n          \"2020-07-04\"\n        ],\n        \"semantic_type\": \"\",\n        \"description\": \"\"\n      }\n    },\n    {\n      \"column\": \"hour\",\n      \"properties\": {\n        \"dtype\": \"number\",\n        \"std\": 5,\n        \"min\": 0,\n        \"max\": 23,\n        \"num_unique_values\": 24,\n        \"samples\": [\n          6,\n          18\n        ],\n        \"semantic_type\": \"\",\n        \"description\": \"\"\n      }\n    },\n    {\n      \"column\": \"device_make\",\n      \"properties\": {\n        \"dtype\": \"category\",\n        \"num_unique_values\": 269,\n        \"samples\": [\n          \"Samsung SM-G975F\",\n          \"Pixel 2\"\n        ],\n        \"semantic_type\": \"\",\n        \"description\": \"\"\n      }\n    },\n    {\n      \"column\": \"platform_os\",\n      \"properties\": {\n        \"dtype\": \"number\",\n        \"std\": 0,\n        \"min\": 5,\n        \"max\": 7,\n        \"num_unique_values\": 3,\n        \"samples\": [\n          6,\n          5\n        ],\n        \"semantic_type\": \"\",\n        \"description\": \"\"\n      }\n    },\n    {\n      \"column\": \"browser\",\n      \"properties\": {\n        \"dtype\": \"category\",\n        \"num_unique_values\": 15,\n        \"samples\": [\n          \"Edge Mobile\",\n          \"Pinterest\"\n        ],\n        \"semantic_type\": \"\",\n        \"description\": \"\"\n      }\n    },\n    {\n      \"column\": \"yes\",\n      \"properties\": {\n        \"dtype\": \"number\",\n        \"std\": 0,\n        \"min\": 0,\n        \"max\": 1,\n        \"num_unique_values\": 2,\n        \"samples\": [\n          1,\n          0\n        ],\n        \"semantic_type\": \"\",\n        \"description\": \"\"\n      }\n    },\n    {\n      \"column\": \"no\",\n      \"properties\": {\n        \"dtype\": \"number\",\n        \"std\": 0,\n        \"min\": 0,\n        \"max\": 1,\n        \"num_unique_values\": 2,\n        \"samples\": [\n          1,\n          0\n        ],\n        \"semantic_type\": \"\",\n        \"description\": \"\"\n      }\n    },\n    {\n      \"column\": \"browser_clean\",\n      \"properties\": {\n        \"dtype\": \"category\",\n        \"num_unique_values\": 5,\n        \"samples\": [\n          \"Facebook\",\n          \"Other\"\n        ],\n        \"semantic_type\": \"\",\n        \"description\": \"\"\n      }\n    },\n    {\n      \"column\": \"device_clean\",\n      \"properties\": {\n        \"dtype\": \"category\",\n        \"num_unique_values\": 8,\n        \"samples\": [\n          \"Other\",\n          \"Google\"\n        ],\n        \"semantic_type\": \"\",\n        \"description\": \"\"\n      }\n    },\n    {\n      \"column\": \"response\",\n      \"properties\": {\n        \"dtype\": \"category\",\n        \"num_unique_values\": 3,\n        \"samples\": [\n          \"Non Response\",\n          \"No\"\n        ],\n        \"semantic_type\": \"\",\n        \"description\": \"\"\n      }\n    }\n  ]\n}"
            }
          },
          "metadata": {},
          "execution_count": 27
        }
      ]
    },
    {
      "cell_type": "code",
      "source": [
        "ab.info()"
      ],
      "metadata": {
        "id": "onH5neFW_Rtt",
        "colab": {
          "base_uri": "https://localhost:8080/"
        },
        "outputId": "2e578cd5-89ce-469a-a898-109d75de5c30"
      },
      "execution_count": 28,
      "outputs": [
        {
          "output_type": "stream",
          "name": "stdout",
          "text": [
            "<class 'pandas.core.frame.DataFrame'>\n",
            "RangeIndex: 8077 entries, 0 to 8076\n",
            "Data columns (total 12 columns):\n",
            " #   Column         Non-Null Count  Dtype \n",
            "---  ------         --------------  ----- \n",
            " 0   auction_id     8077 non-null   object\n",
            " 1   experiment     8077 non-null   object\n",
            " 2   date           8077 non-null   object\n",
            " 3   hour           8077 non-null   int64 \n",
            " 4   device_make    8077 non-null   object\n",
            " 5   platform_os    8077 non-null   int64 \n",
            " 6   browser        8077 non-null   object\n",
            " 7   yes            8077 non-null   int64 \n",
            " 8   no             8077 non-null   int64 \n",
            " 9   browser_clean  8077 non-null   object\n",
            " 10  device_clean   8077 non-null   object\n",
            " 11  response       8077 non-null   object\n",
            "dtypes: int64(4), object(8)\n",
            "memory usage: 757.3+ KB\n"
          ]
        }
      ]
    },
    {
      "cell_type": "code",
      "source": [
        "# The date column reverted to an object, so we'll force to datetime again\n",
        "ab[\"date\"] = pd.to_datetime(ab[\"date\"])"
      ],
      "metadata": {
        "id": "Zig3Fwh0_fTf"
      },
      "execution_count": 29,
      "outputs": []
    },
    {
      "cell_type": "markdown",
      "source": [
        "<a id=\"4b\"></a>\n",
        "### Experiment"
      ],
      "metadata": {
        "id": "JGbmFfeW82XI"
      }
    },
    {
      "cell_type": "code",
      "source": [
        "# pg.color_scheme(c_type=\"complimentary\")\n",
        "\n",
        "# The complimentary colors are: rgb(31,119,180) & rgb(180,93,31).\n",
        "# The complimentary colors are: #1F77B4, #B45D1F."
      ],
      "metadata": {
        "id": "2PZlEIb9rn4s"
      },
      "execution_count": 30,
      "outputs": []
    },
    {
      "cell_type": "code",
      "source": [
        "graphs.countplots(df      = ab,\n",
        "                  columns = [\"experiment\"],\n",
        "                  titles  = [\"Experiment Distribution\"],\n",
        "                  labels  = [\"Group\"],\n",
        "                  ylabel  = \"Count\",\n",
        "                  dim     = (15,6),\n",
        "                  palette = [\"#1F77B4\",\"#B45D1F\"],\n",
        "                  row     = 1,\n",
        "                  col     = 1)"
      ],
      "metadata": {
        "id": "3qfn1cjZ84vw",
        "colab": {
          "base_uri": "https://localhost:8080/",
          "height": 526
        },
        "outputId": "982ef1f7-639d-43f6-9c93-c51987e3018f"
      },
      "execution_count": 31,
      "outputs": [
        {
          "output_type": "display_data",
          "data": {
            "text/plain": [
              "<Figure size 1500x600 with 1 Axes>"
            ],
            "image/png": "[encoded data removed]"
          },
          "metadata": {}
        }
      ]
    },
    {
      "cell_type": "markdown",
      "source": [
        "Our groups aren't exactly equal, but it's close enough. The difference in sizing is likely due to the effect of subsetting the dataframe earlier."
      ],
      "metadata": {
        "id": "JImJat5592Vm"
      }
    },
    {
      "cell_type": "markdown",
      "source": [
        "<a id=\"4c\"></a>\n",
        "### Experiment By Response"
      ],
      "metadata": {
        "id": "1pVGgB1YkSgd"
      }
    },
    {
      "cell_type": "code",
      "source": [
        "# pg.color_scheme(c_type=\"triadic\")\n",
        "\n",
        "# The triadic colors are: rgb(31,119,180), rgb(118,180,31), rgb(180,31,118).\n",
        "# The triadic colors are: #1F77B4, #B41F76, #76B41F"
      ],
      "metadata": {
        "id": "vhsGsUGJrBw3"
      },
      "execution_count": 32,
      "outputs": []
    },
    {
      "cell_type": "code",
      "source": [
        "graphs.countplots(df      = ab,\n",
        "                  columns = [\"experiment\"],\n",
        "                  titles  = [\"Experiment Distribution By Response\"],\n",
        "                  labels  = [\"Group\"],\n",
        "                  ylabel  = \"Count\",\n",
        "                  dim     = (15,6),\n",
        "                  hue     = \"response\",\n",
        "                  palette = [\"#1F77B4\",\"#B41F76\",\"#76B41F\"],\n",
        "                  row     = 1,\n",
        "                  col     = 1)"
      ],
      "metadata": {
        "id": "dC6Oc4o2hjge",
        "colab": {
          "base_uri": "https://localhost:8080/",
          "height": 526
        },
        "outputId": "029bb3d1-ab0f-4c8e-dde1-b7c5f3cdf2bd"
      },
      "execution_count": 33,
      "outputs": [
        {
          "output_type": "display_data",
          "data": {
            "text/plain": [
              "<Figure size 1500x600 with 1 Axes>"
            ],
            "image/png": "[encoded data removed]"
          },
          "metadata": {}
        }
      ]
    },
    {
      "cell_type": "markdown",
      "source": [
        "The ratio response/no response ratio between the two groups seems similar at a cursory glance."
      ],
      "metadata": {
        "id": "jG2-wNIMoPVc"
      }
    },
    {
      "cell_type": "markdown",
      "source": [
        "[Section Top](#Visualization)\n",
        "\n",
        "[Top](#Table-Of-Contents)"
      ],
      "metadata": {
        "id": "5qUznv2GAAvu"
      }
    },
    {
      "cell_type": "markdown",
      "source": [
        "<a id=\"4d\"></a>\n",
        "### Response"
      ],
      "metadata": {
        "id": "8TSU9-2Wklqt"
      }
    },
    {
      "cell_type": "code",
      "source": [
        "graphs.countplots(df      = ab,\n",
        "                  columns = [\"response\"],\n",
        "                  titles  = [\"Participant Response\"],\n",
        "                  labels  = [\"Response\"],\n",
        "                  ylabel  = \"Count\",\n",
        "                  palette = [\"#1F77B4\",\"#B41F76\",\"#76B41F\"],\n",
        "                  dim     = (15,6),\n",
        "                  row     = 1,\n",
        "                  col     = 1)"
      ],
      "metadata": {
        "id": "o-OfPlh-kpXd",
        "colab": {
          "base_uri": "https://localhost:8080/",
          "height": 526
        },
        "outputId": "fa857e83-c5df-45ef-e772-4e780d509515"
      },
      "execution_count": 34,
      "outputs": [
        {
          "output_type": "display_data",
          "data": {
            "text/plain": [
              "<Figure size 1500x600 with 1 Axes>"
            ],
            "image/png": "[encoded data removed]"
          },
          "metadata": {}
        }
      ]
    },
    {
      "cell_type": "markdown",
      "source": [
        "As we've seen, only ~15% of total experiment participants actually responded."
      ],
      "metadata": {
        "id": "Z77XK1CFuv6z"
      }
    },
    {
      "cell_type": "markdown",
      "source": [
        "<a id=\"4e\"></a>\n",
        "### Experiment Date"
      ],
      "metadata": {
        "id": "2_feifXekuK_"
      }
    },
    {
      "cell_type": "code",
      "source": [
        "graphs.countplots_dt(df      = ab,\n",
        "                     columns = [\"date\"],\n",
        "                     titles  = [\"Experiment Date\"],\n",
        "                     labels  = [\"Date\"],\n",
        "                     ylabel  = \"Count\",\n",
        "                     palette = \"Dark2\",\n",
        "                     dim     = (18,6),\n",
        "                     row     = 1,\n",
        "                     col     = 1)"
      ],
      "metadata": {
        "collapsed": true,
        "id": "r_EdB02m9lmR",
        "colab": {
          "base_uri": "https://localhost:8080/",
          "height": 440
        },
        "outputId": "5d505db3-c2cb-4893-f113-b5c6a8fc9234"
      },
      "execution_count": 35,
      "outputs": [
        {
          "output_type": "display_data",
          "data": {
            "text/plain": [
              "<Figure size 1800x600 with 1 Axes>"
            ],
            "image/png": "[encoded data removed]"
          },
          "metadata": {}
        }
      ]
    },
    {
      "cell_type": "markdown",
      "source": [
        "We check a calendar for July 2020:\n",
        "\n",
        "| Month | Day | Day Of Week |\n",
        "|:-----:|:---:|:------------|\n",
        "| July  | 3   | Friday      |\n",
        "| July  | 4   | Saturday    |\n",
        "| July  | 5   | Sunday      |\n",
        "| July  | 6   | Monday      |\n",
        "| July  | 7   | Tuesday     |\n",
        "| July  | 8   | Wednesday   |\n",
        "| July  | 9   | Thursday    |\n",
        "| July  | 10  | Friday      |\n",
        "\n",
        "One of the problems with having an experiment that ran for <2 weeks is that we cannot be sure if we can take into account changes in traffic caused by weekend vs weekday browsing. Additionally, we are working on a subset of the overall data set which could be introducing other biases.\n",
        "\n",
        "Aditionally there is a spike on July 6th, which may be indicative of a bias in the data"
      ],
      "metadata": {
        "id": "NT4K02_4odqn"
      }
    },
    {
      "cell_type": "code",
      "source": [
        "graphs.countplots_dt(df      = ab,\n",
        "                     columns = [\"date\"],\n",
        "                     titles  = [\"Experiment Date\"],\n",
        "                     labels  = [\"Date\"],\n",
        "                     ylabel  = \"Count\",\n",
        "                     palette = [\"#1F77B4\",\"#B45D1F\"],\n",
        "                     hue     = \"experiment\",\n",
        "                     dim     = (18,6),\n",
        "                     row     = 1,\n",
        "                     col     = 1)"
      ],
      "metadata": {
        "colab": {
          "base_uri": "https://localhost:8080/",
          "height": 440
        },
        "id": "27dWrTFrvHDS",
        "outputId": "e1274a76-8209-4c24-f9cf-3bc0de0fa015"
      },
      "execution_count": 36,
      "outputs": [
        {
          "output_type": "display_data",
          "data": {
            "text/plain": [
              "<Figure size 1800x600 with 1 Axes>"
            ],
            "image/png": "[encoded data removed]"
          },
          "metadata": {}
        }
      ]
    },
    {
      "cell_type": "markdown",
      "source": [
        "When dividing the date further by experiment group, we can see the spike is only present in the control population."
      ],
      "metadata": {
        "id": "1xygg4wNvfiO"
      }
    },
    {
      "cell_type": "markdown",
      "source": [
        "[Section Top](#Visualization)\n",
        "\n",
        "[Top](#Table-Of-Contents)"
      ],
      "metadata": {
        "id": "dGu-n-aIAM0p"
      }
    },
    {
      "cell_type": "markdown",
      "source": [
        "<a id=\"4f\"></a>\n",
        "### Experiment Hour"
      ],
      "metadata": {
        "id": "n_F_vvBNkx8c"
      }
    },
    {
      "cell_type": "code",
      "source": [
        "graphs.countplots(df      = ab,\n",
        "                  columns = [\"hour\"],\n",
        "                  titles  = [\"Experiment Hour\"],\n",
        "                  labels  = [\"Hour Of The Day\"],\n",
        "                  ylabel  = \"Count\",\n",
        "                  palette = \"Dark2\",\n",
        "                  dim     = (18,6),\n",
        "                  row     = 1,\n",
        "                  col     = 1)"
      ],
      "metadata": {
        "id": "89c5RgJl_Abc",
        "colab": {
          "base_uri": "https://localhost:8080/",
          "height": 440
        },
        "outputId": "39205659-e1ad-4af0-d6ca-64d7a4cad9bd"
      },
      "execution_count": 37,
      "outputs": [
        {
          "output_type": "display_data",
          "data": {
            "text/plain": [
              "<Figure size 1800x600 with 1 Axes>"
            ],
            "image/png": "[encoded data removed]"
          },
          "metadata": {}
        }
      ]
    },
    {
      "cell_type": "markdown",
      "source": [
        "We don't have the full picture of the data, but the spike in IDs during 15:00 is interesting to us: we expected to see a peak in the afternoon, but that may be due to not having the full data set."
      ],
      "metadata": {
        "id": "t5DCvUlopl_x"
      }
    },
    {
      "cell_type": "code",
      "source": [
        "graphs.countplots(df      = ab,\n",
        "                  columns = [\"hour\"],\n",
        "                  titles  = [\"Experiment Hour\"],\n",
        "                  labels  = [\"Hour Of The Day\"],\n",
        "                  ylabel  = \"Count\",\n",
        "                  palette = [\"#1F77B4\",\"#B45D1F\"],\n",
        "                  hue     = \"experiment\",\n",
        "                  dim     = (18,6),\n",
        "                  row     = 1,\n",
        "                  col     = 1)"
      ],
      "metadata": {
        "id": "4RXnUleDvt6l",
        "colab": {
          "base_uri": "https://localhost:8080/",
          "height": 440
        },
        "outputId": "9a80257c-52c2-4423-e8d4-91238a453850"
      },
      "execution_count": 38,
      "outputs": [
        {
          "output_type": "display_data",
          "data": {
            "text/plain": [
              "<Figure size 1800x600 with 1 Axes>"
            ],
            "image/png": "[encoded data removed]"
          },
          "metadata": {}
        }
      ]
    },
    {
      "cell_type": "markdown",
      "source": [
        "Drilling down further, we can see that the anomaly at 15:00 is only in the control group, which is similar to the spike we saw in the control group for July 6th."
      ],
      "metadata": {
        "id": "d8c7bI28v5-v"
      }
    },
    {
      "cell_type": "markdown",
      "source": [
        "[Section Top](#Visualization)"
      ],
      "metadata": {
        "id": "GSlBeegoAOtN"
      }
    },
    {
      "cell_type": "markdown",
      "source": [
        "<a id=\"4g\"></a>\n",
        "### Device Make"
      ],
      "metadata": {
        "id": "ZrkdmfxPk2yl"
      }
    },
    {
      "cell_type": "code",
      "source": [
        "# Update mapping\n",
        "graphs.countplots_order(df      = ab,\n",
        "                        columns = [\"device_clean\"],\n",
        "                        titles  = [\"Device Maker\"],\n",
        "                        labels  = [\"Manufacturer\"],\n",
        "                        ylabel  = \"Count\",\n",
        "                        palette = \"Dark2\",\n",
        "                        dim     = (18,6),\n",
        "                        row     = 1,\n",
        "                        col     = 1)"
      ],
      "metadata": {
        "id": "DT-g1BwHCII0",
        "colab": {
          "base_uri": "https://localhost:8080/",
          "height": 440
        },
        "outputId": "b8925dec-f2b4-4553-b7c4-33871fe1a4c1"
      },
      "execution_count": 39,
      "outputs": [
        {
          "output_type": "display_data",
          "data": {
            "text/plain": [
              "<Figure size 1800x600 with 1 Axes>"
            ],
            "image/png": "[encoded data removed]"
          },
          "metadata": {}
        }
      ]
    },
    {
      "cell_type": "markdown",
      "source": [
        "This isn't the most helpful column as the majority of the maker is non-specified. If we were modeling rather than A/B testing, we would consider dropping the column."
      ],
      "metadata": {
        "id": "MLNTQQ4HqCuE"
      }
    },
    {
      "cell_type": "markdown",
      "source": [
        "<a id=\"4h\"></a>\n",
        "### Operating System"
      ],
      "metadata": {
        "id": "rF_ShuKmk5SO"
      }
    },
    {
      "cell_type": "code",
      "source": [
        "graphs.countplots_order(df      = ab,\n",
        "                        columns = [\"platform_os\"],\n",
        "                        titles  = [\"Operating System\"],\n",
        "                        labels  = [\"System\"],\n",
        "                        ylabel  = \"Count\",\n",
        "                        palette = [\"#1F77B4\",\"#B41F76\",\"#76B41F\"],\n",
        "                        dim     = (15,6),\n",
        "                        row     = 1,\n",
        "                        col     = 1)"
      ],
      "metadata": {
        "id": "HDJGLVP_CUID",
        "colab": {
          "base_uri": "https://localhost:8080/",
          "height": 526
        },
        "outputId": "47dc66f8-e62f-4137-9a6e-94d2c886b404"
      },
      "execution_count": 40,
      "outputs": [
        {
          "output_type": "display_data",
          "data": {
            "text/plain": [
              "<Figure size 1500x600 with 1 Axes>"
            ],
            "image/png": "[encoded data removed]"
          },
          "metadata": {}
        }
      ]
    },
    {
      "cell_type": "markdown",
      "source": [
        "- There is exactly 1 value for `7`.\n",
        "\n",
        "- The author does not provide information what operating systems are encoded by `5`, `6`, and `7`."
      ],
      "metadata": {
        "id": "SIEs06_fqQvd"
      }
    },
    {
      "cell_type": "markdown",
      "source": [
        "<a id=\"4i\"></a>\n",
        "### Browser"
      ],
      "metadata": {
        "id": "Jy-nM_Ihk8fr"
      }
    },
    {
      "cell_type": "code",
      "source": [
        "# Address nulls\n",
        "graphs.countplots_order(df      = ab,\n",
        "                        columns = [\"browser_clean\"],\n",
        "                        titles  = [\"Internet Browser\"],\n",
        "                        labels  = [\"Browswer\"],\n",
        "                        ylabel  = \"Count\",\n",
        "                        palette = \"Dark2\",\n",
        "                        dim     = (15,6),\n",
        "                        row     = 1,\n",
        "                        col     = 1)"
      ],
      "metadata": {
        "id": "Mx63extvCjEh",
        "colab": {
          "base_uri": "https://localhost:8080/",
          "height": 526
        },
        "outputId": "4138ba39-bdbe-4c1a-fa2f-633ba9215570"
      },
      "execution_count": 41,
      "outputs": [
        {
          "output_type": "display_data",
          "data": {
            "text/plain": [
              "<Figure size 1500x600 with 1 Axes>"
            ],
            "image/png": "[encoded data removed]"
          },
          "metadata": {}
        }
      ]
    },
    {
      "cell_type": "markdown",
      "source": [
        "- There are 11 values for `Other`: we grouped single digit count values into one category to make the visual neater.\n",
        "\n",
        "-  No surprises here, Chrome is the most popular mobile browser worldwide; though we were expecting to see more Safari. Again, this is a susbet of the data so overall trends may be different."
      ],
      "metadata": {
        "id": "2o9g-8v6qggB"
      }
    },
    {
      "cell_type": "markdown",
      "source": [
        "[Section Top](#Visualization)\n",
        "\n",
        "[Top](#Table-Of-Contents)"
      ],
      "metadata": {
        "id": "SHTUyno0ARmF"
      }
    }
  ]
}